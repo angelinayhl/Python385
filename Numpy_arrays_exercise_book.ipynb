{
  "nbformat": 4,
  "nbformat_minor": 0,
  "metadata": {
    "colab": {
      "name": "Numpy_arrays_exercise_book.ipynb",
      "version": "0.3.2",
      "provenance": [],
      "collapsed_sections": [
        "rHg7L2XYIg3S",
        "E6soS8slIg3T",
        "2u4zSDG5Ig3a",
        "Mq7g3EGeIg3k",
        "GSNDSG3_Ig3w",
        "hZg9iy3EIg4B",
        "ZIPhF8_zIg5K"
      ],
      "include_colab_link": true
    },
    "kernelspec": {
      "display_name": "Python [py35]",
      "language": "python",
      "name": "Python [py35]"
    }
  },
  "cells": [
    {
      "cell_type": "markdown",
      "metadata": {
        "id": "view-in-github",
        "colab_type": "text"
      },
      "source": [
        "<a href=\"https://colab.research.google.com/github/angelinayhl/Python385/blob/master/Numpy_arrays_exercise_book.ipynb\" target=\"_parent\"><img src=\"https://colab.research.google.com/assets/colab-badge.svg\" alt=\"Open In Colab\"/></a>"
      ]
    },
    {
      "metadata": {
        "id": "tl8SPND8Ig1N",
        "colab_type": "text"
      },
      "cell_type": "markdown",
      "source": [
        "# Numpy arrays exercise book"
      ]
    },
    {
      "metadata": {
        "id": "5K56keU8Ig1P",
        "colab_type": "text"
      },
      "cell_type": "markdown",
      "source": [
        "The material we present is from the official Python documentation (see https://docs.python.org/3/tutorial/datastructures.html#tuples-and-sequences)\n",
        "as well Datacamp (https://www.datacamp.com/community/tutorials/18-most-common-python-list-questions-learn-python#gs.w3PIMoY"
      ]
    },
    {
      "metadata": {
        "id": "bPQ5eUVfIg1Q",
        "colab_type": "text"
      },
      "cell_type": "markdown",
      "source": [
        "So far we have learned basic facts on functions, strings, and lists. You will apply them in this next exercise."
      ]
    },
    {
      "metadata": {
        "id": "cUuWi86UIg1S",
        "colab_type": "text"
      },
      "cell_type": "markdown",
      "source": [
        "**Exercise** Write a simple function which checks if a string (you may assume it is given with no punctuation) is a palindrome and returns \"This is a palindrome\" if it is, else \"This is not a palindrome\" if not."
      ]
    },
    {
      "metadata": {
        "id": "NvEZhZQ0Ig1S",
        "colab_type": "code",
        "colab": {}
      },
      "cell_type": "code",
      "source": [
        "def pal(wrd):\n",
        "    wrd_no_space = ___\n",
        "    rvs_wrd = ___\n",
        "    return \"This is a palindrome\" if rvs_wrd == wrd_no_space else \"This is not a palindrome\""
      ],
      "execution_count": 0,
      "outputs": []
    },
    {
      "metadata": {
        "id": "01GjfZRQIg1X",
        "colab_type": "code",
        "colab": {},
        "outputId": "88fb0ca9-5f16-46eb-adbf-5e876792773f"
      },
      "cell_type": "code",
      "source": [
        "# test \n",
        "print(\"pal('racecar'): \" + str(pal('racecar')))\n",
        "print(\"pal('palindrome'): \" + str(pal('palindrome')))\n",
        "print(\"pal('a dog a plan a canal pagoda'): \" + str(pal('a dog a plan a canal pagoda')))"
      ],
      "execution_count": 0,
      "outputs": [
        {
          "output_type": "stream",
          "text": [
            "pal('racecar'): This is a palindrome\n",
            "pal('palindrome'): This is a palindrome\n",
            "pal('a dog a plan a canal pagoda'): This is a palindrome\n"
          ],
          "name": "stdout"
        }
      ]
    },
    {
      "metadata": {
        "id": "C19rxoOXIg1e",
        "colab_type": "text"
      },
      "cell_type": "markdown",
      "source": [
        "**Expected output for test**:  \n",
        "<code>\n",
        "pal('racecar'): This is a palindrome  \n",
        "pal('palindrome'): This is not a palindrome\n",
        "pal('a dog a plan a canal pagoda'): This is a palindrome\n",
        "</code>"
      ]
    },
    {
      "metadata": {
        "id": "GhnHmV6SIg1f",
        "colab_type": "text"
      },
      "cell_type": "markdown",
      "source": [
        "### Tuples\n",
        "A tuple consists of a number of values separated by commas, for instance:"
      ]
    },
    {
      "metadata": {
        "id": "7itAuoFbIg1g",
        "colab_type": "code",
        "colab": {},
        "outputId": "807c97d0-ada7-4e59-fa16-b48133085c58"
      },
      "cell_type": "code",
      "source": [
        "t = 12345, 54321, 'hello!'\n",
        "t[0]"
      ],
      "execution_count": 0,
      "outputs": [
        {
          "output_type": "execute_result",
          "data": {
            "text/plain": [
              "12345"
            ]
          },
          "metadata": {
            "tags": []
          },
          "execution_count": 11
        }
      ]
    },
    {
      "metadata": {
        "id": "wnTb3vIiIg1l",
        "colab_type": "code",
        "colab": {},
        "outputId": "1f0558ea-2128-47ba-ce8a-f2ea1d3fe1e8"
      },
      "cell_type": "code",
      "source": [
        "t"
      ],
      "execution_count": 0,
      "outputs": [
        {
          "output_type": "execute_result",
          "data": {
            "text/plain": [
              "(12345, 54321, 'hello!')"
            ]
          },
          "metadata": {
            "tags": []
          },
          "execution_count": 12
        }
      ]
    },
    {
      "metadata": {
        "id": "nIDG_EOtIg1p",
        "colab_type": "code",
        "colab": {},
        "outputId": "5272bf6a-1c99-4d1d-f936-813d1bf6629c"
      },
      "cell_type": "code",
      "source": [
        "# Tuples may be nested:\n",
        "u = t, (1, 2, 3, 4, 5)\n",
        "u"
      ],
      "execution_count": 0,
      "outputs": [
        {
          "output_type": "execute_result",
          "data": {
            "text/plain": [
              "((12345, 54321, 'hello!'), (1, 2, 3, 4, 5))"
            ]
          },
          "metadata": {
            "tags": []
          },
          "execution_count": 13
        }
      ]
    },
    {
      "metadata": {
        "id": "eC_7wvLSIg1t",
        "colab_type": "code",
        "colab": {},
        "outputId": "516122fc-820b-4242-9cbc-9bb0cd02caf0"
      },
      "cell_type": "code",
      "source": [
        "# Tuples are immutable:\n",
        "t[0] = 88888"
      ],
      "execution_count": 0,
      "outputs": [
        {
          "output_type": "error",
          "ename": "TypeError",
          "evalue": "'tuple' object does not support item assignment",
          "traceback": [
            "\u001b[0;31m---------------------------------------------------------------------------\u001b[0m",
            "\u001b[0;31mTypeError\u001b[0m                                 Traceback (most recent call last)",
            "\u001b[0;32m<ipython-input-14-e1a59d9038ee>\u001b[0m in \u001b[0;36m<module>\u001b[0;34m()\u001b[0m\n\u001b[1;32m      1\u001b[0m \u001b[1;31m# Tuples are immutable:\u001b[0m\u001b[1;33m\u001b[0m\u001b[1;33m\u001b[0m\u001b[0m\n\u001b[0;32m----> 2\u001b[0;31m \u001b[0mt\u001b[0m\u001b[1;33m[\u001b[0m\u001b[1;36m0\u001b[0m\u001b[1;33m]\u001b[0m \u001b[1;33m=\u001b[0m \u001b[1;36m88888\u001b[0m\u001b[1;33m\u001b[0m\u001b[0m\n\u001b[0m",
            "\u001b[0;31mTypeError\u001b[0m: 'tuple' object does not support item assignment"
          ]
        }
      ]
    },
    {
      "metadata": {
        "id": "30Qhtg5jIg1z",
        "colab_type": "code",
        "colab": {}
      },
      "cell_type": "code",
      "source": [
        "# but they can contain mutable objects:\n",
        "v = ([1, 2, 3], [3, 2, 1])"
      ],
      "execution_count": 0,
      "outputs": []
    },
    {
      "metadata": {
        "id": "_qaXk19DIg13",
        "colab_type": "code",
        "colab": {},
        "outputId": "7242d6ba-e687-419f-c3ab-c325e30f9118"
      },
      "cell_type": "code",
      "source": [
        "v"
      ],
      "execution_count": 0,
      "outputs": [
        {
          "output_type": "execute_result",
          "data": {
            "text/plain": [
              "([1, 2, 3], [3, 2, 1])"
            ]
          },
          "metadata": {
            "tags": []
          },
          "execution_count": 17
        }
      ]
    },
    {
      "metadata": {
        "id": "ei1cxQkfIg19",
        "colab_type": "text"
      },
      "cell_type": "markdown",
      "source": [
        "As you see, on output tuples are always enclosed in parentheses."
      ]
    },
    {
      "metadata": {
        "id": "YFLgQHVWIg1_",
        "colab_type": "text"
      },
      "cell_type": "markdown",
      "source": [
        "## Dictionaries"
      ]
    },
    {
      "metadata": {
        "id": "7aMdjxTjIg2C",
        "colab_type": "code",
        "colab": {}
      },
      "cell_type": "code",
      "source": [
        "tel = {'jack': 4098, 'sape': 4139}"
      ],
      "execution_count": 0,
      "outputs": []
    },
    {
      "metadata": {
        "id": "blxBkFvoIg2I",
        "colab_type": "code",
        "colab": {}
      },
      "cell_type": "code",
      "source": [
        "tel['guido'] = 4127"
      ],
      "execution_count": 0,
      "outputs": []
    },
    {
      "metadata": {
        "id": "X9Be2ELEIg2N",
        "colab_type": "code",
        "colab": {},
        "outputId": "5dcae3eb-e1e7-4681-e64e-5f539f143eee"
      },
      "cell_type": "code",
      "source": [
        "tel"
      ],
      "execution_count": 0,
      "outputs": [
        {
          "output_type": "execute_result",
          "data": {
            "text/plain": [
              "{'guido': 4127, 'jack': 4098, 'sape': 4139}"
            ]
          },
          "metadata": {
            "tags": []
          },
          "execution_count": 20
        }
      ]
    },
    {
      "metadata": {
        "id": "P7EtaToPIg2S",
        "colab_type": "code",
        "colab": {},
        "outputId": "7cb0a5d0-de35-4bd5-d896-ce357605e47d"
      },
      "cell_type": "code",
      "source": [
        " tel['jack']"
      ],
      "execution_count": 0,
      "outputs": [
        {
          "output_type": "execute_result",
          "data": {
            "text/plain": [
              "4098"
            ]
          },
          "metadata": {
            "tags": []
          },
          "execution_count": 21
        }
      ]
    },
    {
      "metadata": {
        "id": "UmeZ4xTEIg2Y",
        "colab_type": "code",
        "colab": {}
      },
      "cell_type": "code",
      "source": [
        "del tel['sape']"
      ],
      "execution_count": 0,
      "outputs": []
    },
    {
      "metadata": {
        "id": "czBIzPYMIg2h",
        "colab_type": "code",
        "colab": {},
        "outputId": "7db1e898-7e84-4ddf-bda7-2ea9a7f89e85"
      },
      "cell_type": "code",
      "source": [
        "list(tel.keys())"
      ],
      "execution_count": 0,
      "outputs": [
        {
          "output_type": "execute_result",
          "data": {
            "text/plain": [
              "['jack', 'guido']"
            ]
          },
          "metadata": {
            "tags": []
          },
          "execution_count": 23
        }
      ]
    },
    {
      "metadata": {
        "id": "P12XZ_XQIg2m",
        "colab_type": "code",
        "colab": {},
        "outputId": "b34164b3-cfe2-46b6-d086-22f4d5e28f4e"
      },
      "cell_type": "code",
      "source": [
        "sorted(tel.keys())"
      ],
      "execution_count": 0,
      "outputs": [
        {
          "output_type": "execute_result",
          "data": {
            "text/plain": [
              "['guido', 'jack']"
            ]
          },
          "metadata": {
            "tags": []
          },
          "execution_count": 24
        }
      ]
    },
    {
      "metadata": {
        "id": "Td7p8qEjIg2t",
        "colab_type": "code",
        "colab": {},
        "outputId": "49a88bef-b23d-45c8-b605-ff61369add8e"
      },
      "cell_type": "code",
      "source": [
        "'guido' in tel"
      ],
      "execution_count": 0,
      "outputs": [
        {
          "output_type": "execute_result",
          "data": {
            "text/plain": [
              "True"
            ]
          },
          "metadata": {
            "tags": []
          },
          "execution_count": 25
        }
      ]
    },
    {
      "metadata": {
        "id": "pQb058DcIg2x",
        "colab_type": "code",
        "colab": {},
        "outputId": "149a5bb0-6d53-4314-c978-850c255bee48"
      },
      "cell_type": "code",
      "source": [
        "'jack' not in tel"
      ],
      "execution_count": 0,
      "outputs": [
        {
          "output_type": "execute_result",
          "data": {
            "text/plain": [
              "False"
            ]
          },
          "metadata": {
            "tags": []
          },
          "execution_count": 26
        }
      ]
    },
    {
      "metadata": {
        "collapsed": true,
        "id": "CfoUWoy1Ig23",
        "colab_type": "text"
      },
      "cell_type": "markdown",
      "source": [
        "The `dict()` constructor builds dictionaries directly from sequences of key-value pairs:"
      ]
    },
    {
      "metadata": {
        "id": "xlD3oaQTIg25",
        "colab_type": "code",
        "colab": {},
        "outputId": "18962ddb-48d7-46e8-8494-abed8a263414"
      },
      "cell_type": "code",
      "source": [
        "dict([('sape', 4139), ('guido', 4127), ('jack', 4098)])"
      ],
      "execution_count": 0,
      "outputs": [
        {
          "output_type": "execute_result",
          "data": {
            "text/plain": [
              "{'guido': 4127, 'jack': 4098, 'sape': 4139}"
            ]
          },
          "metadata": {
            "tags": []
          },
          "execution_count": 28
        }
      ]
    },
    {
      "metadata": {
        "id": "yyS-t6JhIg3I",
        "colab_type": "text"
      },
      "cell_type": "markdown",
      "source": [
        "In addition, dict comprehensions can be used to create dictionaries from arbitrary key and value expressions:"
      ]
    },
    {
      "metadata": {
        "id": "MorQZMFuIg3K",
        "colab_type": "code",
        "colab": {},
        "outputId": "33f15824-83d1-4615-8143-41086a5d9b7b"
      },
      "cell_type": "code",
      "source": [
        "{x: x**2 for x in (2, 4, 6)}"
      ],
      "execution_count": 0,
      "outputs": [
        {
          "output_type": "execute_result",
          "data": {
            "text/plain": [
              "{2: 4, 4: 16, 6: 36}"
            ]
          },
          "metadata": {
            "tags": []
          },
          "execution_count": 29
        }
      ]
    },
    {
      "metadata": {
        "id": "kaAVd4fEIg3Q",
        "colab_type": "text"
      },
      "cell_type": "markdown",
      "source": [
        "## When To Use Python Lists And When To Use Tuples, Dictionaries Or Sets"
      ]
    },
    {
      "metadata": {
        "id": "rHg7L2XYIg3S",
        "colab_type": "text"
      },
      "cell_type": "markdown",
      "source": [
        "### Lists Versus Tuples"
      ]
    },
    {
      "metadata": {
        "id": "E6soS8slIg3T",
        "colab_type": "text"
      },
      "cell_type": "markdown",
      "source": [
        "### extend and append "
      ]
    },
    {
      "metadata": {
        "id": "liB2rBINIg3U",
        "colab_type": "text"
      },
      "cell_type": "markdown",
      "source": [
        "extend(), on the one hand, takes an iterable (that’s right, it takes a list, set, tuple or string!), and adds each element of the iterable to the list one at a time.\n",
        "\n",
        "append(), on the other hand, adds its argument to the end of the list as a single item, which means that when the append() function takes an iterable as its argument, it will treat it as a single object.\n",
        "\n",
        "Study the code chunks below and play around with the code for yourself to understand the differences between these two methods:"
      ]
    },
    {
      "metadata": {
        "id": "yxpaEuSDIg3U",
        "colab_type": "code",
        "colab": {},
        "outputId": "7d92137a-3c86-4bf4-e122-43e99ee448dc"
      },
      "cell_type": "code",
      "source": [
        "# extend [4,5] to `shortList`\n",
        "firstlist = [1,2,3]\n",
        "firstlist.extend([4, 5])\n",
        "print(firstlist)"
      ],
      "execution_count": 0,
      "outputs": [
        {
          "output_type": "stream",
          "text": [
            "[1, 2, 3, 4, 5]\n"
          ],
          "name": "stdout"
        }
      ]
    },
    {
      "metadata": {
        "id": "CEygErr5Ig3Y",
        "colab_type": "code",
        "colab": {},
        "outputId": "7bdc7596-9aab-4b53-d7c9-22d3c5016ebd"
      },
      "cell_type": "code",
      "source": [
        "# Append [4,5] to `shortList`\n",
        "shortlist = [1,2,3]\n",
        "shortlist.append([4, 5])\n",
        "print(shortlist)"
      ],
      "execution_count": 0,
      "outputs": [
        {
          "output_type": "stream",
          "text": [
            "[1, 2, 3, [4, 5]]\n"
          ],
          "name": "stdout"
        }
      ]
    },
    {
      "metadata": {
        "id": "2u4zSDG5Ig3a",
        "colab_type": "text"
      },
      "cell_type": "markdown",
      "source": [
        "### Concatenate lists\n",
        "To concatenate lists, you use the + operator. It will give you a new list that is the concatenation of your two lists without modifying the original ones.\n",
        "\n",
        "Note that concatenating and appending might be confusing. append() is different from the + operator, which in its turn is very similar to the extend() method, but not exactly the same… You see that with append() and extend(), you modify your original list, while with the + operator, you can make another list variable"
      ]
    },
    {
      "metadata": {
        "id": "tHaqQ8T8Ig3c",
        "colab_type": "code",
        "colab": {},
        "outputId": "f2b6a58f-0320-4290-ca93-0862956e3e5e"
      },
      "cell_type": "code",
      "source": [
        "# Concatenate `shortList` with `[4,5]`\n",
        "secondlist = [1,2,3]\n",
        "pluslist = secondlist + [4,5]\n",
        "\n",
        "#Use the `print()` method to see `plusList`\n",
        "print(pluslist)\n",
        "print(secondlist)"
      ],
      "execution_count": 0,
      "outputs": [
        {
          "output_type": "stream",
          "text": [
            "[1, 2, 3, 4, 5]\n",
            "[1, 2, 3]\n"
          ],
          "name": "stdout"
        }
      ]
    },
    {
      "metadata": {
        "id": "GpcglPmzIg3f",
        "colab_type": "text"
      },
      "cell_type": "markdown",
      "source": [
        "### Cloning or copying lists\n",
        "\n",
        "* You can slice your original list and store it into a new variable: newList = oldList[:]\n",
        "* You can use the built-in list() function: newList = list(oldList)\n",
        "* You can use the copy library: With the copy() method newList = copy.copy(oldList)\n",
        "If your list contains objects and you want to copy those as well, you can use copy.deepcopy(): copy.deepcopy(oldList)\n",
        "\n",
        "Try it out below! "
      ]
    },
    {
      "metadata": {
        "id": "wS0OgyWqIg3g",
        "colab_type": "code",
        "colab": {},
        "outputId": "0c33f1d0-5d27-4d60-d1cc-cc2a804dde20"
      },
      "cell_type": "code",
      "source": [
        "groceries = ['bread', 'milk', 'eggs']\n",
        "# Copy the grocery list by slicing and store it in the `newGroceries` variable\n",
        "newGroceries = groceries\n",
        "# Copy the grocery list with the `list()` function and store it in a `groceriesForFriends` variable\n",
        "groceriesForFriends = list(groceries)\n",
        "groceriesForFriends[0] = 'french bread'\n",
        "print(groceriesForFriends)\n",
        "print(groceries)\n",
        "newGroceries[0] = 'french bread'\n",
        "print(groceries)"
      ],
      "execution_count": 0,
      "outputs": [
        {
          "output_type": "stream",
          "text": [
            "['french bread', 'milk', 'eggs']\n",
            "['bread', 'milk', 'eggs']\n",
            "['french bread', 'milk', 'eggs']\n"
          ],
          "name": "stdout"
        }
      ]
    },
    {
      "metadata": {
        "id": "Mq7g3EGeIg3k",
        "colab_type": "text"
      },
      "cell_type": "markdown",
      "source": [
        "### List Comprehensions\n",
        "List comprehension is, basically speaking, a way of elegantly constructing your lists. The best thing about this for those who love math is the fact that they look a lot like mathematical lists. Judge for yourself:"
      ]
    },
    {
      "metadata": {
        "id": "GBlFVOeWIg3l",
        "colab_type": "code",
        "colab": {},
        "outputId": "155d32ea-b216-48a1-d29a-ccf04d7048d9"
      },
      "cell_type": "code",
      "source": [
        "[x**2 for x in range(10)]"
      ],
      "execution_count": 0,
      "outputs": [
        {
          "output_type": "execute_result",
          "data": {
            "text/plain": [
              "[0, 1, 4, 9, 16, 25, 36, 49, 64, 81]"
            ]
          },
          "metadata": {
            "tags": []
          },
          "execution_count": 34
        }
      ]
    },
    {
      "metadata": {
        "id": "u04H8p3kIg3p",
        "colab_type": "text"
      },
      "cell_type": "markdown",
      "source": [
        "What if you want to square only the even numbers? You just add a condition, indicated by `if`, to your original statement. If that condition proves to be `TRUE`, the number will be considered for squaring. In this case, our condition is that the number can be divided by 2 (without having any remainder of the division operation)"
      ]
    },
    {
      "metadata": {
        "id": "kBkvwZHqIg3q",
        "colab_type": "code",
        "colab": {},
        "outputId": "2165a820-80a2-4d59-c112-f79c0388a295"
      },
      "cell_type": "code",
      "source": [
        "# square only the even numbers \n",
        "[x**2 for x in range(10) if x%2==0]"
      ],
      "execution_count": 0,
      "outputs": [
        {
          "output_type": "execute_result",
          "data": {
            "text/plain": [
              "[0, 4, 16, 36, 64]"
            ]
          },
          "metadata": {
            "tags": []
          },
          "execution_count": 35
        }
      ]
    },
    {
      "metadata": {
        "id": "GSNDSG3_Ig3w",
        "colab_type": "text"
      },
      "cell_type": "markdown",
      "source": [
        "### How To Count Occurrences Of A List Item"
      ]
    },
    {
      "metadata": {
        "id": "JUonImGAIg3w",
        "colab_type": "code",
        "colab": {},
        "outputId": "e57aa938-c420-4046-e676-5f31415cd1f4"
      },
      "cell_type": "code",
      "source": [
        "# Count the occurrences of the letter \"a\"\n",
        "letter_list = [\"d\", \"a\", \"t\", \"a\", \"c\", \"a\", \"m\", \"p\"]\n",
        "letter_list.count(\"a\")"
      ],
      "execution_count": 0,
      "outputs": [
        {
          "output_type": "execute_result",
          "data": {
            "text/plain": [
              "3"
            ]
          },
          "metadata": {
            "tags": []
          },
          "execution_count": 36
        }
      ]
    },
    {
      "metadata": {
        "id": "lTglPWUfIg30",
        "colab_type": "code",
        "colab": {},
        "outputId": "23b5d393-5637-49fb-8935-673960d9cce2"
      },
      "cell_type": "code",
      "source": [
        "ab_list= [\"a\",\"b\",\"b\"]\n",
        "[[x,ab_list.count(x)] for x in set(ab_list)]"
      ],
      "execution_count": 0,
      "outputs": [
        {
          "output_type": "execute_result",
          "data": {
            "text/plain": [
              "[['a', 1], ['b', 2]]"
            ]
          },
          "metadata": {
            "tags": []
          },
          "execution_count": 37
        }
      ]
    },
    {
      "metadata": {
        "id": "x8AXO_0iIg34",
        "colab_type": "text"
      },
      "cell_type": "markdown",
      "source": [
        "In this piece of code, you first see that your list is converted to a `set`. This will make sure that only the unique list items are kept, namely a and b. Then you say that for each set item, you want to take that item and pass it to a `count()` method"
      ]
    },
    {
      "metadata": {
        "id": "gHTf4_DbIg36",
        "colab_type": "text"
      },
      "cell_type": "markdown",
      "source": [
        "Alternatively, there’s the faster `Counter()` method from the collections library:"
      ]
    },
    {
      "metadata": {
        "id": "wpOPsNO5Ig38",
        "colab_type": "code",
        "colab": {},
        "outputId": "9cdff4fd-527d-4487-da27-902be33f4ade"
      },
      "cell_type": "code",
      "source": [
        "# Import `Counter` from the `collections` library\n",
        "from collections import Counter\n",
        "list_c = [\"a\",\"b\",\"b\"]\n",
        "# Pass `list` to `Counter()`\n",
        "Counter(list_c)"
      ],
      "execution_count": 0,
      "outputs": [
        {
          "output_type": "execute_result",
          "data": {
            "text/plain": [
              "Counter({'a': 1, 'b': 2})"
            ]
          },
          "metadata": {
            "tags": []
          },
          "execution_count": 38
        }
      ]
    },
    {
      "metadata": {
        "id": "hZg9iy3EIg4B",
        "colab_type": "text"
      },
      "cell_type": "markdown",
      "source": [
        "### List Intersection Using List Comprehension\n",
        "\n",
        "If you want to obtain the intersection of two lists, you can use the `set` $\\&$ intersection.\n",
        "\n",
        "This is illustrated in the exercise below. "
      ]
    },
    {
      "metadata": {
        "id": "4qc6Uvy3Ig4F",
        "colab_type": "code",
        "colab": {},
        "outputId": "ea780ba5-f1c6-4516-9744-272b1fb9910a"
      },
      "cell_type": "code",
      "source": [
        "# An intersection of both lists, stored in `intersection`\n",
        "list1 = [x for x in range(100) if x%7 == 0]\n",
        "list2 = [x for x in range(100) if x%5 == 0]\n",
        "# Make use of the list and set data structures\n",
        "print(list(set(list1) & set(list2)))"
      ],
      "execution_count": 0,
      "outputs": [
        {
          "output_type": "stream",
          "text": [
            "[0, 35, 70]\n"
          ],
          "name": "stdout"
        }
      ]
    },
    {
      "metadata": {
        "id": "fcIE5RLcIg4J",
        "colab_type": "text"
      },
      "cell_type": "markdown",
      "source": [
        "### Remove Duplicates From A List\n",
        "\n",
        "As described earlier, it’s best to select a set if you want to store a unique collection of unordered items.\n",
        "\n",
        "To create a set from any iterable, you can simply pass it to the built-in set() function. If you later need a real list again, you can similarly pass the set to the list() function."
      ]
    },
    {
      "metadata": {
        "id": "zJSJ79pWIg4J",
        "colab_type": "text"
      },
      "cell_type": "markdown",
      "source": [
        "**Exercise** Print the `duplicates` list without duplicates"
      ]
    },
    {
      "metadata": {
        "id": "yqRB0KW_Ig4K",
        "colab_type": "code",
        "colab": {}
      },
      "cell_type": "code",
      "source": [
        "# Your list with duplicate values\n",
        "duplicates = [1, 2, 3, 1, 2, 5, 6, 7, 8]\n",
        "\n",
        "# Print the list without duplicates\n",
        "print(_____)"
      ],
      "execution_count": 0,
      "outputs": []
    },
    {
      "metadata": {
        "id": "5o592ZKsIg4R",
        "colab_type": "text"
      },
      "cell_type": "markdown",
      "source": [
        "**Exercise** Print the `duplicates` list without the elements from the `smallNumbers` list"
      ]
    },
    {
      "metadata": {
        "collapsed": true,
        "id": "YyJm1PWYIg4S",
        "colab_type": "code",
        "colab": {},
        "outputId": "8f82db33-f9cd-4cf2-8b10-834e0572940b"
      },
      "cell_type": "code",
      "source": [
        "# A list with small numbers \n",
        "smallNumbers = [1, 2, 3]\n",
        "\n",
        "# Print the unique `duplicates` list without the small numbers\n",
        "list(set(duplicates) - set(____))"
      ],
      "execution_count": 0,
      "outputs": [
        {
          "output_type": "error",
          "ename": "NameError",
          "evalue": "name '____' is not defined",
          "traceback": [
            "\u001b[0;31m---------------------------------------------------------------------------\u001b[0m",
            "\u001b[0;31mNameError\u001b[0m                                 Traceback (most recent call last)",
            "\u001b[0;32m<ipython-input-42-fa4cfc222db0>\u001b[0m in \u001b[0;36m<module>\u001b[0;34m()\u001b[0m\n\u001b[1;32m      3\u001b[0m \u001b[1;33m\u001b[0m\u001b[0m\n\u001b[1;32m      4\u001b[0m \u001b[1;31m# Print the unique `duplicates` list without the small numbers\u001b[0m\u001b[1;33m\u001b[0m\u001b[1;33m\u001b[0m\u001b[0m\n\u001b[0;32m----> 5\u001b[0;31m \u001b[0mlist\u001b[0m\u001b[1;33m(\u001b[0m\u001b[0mset\u001b[0m\u001b[1;33m(\u001b[0m\u001b[0mduplicates\u001b[0m\u001b[1;33m)\u001b[0m \u001b[1;33m-\u001b[0m \u001b[0mset\u001b[0m\u001b[1;33m(\u001b[0m\u001b[0m____\u001b[0m\u001b[1;33m)\u001b[0m\u001b[1;33m)\u001b[0m\u001b[1;33m\u001b[0m\u001b[0m\n\u001b[0m",
            "\u001b[0;31mNameError\u001b[0m: name '____' is not defined"
          ]
        }
      ]
    },
    {
      "metadata": {
        "id": "6FWfgoTXIg4V",
        "colab_type": "text"
      },
      "cell_type": "markdown",
      "source": [
        "### Numpy exercises"
      ]
    },
    {
      "metadata": {
        "id": "ASjPnJafIg4W",
        "colab_type": "text"
      },
      "cell_type": "markdown",
      "source": [
        "**Exercise** Import the numpy package under the name np"
      ]
    },
    {
      "metadata": {
        "id": "rMcZeP87Ig4X",
        "colab_type": "code",
        "colab": {}
      },
      "cell_type": "code",
      "source": [
        "import numpy  as np"
      ],
      "execution_count": 0,
      "outputs": []
    },
    {
      "metadata": {
        "id": "qDhDghDCIg4b",
        "colab_type": "text"
      },
      "cell_type": "markdown",
      "source": [
        "Print the numpy version and the configuration"
      ]
    },
    {
      "metadata": {
        "id": "hyYbi8ZuIg4b",
        "colab_type": "code",
        "colab": {
          "base_uri": "https://localhost:8080/",
          "height": 476
        },
        "outputId": "9d8cbcf1-4eed-4917-d4fe-3cf5cc414efe"
      },
      "cell_type": "code",
      "source": [
        "print(np.__version__)\n",
        "np.show_config()"
      ],
      "execution_count": 3,
      "outputs": [
        {
          "output_type": "stream",
          "text": [
            "1.14.6\n",
            "lapack_opt_info:\n",
            "    libraries = ['openblas', 'openblas']\n",
            "    library_dirs = ['/usr/local/lib']\n",
            "    define_macros = [('HAVE_CBLAS', None)]\n",
            "    language = c\n",
            "blas_opt_info:\n",
            "    libraries = ['openblas', 'openblas']\n",
            "    library_dirs = ['/usr/local/lib']\n",
            "    define_macros = [('HAVE_CBLAS', None)]\n",
            "    language = c\n",
            "openblas_info:\n",
            "    libraries = ['openblas', 'openblas']\n",
            "    library_dirs = ['/usr/local/lib']\n",
            "    define_macros = [('HAVE_CBLAS', None)]\n",
            "    language = c\n",
            "blis_info:\n",
            "  NOT AVAILABLE\n",
            "openblas_lapack_info:\n",
            "    libraries = ['openblas', 'openblas']\n",
            "    library_dirs = ['/usr/local/lib']\n",
            "    define_macros = [('HAVE_CBLAS', None)]\n",
            "    language = c\n",
            "lapack_mkl_info:\n",
            "  NOT AVAILABLE\n",
            "blas_mkl_info:\n",
            "  NOT AVAILABLE\n"
          ],
          "name": "stdout"
        }
      ]
    },
    {
      "metadata": {
        "id": "iV6m__D6Ig4i",
        "colab_type": "text"
      },
      "cell_type": "markdown",
      "source": [
        "**Exercise** Create a zero-vector in $\\mathbb{R}^{10}$"
      ]
    },
    {
      "metadata": {
        "id": "_3UwvnCNIg4j",
        "colab_type": "code",
        "colab": {
          "base_uri": "https://localhost:8080/",
          "height": 34
        },
        "outputId": "71cfff56-6240-472a-d90d-d60df4c607a6"
      },
      "cell_type": "code",
      "source": [
        "z = np.zeros(10)\n",
        "print(z)"
      ],
      "execution_count": 7,
      "outputs": [
        {
          "output_type": "stream",
          "text": [
            "[0. 0. 0. 0. 0. 0. 0. 0. 0. 0.]\n"
          ],
          "name": "stdout"
        }
      ]
    },
    {
      "metadata": {
        "id": "m_vLpn3fIg4n",
        "colab_type": "text"
      },
      "cell_type": "markdown",
      "source": [
        "**Exercise** Create a null vector of size 10 but the fifth value which is 1"
      ]
    },
    {
      "metadata": {
        "id": "NuFuqLlkIg4q",
        "colab_type": "code",
        "colab": {
          "base_uri": "https://localhost:8080/",
          "height": 34
        },
        "outputId": "6881cf1f-ab43-442c-bb3b-45b5554ddf11"
      },
      "cell_type": "code",
      "source": [
        "z = np.zeros(10)\n",
        "z[4] = 1\n",
        "print(z)"
      ],
      "execution_count": 8,
      "outputs": [
        {
          "output_type": "stream",
          "text": [
            "[0. 0. 0. 0. 1. 0. 0. 0. 0. 0.]\n"
          ],
          "name": "stdout"
        }
      ]
    },
    {
      "metadata": {
        "id": "bflMiM0bIg4u",
        "colab_type": "code",
        "colab": {}
      },
      "cell_type": "code",
      "source": [
        "#Alternate solution:\n",
        "z = np.array([0.0,0.0,0.0,0.0,1.0,0.0,0.0,0.0,0.0,0.0])\n",
        "print(z)"
      ],
      "execution_count": 0,
      "outputs": []
    },
    {
      "metadata": {
        "id": "hUs9HGADIg4x",
        "colab_type": "text"
      },
      "cell_type": "markdown",
      "source": [
        "**Exercise** Create a 3x3 zero-matrix. Note `reshape` shapes"
      ]
    },
    {
      "metadata": {
        "id": "s-rX24V-Ig4y",
        "colab_type": "code",
        "colab": {
          "base_uri": "https://localhost:8080/",
          "height": 68
        },
        "outputId": "e177c042-0c0e-4e8b-ec7e-a8a5d65902ff"
      },
      "cell_type": "code",
      "source": [
        "\n",
        "z = np.zeros(9).reshape(3,3)\n",
        "print(z)"
      ],
      "execution_count": 19,
      "outputs": [
        {
          "output_type": "stream",
          "text": [
            "[[0. 0. 0.]\n",
            " [0. 0. 0.]\n",
            " [0. 0. 0.]]\n"
          ],
          "name": "stdout"
        }
      ]
    },
    {
      "metadata": {
        "collapsed": false,
        "id": "RF8_kgx2Ig43",
        "colab_type": "text"
      },
      "cell_type": "markdown",
      "source": [
        "**Exercise** Create a 3x3 matrix with random values"
      ]
    },
    {
      "metadata": {
        "id": "0xXVzGYrIg44",
        "colab_type": "code",
        "colab": {
          "base_uri": "https://localhost:8080/",
          "height": 68
        },
        "outputId": "4e37cdc1-3f41-412c-dbf8-ebca904a6fe1"
      },
      "cell_type": "code",
      "source": [
        "z = np.random.random((3,3))\n",
        "print(z)"
      ],
      "execution_count": 17,
      "outputs": [
        {
          "output_type": "stream",
          "text": [
            "[[0.87857601 0.88058475 0.54137265]\n",
            " [0.37875241 0.47617124 0.27964255]\n",
            " [0.54777192 0.86266825 0.06573186]]\n"
          ],
          "name": "stdout"
        }
      ]
    },
    {
      "metadata": {
        "id": "l0tutwr8Ig49",
        "colab_type": "text"
      },
      "cell_type": "markdown",
      "source": [
        "**Exercise** Create a 10x10 array with random values and find the minimum and maximum values"
      ]
    },
    {
      "metadata": {
        "id": "yPeriLDZIg5B",
        "colab_type": "code",
        "colab": {
          "base_uri": "https://localhost:8080/",
          "height": 34
        },
        "outputId": "728628b6-e83d-460e-a743-aca824708014"
      },
      "cell_type": "code",
      "source": [
        "z = np.random.random((10,10))\n",
        "z_max, z_min = z.max(), z.min()\n",
        "print('maximum value is {} and the minimum value is {}'.format(z_max, z_min))"
      ],
      "execution_count": 18,
      "outputs": [
        {
          "output_type": "stream",
          "text": [
            "maximum value is 0.997883703551 and the minimum value is 0.00520534806226\n"
          ],
          "name": "stdout"
        }
      ]
    },
    {
      "metadata": {
        "id": "qd42_QfYIg5C",
        "colab_type": "text"
      },
      "cell_type": "markdown",
      "source": [
        "**Exercise** Create random vector of size 10 and replace the maximum value by 0"
      ]
    },
    {
      "metadata": {
        "id": "WJXpuAQpIg5D",
        "colab_type": "code",
        "colab": {
          "base_uri": "https://localhost:8080/",
          "height": 51
        },
        "outputId": "fd799b2e-52b1-407e-bee7-64355e76a295"
      },
      "cell_type": "code",
      "source": [
        "z = np.random.random(10)\n",
        "z[z.argmax()] = 0\n",
        "print(z)"
      ],
      "execution_count": 22,
      "outputs": [
        {
          "output_type": "stream",
          "text": [
            "[0.91571461 0.70809107 0.68825673 0.         0.27231252 0.88689409\n",
            " 0.75279042 0.79484469 0.90213892 0.28856949]\n"
          ],
          "name": "stdout"
        }
      ]
    },
    {
      "metadata": {
        "id": "QHckHEAZIg5F",
        "colab_type": "text"
      },
      "cell_type": "markdown",
      "source": [
        "**Exercise** How to read the following file? "
      ]
    },
    {
      "metadata": {
        "id": "Jfgy5hGvIg5H",
        "colab_type": "code",
        "colab": {}
      },
      "cell_type": "code",
      "source": [
        "from io import BytesIO\n",
        "\n",
        "data = BytesIO(\"1,2,3,4,5,7,8,9,10,11\")\n",
        "z = np.genfromtxt(data, delimiter=\",\", dtype='unicode')"
      ],
      "execution_count": 0,
      "outputs": []
    },
    {
      "metadata": {
        "id": "ZIPhF8_zIg5K",
        "colab_type": "text"
      },
      "cell_type": "markdown",
      "source": [
        "### Distance between points exercises\n",
        "\n",
        "We're going to need an implementation of the $k$-nearest neighbor classifier.  In practice you would probably use an existing library, but it's simple enough that we're going to implement it.\n",
        "\n",
        "The first thing we need is a way to compute the distance between two points.  How do we do this?  In 2-dimensional space, it's pretty easy.  If we have a point at coordinates $(x_0,y_0)$ and another at $(x_1,y_1)$, the distance between them is\n",
        "\n",
        "$$D = \\sqrt{(x_0-x_1)^2 + (y_0-y_1)^2}.$$\n",
        "\n",
        "(Where did this come from?  It comes from the Pythogorean theorem: we have a right triangle with side lengths $x_0-x_1$ and $y_0-y_1$, and we want to find the length of the diagonal.)"
      ]
    },
    {
      "metadata": {
        "deletable": true,
        "editable": true,
        "id": "epdnFt5oIg5K",
        "colab_type": "code",
        "colab": {}
      },
      "cell_type": "code",
      "source": [
        "# import modules we will need\n",
        "import math\n",
        "import numpy as np"
      ],
      "execution_count": 0,
      "outputs": []
    },
    {
      "metadata": {
        "deletable": true,
        "editable": true,
        "id": "GUGReAimIg5M",
        "colab_type": "text"
      },
      "cell_type": "markdown",
      "source": [
        "**Exercise 1**: implement a Python function to compute this distance function by filling in the blanks below"
      ]
    },
    {
      "metadata": {
        "id": "0bcvzRX2Ig5N",
        "colab_type": "code",
        "colab": {}
      },
      "cell_type": "code",
      "source": [
        "def distance(pt1, pt2):\n",
        "    total = 0\n",
        "    for i in np.arange(len(pt1)):\n",
        "        total = total + (pt1[i] - pt2[i])**2\n",
        "    return math.sqrt(total)"
      ],
      "execution_count": 0,
      "outputs": []
    },
    {
      "metadata": {
        "id": "7YcIaKxXIg5P",
        "colab_type": "code",
        "colab": {
          "base_uri": "https://localhost:8080/",
          "height": 68
        },
        "outputId": "8eb18c7e-b5f9-46eb-9048-9215891878a4"
      },
      "cell_type": "code",
      "source": [
        "# function test\n",
        "print (\"distance((0,0),(0,0)): \" + str(distance((0,0),(0,0))))\n",
        "print (\"distance((1,0),(0,0)): \" + str(distance((1,0),(0,0))))\n",
        "print (\"distance((0,3),(4,0)): \" + str(distance((0,3),(4,0))))"
      ],
      "execution_count": 34,
      "outputs": [
        {
          "output_type": "stream",
          "text": [
            "distance((0,0),(0,0)): 0.0\n",
            "distance((1,0),(0,0)): 1.0\n",
            "distance((0,3),(4,0)): 5.0\n"
          ],
          "name": "stdout"
        }
      ]
    },
    {
      "metadata": {
        "collapsed": true,
        "deletable": true,
        "editable": true,
        "id": "Wzs2mVzPIg5V",
        "colab_type": "text"
      },
      "cell_type": "markdown",
      "source": [
        "**Expected output for test**: \n",
        "\n",
        "<code>distance((0,0),(0,0))</code>: <code>0.0 </code>   \n",
        "<code>distance((1,0),(0,0))</code>: <code>1.0 </code>  \n",
        "<code>distance((0,3),(4,0))</code>: <code>5.0 </code>"
      ]
    },
    {
      "metadata": {
        "id": "cuYQsYj5Ig5V",
        "colab_type": "text"
      },
      "cell_type": "markdown",
      "source": [
        "**Exercise 2**: implement in a new way a Python function to compute distance by filling in the blanks below"
      ]
    },
    {
      "metadata": {
        "id": "d56pkt5sIg5X",
        "colab_type": "code",
        "colab": {}
      },
      "cell_type": "code",
      "source": [
        "def distance2(pt1, pt2):\n",
        "    x = np.array(pt1)\n",
        "    y = np.array(pt2)\n",
        "    return float(np.sum((x - y)**2))"
      ],
      "execution_count": 0,
      "outputs": []
    },
    {
      "metadata": {
        "id": "2fuhnWX9Ig5a",
        "colab_type": "code",
        "colab": {
          "base_uri": "https://localhost:8080/",
          "height": 68
        },
        "outputId": "795330f8-1b4c-4ac2-af8a-020d3786025e"
      },
      "cell_type": "code",
      "source": [
        "# function test\n",
        "print (\"distance((0,0),(0,0)): \" + str(distance2((0,0),(0,0))))\n",
        "print (\"distance((1,0),(0,0)): \" + str(distance2((1,0),(0,0))))\n",
        "print (\"distance((0,3),(4,0)): \" + str(distance2((0,3),(4,0))))"
      ],
      "execution_count": 39,
      "outputs": [
        {
          "output_type": "stream",
          "text": [
            "distance((0,0),(0,0)): 0.0\n",
            "distance((1,0),(0,0)): 1.0\n",
            "distance((0,3),(4,0)): 25.0\n"
          ],
          "name": "stdout"
        }
      ]
    },
    {
      "metadata": {
        "id": "wCej2o_-Ig5c",
        "colab_type": "text"
      },
      "cell_type": "markdown",
      "source": [
        "**Expected output for test**: \n",
        "\n",
        "<code>distance((0,0),(0,0))</code>: <code>0.0 </code>   \n",
        "<code>distance((1,0),(0,0))</code>: <code>1.0 </code>  \n",
        "<code>distance((0,3),(4,0))</code>: <code>5.0 </code>"
      ]
    },
    {
      "metadata": {
        "id": "4zUPI7NjIg5d",
        "colab_type": "text"
      },
      "cell_type": "markdown",
      "source": [
        "## Higher dimensions\n",
        "In 3-dimensional space, the formula for the distance $D$ between two points, $\\text{pt}_0 = (x_0, y_0, z_0)$ and $\\text{pt}_1 = (x_1,y_1, z_1)$, is \n",
        "\n",
        "$$D = \\sqrt{(x_0-x_1)^2 + (y_0-y_1)^2 + (z_0-z_1)^2}.$$\n",
        "\n",
        "In $k$-dimensional space, things are a bit harder to visualize, but I think you can see how the formula generalized: we sum up the squares of the differences between each individual coordinate, and then take the square root of that. "
      ]
    },
    {
      "metadata": {
        "id": "ESqLXuBXIg5e",
        "colab_type": "text"
      },
      "cell_type": "markdown",
      "source": [
        "**Exercise 3**: implement a Python function to compute distance between points in k-dimensional space, any k."
      ]
    },
    {
      "metadata": {
        "id": "F_RbY7swIg5e",
        "colab_type": "code",
        "colab": {}
      },
      "cell_type": "code",
      "source": [
        "def distance(pt1,pt2):\n",
        "   total = 0\n",
        "   for i in np.arange(len(pt1)):\n",
        "    total = total + (pt1[i] - pt2[i])**2\n",
        "   return math.sqrt(total)\n",
        "   \n",
        "   \n",
        "    "
      ],
      "execution_count": 0,
      "outputs": []
    },
    {
      "metadata": {
        "id": "RbCErYg3Ig5i",
        "colab_type": "text"
      },
      "cell_type": "markdown",
      "source": [
        "Hint: you may also try using np.subtract(__,__) as it takes two tuples and returns, as a Numpy array, their difference."
      ]
    },
    {
      "metadata": {
        "id": "61zCWRyQIg5j",
        "colab_type": "code",
        "colab": {
          "base_uri": "https://localhost:8080/",
          "height": 68
        },
        "outputId": "dbee89d8-077b-44ff-b1eb-0f65ade0fb3a"
      },
      "cell_type": "code",
      "source": [
        "# function test\n",
        "print (\"distance((0,0,0),(0,0,0)): \" + str(distance((0,0,0),(0,0,0))))\n",
        "print (\"distance((1,0,0),(0,0,0)): \" + str(distance((1,0,0),(0,0,0))))\n",
        "print (\"distance((3,0,12),(0,4,0)): \" + str(distance((3,0,12),(0,4,0))))"
      ],
      "execution_count": 45,
      "outputs": [
        {
          "output_type": "stream",
          "text": [
            "distance((0,0,0),(0,0,0)): 0.0\n",
            "distance((1,0,0),(0,0,0)): 1.0\n",
            "distance((3,0,12),(0,4,0)): 13.0\n"
          ],
          "name": "stdout"
        }
      ]
    },
    {
      "metadata": {
        "collapsed": true,
        "deletable": true,
        "editable": true,
        "id": "wzSd1MB_Ig5m",
        "colab_type": "text"
      },
      "cell_type": "markdown",
      "source": [
        "\n",
        "**Expected output for test**:  \n",
        "<code>\n",
        "distance((0,0,0),(0,0,0)): 0.0      \n",
        "distance((1,0,0),(0,0,0)): 1.0  \n",
        "distance((3,0,12),(0,4,0)): 13.0\n",
        "</code>\n"
      ]
    }
  ]
}