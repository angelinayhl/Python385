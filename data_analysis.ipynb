{
 "cells": [
  {
   "cell_type": "markdown",
   "metadata": {},
   "source": [
    "# Data Analysis\n",
    "\n",
    "## Task\n",
    "\n",
    "Analyze course information provided by the Computer Science department at Emory University for the last 10 years (2008 ~ 2018)."
   ]
  },
  {
   "cell_type": "markdown",
   "metadata": {},
   "source": [
    "# 1. Data Management\n",
    "\n",
    "## 1.1. CSV Reader\n",
    "\n",
    "Read [cs_courses_2008_2018.csv](res/cs_courses_2008_2018.csv), where each column contains the following information:\n",
    "\n",
    "* `0`: Term\n",
    "* `1`: Career\n",
    "* `2`: Class Number\n",
    "* `3`: Subject\n",
    "* `4`: Catalog Number\n",
    "* `5`: Section\n",
    "* `6`: Title\n",
    "* `7`: Topic\n",
    "* `8`: Mininum Hours\n",
    "* `9`: Maximum Hours\n",
    "* `10`: Maximum Enrollment\n",
    "* `11`: Enrollment\n",
    "* `12`: Instructor Name\n",
    "* `13`: Grade Basis\n",
    "* `14`: Class Status"
   ]
  },
  {
   "cell_type": "code",
   "execution_count": 270,
   "metadata": {
    "scrolled": true
   },
   "outputs": [
    {
     "name": "stdout",
     "output_type": "stream",
     "text": [
      "1254\n"
     ]
    }
   ],
   "source": [
    "import csv\n",
    "\n",
    "csv_file = 'cs_courses_2008_2018.csv'\n",
    "\n",
    "with open(csv_file) as fin:\n",
    "    reader = csv.reader(fin)\n",
    "    course_info = [row for i, row in enumerate(reader)]\n",
    "\n",
    "print(len(course_info))"
   ]
  },
  {
   "cell_type": "code",
   "execution_count": 271,
   "metadata": {},
   "outputs": [
    {
     "data": {
      "text/plain": [
       "[['ï»¿Term',\n",
       "  'Career',\n",
       "  'ClassNbr',\n",
       "  'Subject',\n",
       "  'CatalogNbr',\n",
       "  'Section',\n",
       "  'Title',\n",
       "  'Topic',\n",
       "  'MinHrs',\n",
       "  'MaxHrs',\n",
       "  'MaxEnr',\n",
       "  'Enr',\n",
       "  'InstructorName',\n",
       "  'GradeBasis',\n",
       "  'ClassStatus'],\n",
       " ['5099',\n",
       "  'UCOL',\n",
       "  '3044',\n",
       "  'CS',\n",
       "  ' 170',\n",
       "  '000',\n",
       "  'Intro to Computer Science I',\n",
       "  '',\n",
       "  '4',\n",
       "  '4',\n",
       "  '32',\n",
       "  '29',\n",
       "  'Agichtein,Yevgeny Eugene',\n",
       "  'OPT',\n",
       "  'Active'],\n",
       " ['5099',\n",
       "  'UCOL',\n",
       "  '3044',\n",
       "  'CS',\n",
       "  ' 170',\n",
       "  '000',\n",
       "  'Intro to Computer Science I',\n",
       "  '',\n",
       "  '4',\n",
       "  '4',\n",
       "  '32',\n",
       "  '29',\n",
       "  'Agichtein,Yevgeny Eugene',\n",
       "  'OPT',\n",
       "  'Active'],\n",
       " ['5109',\n",
       "  'UCOL',\n",
       "  '4266',\n",
       "  'CS',\n",
       "  ' 170',\n",
       "  '000',\n",
       "  'Intro to Computer Science I',\n",
       "  '',\n",
       "  '4',\n",
       "  '4',\n",
       "  '31',\n",
       "  '28',\n",
       "  'Agichtein,Yevgeny Eugene',\n",
       "  'OPT',\n",
       "  'Active'],\n",
       " ['5109',\n",
       "  'UCOL',\n",
       "  '4266',\n",
       "  'CS',\n",
       "  ' 170',\n",
       "  '000',\n",
       "  'Intro to Computer Science I',\n",
       "  '',\n",
       "  '4',\n",
       "  '4',\n",
       "  '31',\n",
       "  '28',\n",
       "  'Agichtein,Yevgeny Eugene',\n",
       "  'OPT',\n",
       "  'Active']]"
      ]
     },
     "execution_count": 271,
     "metadata": {},
     "output_type": "execute_result"
    }
   ],
   "source": [
    "course_info[0:5]"
   ]
  },
  {
   "cell_type": "code",
   "execution_count": 272,
   "metadata": {},
   "outputs": [
    {
     "name": "stdout",
     "output_type": "stream",
     "text": [
      "1\n",
      "2\n",
      "3\n",
      "6\n",
      "4\n",
      "5\n"
     ]
    }
   ],
   "source": [
    "A=[1,2,3,6,4,5]\n",
    "for a in A:\n",
    "    print(a)"
   ]
  },
  {
   "cell_type": "code",
   "execution_count": 273,
   "metadata": {},
   "outputs": [
    {
     "name": "stdout",
     "output_type": "stream",
     "text": [
      "(0, 1)\n",
      "(1, 2)\n",
      "(2, 3)\n",
      "(3, 6)\n",
      "(4, 4)\n",
      "(5, 5)\n"
     ]
    }
   ],
   "source": [
    "for a in enumerate(A):\n",
    "    print(a) #output tuple, the first is always sequential number"
   ]
  },
  {
   "cell_type": "code",
   "execution_count": 274,
   "metadata": {},
   "outputs": [
    {
     "name": "stdout",
     "output_type": "stream",
     "text": [
      "(0, (1, 2))\n",
      "(1, (3, 6))\n",
      "(2, (4, 5))\n"
     ]
    }
   ],
   "source": [
    "B=[(1,2),(3,6),(4,5)]\n",
    "for a in enumerate(B):\n",
    "    print(a)"
   ]
  },
  {
   "cell_type": "code",
   "execution_count": 275,
   "metadata": {},
   "outputs": [
    {
     "name": "stdout",
     "output_type": "stream",
     "text": [
      "50:1+2=3\n",
      "51:3+6=9\n",
      "52:4+5=9\n"
     ]
    }
   ],
   "source": [
    "for i, t in enumerate(B,50):\n",
    "    print('%d:%d+%d=%d'%(i, t[0], t[1], t[0]+t[1]))"
   ]
  },
  {
   "cell_type": "markdown",
   "metadata": {},
   "source": [
    "### Exercise\n",
    "\n",
    "Skip the header (first row) and courses that:\n",
    "\n",
    "* have 0 enrollment, or\n",
    "* have no instructor, or\n",
    "* are not active."
   ]
  },
  {
   "cell_type": "code",
   "execution_count": 276,
   "metadata": {},
   "outputs": [],
   "source": [
    "def skip(i, row):\n",
    "    return i == 0 or \\\n",
    "           int(row[11]) == 0 or \\\n",
    "           row[12].strip() == '' or \\\n",
    "           row[14].strip() != 'Active'"
   ]
  },
  {
   "cell_type": "code",
   "execution_count": 277,
   "metadata": {},
   "outputs": [
    {
     "name": "stdout",
     "output_type": "stream",
     "text": [
      "1031\n"
     ]
    }
   ],
   "source": [
    "# List comprehension\n",
    "with open(csv_file) as fin:\n",
    "    reader = csv.reader(fin)\n",
    "    course_info = [row for i, row in enumerate(reader) if not skip(i, row)]\n",
    "\n",
    "print(len(course_info))"
   ]
  },
  {
   "cell_type": "code",
   "execution_count": 278,
   "metadata": {},
   "outputs": [
    {
     "name": "stdout",
     "output_type": "stream",
     "text": [
      "[['5099', 'UCOL', '3044', 'CS', ' 170', '000', 'Intro to Computer Science I', '', '4', '4', '32', '29', 'Agichtein,Yevgeny Eugene', 'OPT', 'Active'], ['5099', 'UCOL', '3044', 'CS', ' 170', '000', 'Intro to Computer Science I', '', '4', '4', '32', '29', 'Agichtein,Yevgeny Eugene', 'OPT', 'Active'], ['5109', 'UCOL', '4266', 'CS', ' 170', '000', 'Intro to Computer Science I', '', '4', '4', '31', '28', 'Agichtein,Yevgeny Eugene', 'OPT', 'Active'], ['5109', 'UCOL', '4266', 'CS', ' 170', '000', 'Intro to Computer Science I', '', '4', '4', '31', '28', 'Agichtein,Yevgeny Eugene', 'OPT', 'Active'], ['5089', 'UCOL', '3337', 'CS', ' 171', '000', 'Intro to Computer Science II', '', '4', '4', '25', '7', 'Agichtein,Yevgeny Eugene', 'OPT', 'Active']]\n"
     ]
    }
   ],
   "source": [
    "print(course_info[0:5])"
   ]
  },
  {
   "cell_type": "markdown",
   "metadata": {},
   "source": [
    "Collect necessary information from each row."
   ]
  },
  {
   "cell_type": "code",
   "execution_count": 279,
   "metadata": {},
   "outputs": [],
   "source": [
    "def info(row):\n",
    "    # term is normalized to (year, term_id) (e.g., 5181 -> (2018, 1))\n",
    "    # term_id = 1: Spring, 6: Summer, 9: Fall\n",
    "    r = row[0]\n",
    "    term = (2000 + int((int(r) - 5000) / 10), int(r[-1]))\n",
    "\n",
    "    return {'term': term,\n",
    "            'subject': row[3].strip(),\n",
    "            'catalog': row[4].strip(),\n",
    "            'section': row[5].strip(),\n",
    "            'title': row[6].strip(),\n",
    "            'min_hours': int(row[8]),\n",
    "            'max_hours': int(row[9]),\n",
    "            'enrollment': int(row[11]),\n",
    "            'instructor': row[12].strip()}"
   ]
  },
  {
   "cell_type": "code",
   "execution_count": 280,
   "metadata": {},
   "outputs": [
    {
     "data": {
      "text/plain": [
       "{'term': (2009, 9),\n",
       " 'subject': 'CS',\n",
       " 'catalog': '170',\n",
       " 'section': '000',\n",
       " 'title': 'Intro to Computer Science I',\n",
       " 'min_hours': 4,\n",
       " 'max_hours': 4,\n",
       " 'enrollment': 29,\n",
       " 'instructor': 'Agichtein,Yevgeny Eugene'}"
      ]
     },
     "execution_count": 280,
     "metadata": {},
     "output_type": "execute_result"
    }
   ],
   "source": [
    "ci=info(course_info[0])#new course_info format\n",
    "ci"
   ]
  },
  {
   "cell_type": "code",
   "execution_count": 281,
   "metadata": {},
   "outputs": [
    {
     "data": {
      "text/plain": [
       "'CS'"
      ]
     },
     "execution_count": 281,
     "metadata": {},
     "output_type": "execute_result"
    }
   ],
   "source": [
    "ci['subject']"
   ]
  },
  {
   "cell_type": "markdown",
   "metadata": {},
   "source": [
    "Use [namespace](https://docs.python.org/library/types.html#types.SimpleNamespace) instead of dictionary for easy access to these fields, and split the instructor name into (lastname, firstname)."
   ]
  },
  {
   "cell_type": "code",
   "execution_count": 282,
   "metadata": {},
   "outputs": [],
   "source": [
    "from types import SimpleNamespace\n",
    "\n",
    "def info(row):\n",
    "    # term is normalized to (year, term_id) (e.g., 5181 -> (2018, 1))\n",
    "    # term_id = 1: Spring, 6: Summer, 9: Fall\n",
    "    r = row[0]\n",
    "    term = (2000 + int((int(r) - 5000) / 10), int(r[-1]))\n",
    "    \n",
    "    # name = lastname,firstname\n",
    "    r = row[12].split(',')\n",
    "    instructor = (r[0].strip(), r[1].strip())\n",
    "\n",
    "    return SimpleNamespace(\n",
    "        term=term,\n",
    "        subject=row[3].strip(),\n",
    "        catalog=row[4].strip(),\n",
    "        section=row[5].strip(),\n",
    "        title=row[6].strip(),\n",
    "        min_hours=int(row[8]),\n",
    "        max_hours=int(row[9]),\n",
    "        enrollment=int(row[11]),\n",
    "        instructor=instructor)"
   ]
  },
  {
   "cell_type": "code",
   "execution_count": 283,
   "metadata": {},
   "outputs": [
    {
     "data": {
      "text/plain": [
       "namespace(catalog='170', enrollment=29, instructor=('Agichtein', 'Yevgeny Eugene'), max_hours=4, min_hours=4, section='000', subject='CS', term=(2009, 9), title='Intro to Computer Science I')"
      ]
     },
     "execution_count": 283,
     "metadata": {},
     "output_type": "execute_result"
    }
   ],
   "source": [
    "ci=info(course_info[0])\n",
    "ci"
   ]
  },
  {
   "cell_type": "markdown",
   "metadata": {},
   "source": [
    "Create a function that returns the list of all course information."
   ]
  },
  {
   "cell_type": "code",
   "execution_count": 284,
   "metadata": {},
   "outputs": [],
   "source": [
    "def load_course_info(csv_file):\n",
    "    with open(csv_file) as fin:\n",
    "        reader = csv.reader(fin)\n",
    "        course_info = [info(row) for i, row in enumerate(reader) if not skip(i, row)]\n",
    "    \n",
    "    return course_info"
   ]
  },
  {
   "cell_type": "code",
   "execution_count": 285,
   "metadata": {},
   "outputs": [
    {
     "name": "stdout",
     "output_type": "stream",
     "text": [
      "namespace(catalog='170', enrollment=29, instructor=('Agichtein', 'Yevgeny Eugene'), max_hours=4, min_hours=4, section='000', subject='CS', term=(2009, 9), title='Intro to Computer Science I')\n"
     ]
    }
   ],
   "source": [
    "course_info = load_course_info(csv_file)\n",
    "print(course_info[0])"
   ]
  },
  {
   "cell_type": "markdown",
   "metadata": {},
   "source": [
    "## 1.2. Data Retrieval\n",
    "\n",
    "Retrieve the number of enrollments by terms."
   ]
  },
  {
   "cell_type": "code",
   "execution_count": 286,
   "metadata": {
    "scrolled": true
   },
   "outputs": [],
   "source": [
    "def enrollment_by_term(course_info):\n",
    "    enroll = {}# create a dictionary\n",
    "    for c in course_info:\n",
    "        # c represents each namespace\n",
    "        term = c.term\n",
    "        enroll[term] = enroll.get(term, 0) + c.enrollment #count enrollment, key is the term\n",
    "    \n",
    "    return enroll"
   ]
  },
  {
   "cell_type": "code",
   "execution_count": 287,
   "metadata": {},
   "outputs": [
    {
     "name": "stdout",
     "output_type": "stream",
     "text": [
      "(2008, 9) 311\n",
      "(2009, 1) 268\n",
      "(2009, 6) 37\n",
      "(2009, 9) 408\n",
      "(2010, 1) 275\n",
      "(2010, 6) 23\n",
      "(2010, 9) 439\n",
      "(2011, 1) 417\n",
      "(2011, 6) 35\n",
      "(2011, 9) 578\n",
      "(2012, 1) 481\n",
      "(2012, 6) 40\n",
      "(2012, 9) 578\n",
      "(2013, 1) 653\n",
      "(2013, 6) 40\n",
      "(2013, 9) 763\n",
      "(2014, 1) 785\n",
      "(2014, 6) 81\n",
      "(2014, 9) 763\n",
      "(2015, 1) 949\n",
      "(2015, 6) 73\n",
      "(2015, 9) 1016\n",
      "(2016, 1) 1107\n",
      "(2016, 6) 53\n",
      "(2016, 9) 1099\n",
      "(2017, 1) 1031\n",
      "(2017, 6) 135\n",
      "(2017, 9) 1191\n",
      "(2018, 1) 1096\n"
     ]
    }
   ],
   "source": [
    "d = enrollment_by_term(course_info)\n",
    "for k, v in sorted(d.items()): \n",
    "    print(k, v)"
   ]
  },
  {
   "cell_type": "markdown",
   "metadata": {},
   "source": [
    "### Exercise\n",
    "\n",
    "Retrieve the number of enrollments by academic years."
   ]
  },
  {
   "cell_type": "code",
   "execution_count": 288,
   "metadata": {},
   "outputs": [
    {
     "data": {
      "text/plain": [
       "namespace(catalog='170', enrollment=29, instructor=('Agichtein', 'Yevgeny Eugene'), max_hours=4, min_hours=4, section='000', subject='CS', term=(2009, 9), title='Intro to Computer Science I')"
      ]
     },
     "execution_count": 288,
     "metadata": {},
     "output_type": "execute_result"
    }
   ],
   "source": [
    "course_info[1]\n",
    "#term"
   ]
  },
  {
   "cell_type": "code",
   "execution_count": 289,
   "metadata": {},
   "outputs": [],
   "source": [
    "def term_to_year(term):\n",
    "    \"\"\"\n",
    "    :param term: a tuple of (year, term_id).\n",
    "    \"\"\"\n",
    "    return term[0] if term[1] == 9 else term[0] - 1"
   ]
  },
  {
   "cell_type": "code",
   "execution_count": 290,
   "metadata": {},
   "outputs": [
    {
     "name": "stdout",
     "output_type": "stream",
     "text": [
      "namespace(catalog='170', enrollment=29, instructor=('Agichtein', 'Yevgeny Eugene'), max_hours=4, min_hours=4, section='000', subject='CS', term=(2009, 9), title='Intro to Computer Science I')\n"
     ]
    }
   ],
   "source": [
    "for c in course_info:\n",
    "    year = term_to_year(c.term)\n",
    "    \n",
    "print(course_info[0])"
   ]
  },
  {
   "cell_type": "code",
   "execution_count": 291,
   "metadata": {},
   "outputs": [],
   "source": [
    "def enrollment_by_academic_year(course_info):\n",
    "    enroll = {}\n",
    "    for c in course_info:\n",
    "        year = term_to_year(c.term)\n",
    "        enroll[year] = enroll.get(year, 0) + c.enrollment\n",
    "    \n",
    "    return enroll"
   ]
  },
  {
   "cell_type": "code",
   "execution_count": 292,
   "metadata": {},
   "outputs": [
    {
     "name": "stdout",
     "output_type": "stream",
     "text": [
      "2008 616\n",
      "2009 706\n",
      "2010 891\n",
      "2011 1099\n",
      "2012 1271\n",
      "2013 1629\n",
      "2014 1785\n",
      "2015 2176\n",
      "2016 2265\n",
      "2017 2287\n"
     ]
    }
   ],
   "source": [
    "d = enrollment_by_academic_year(course_info)\n",
    "for k, v in sorted(d.items()): print(k, v)"
   ]
  },
  {
   "cell_type": "markdown",
   "metadata": {},
   "source": [
    "## 1.3. Data Plots\n",
    "\n",
    "Plot the number of enrollments by academic years."
   ]
  },
  {
   "cell_type": "code",
   "execution_count": 293,
   "metadata": {},
   "outputs": [
    {
     "data": {
      "text/plain": [
       "9"
      ]
     },
     "execution_count": 293,
     "metadata": {},
     "output_type": "execute_result"
    }
   ],
   "source": [
    "# * paramaterize\n",
    "\n",
    "def sum(a,b,c):\n",
    "    return a+b+c\n",
    "\n",
    "A=[2,3,4]\n",
    "sum(A[0],A[1],A[2])"
   ]
  },
  {
   "cell_type": "code",
   "execution_count": 294,
   "metadata": {},
   "outputs": [
    {
     "data": {
      "text/plain": [
       "9"
      ]
     },
     "execution_count": 294,
     "metadata": {},
     "output_type": "execute_result"
    }
   ],
   "source": [
    "sum(*A)"
   ]
  },
  {
   "cell_type": "code",
   "execution_count": 295,
   "metadata": {},
   "outputs": [],
   "source": [
    "import matplotlib.pyplot as plt\n",
    "\n",
    "def plot_dict(d):\n",
    "    xs, ys = zip(*[(k, v) for k, v in sorted(d.items())])\n",
    "    #k, year; v,count\n",
    "    plt.scatter(xs, ys)\n",
    "    plt.plot(xs, ys)\n",
    "    plt.grid(b='on')\n",
    "    plt.show()"
   ]
  },
  {
   "cell_type": "code",
   "execution_count": 296,
   "metadata": {},
   "outputs": [
    {
     "data": {
      "image/png": "[encoded data removed]",
      "text/plain": [
       "<Figure size 432x288 with 1 Axes>"
      ]
     },
     "metadata": {
      "needs_background": "light"
     },
     "output_type": "display_data"
    }
   ],
   "source": [
    "plot_dict(d)"
   ]
  },
  {
   "cell_type": "markdown",
   "metadata": {},
   "source": [
    "### Exercise\n",
    "\n",
    "Retrieve the number of enrollments by academic years selectively:\n",
    "\n",
    "* Regular courses.\n",
    "* Research courses.\n",
    "* Undergraduate courses.\n",
    "* Graduate courses.\n",
    "\n",
    "```python\n",
    "\n",
    "def enrollment_by_academic_year(course_info, regular=True, research=True, undergraduate=True, graduate=True):\n",
    "    enroll = {}\n",
    "    for c in course_info:\n",
    "        # TODO: to be filled\n",
    "        \n",
    "        year = term_to_year(c.term)\n",
    "        enroll[year] = enroll.get(year, 0) + c.enrollment\n",
    "    \n",
    "    return enroll\n",
    "```"
   ]
  },
  {
   "cell_type": "code",
   "execution_count": 297,
   "metadata": {},
   "outputs": [],
   "source": [
    "def enrollment_by_academic_year(course_info, regular=True, research=True, undergraduate=True, graduate=True):\n",
    "    enroll = {}\n",
    "    for c in course_info:\n",
    "        # research courses include 'R' in the catalog, except for '130R'\n",
    "        if c.catalog != '130R' and 'R' in c.catalog:\n",
    "            if not research: continue\n",
    "        elif not regular:\n",
    "            # not research course, assign as regular course \n",
    "            continue\n",
    "        \n",
    "        # undergraduate courses are < 500\n",
    "        if int(c.catalog[0]) < 5:\n",
    "            if not undergraduate: continue\n",
    "        elif not graduate:\n",
    "            continue\n",
    "        \n",
    "        year = term_to_year(c.term)\n",
    "        enroll[year] = enroll.get(year, 0) + c.enrollment\n",
    "    \n",
    "    return enroll"
   ]
  },
  {
   "cell_type": "code",
   "execution_count": 298,
   "metadata": {},
   "outputs": [
    {
     "data": {
      "image/png": "[encoded data removed]",
      "text/plain": [
       "<Figure size 432x288 with 1 Axes>"
      ]
     },
     "metadata": {
      "needs_background": "light"
     },
     "output_type": "display_data"
    }
   ],
   "source": [
    "d = enrollment_by_academic_year(course_info)\n",
    "plot_dict(d)"
   ]
  },
  {
   "cell_type": "code",
   "execution_count": 299,
   "metadata": {},
   "outputs": [
    {
     "data": {
      "image/png": "[encoded data removed]",
      "text/plain": [
       "<Figure size 432x288 with 1 Axes>"
      ]
     },
     "metadata": {
      "needs_background": "light"
     },
     "output_type": "display_data"
    }
   ],
   "source": [
    "d = enrollment_by_academic_year(course_info, research=False)\n",
    "plot_dict(d)\n",
    "# regular courses didn't increase from 2015 to 2017"
   ]
  },
  {
   "cell_type": "code",
   "execution_count": 300,
   "metadata": {},
   "outputs": [
    {
     "data": {
      "image/png": "[encoded data removed]",
      "text/plain": [
       "<Figure size 432x288 with 1 Axes>"
      ]
     },
     "metadata": {
      "needs_background": "light"
     },
     "output_type": "display_data"
    }
   ],
   "source": [
    "d = enrollment_by_academic_year(course_info, regular=False)\n",
    "plot_dict(d)"
   ]
  },
  {
   "cell_type": "code",
   "execution_count": 301,
   "metadata": {},
   "outputs": [
    {
     "data": {
      "image/png": "[encoded data removed]",
      "text/plain": [
       "<Figure size 432x288 with 1 Axes>"
      ]
     },
     "metadata": {
      "needs_background": "light"
     },
     "output_type": "display_data"
    }
   ],
   "source": [
    "d = enrollment_by_academic_year(course_info, regular=False, graduate=False)\n",
    "plot_dict(d)"
   ]
  },
  {
   "cell_type": "code",
   "execution_count": 302,
   "metadata": {},
   "outputs": [
    {
     "data": {
      "image/png": "[encoded data removed]",
      "text/plain": [
       "<Figure size 432x288 with 1 Axes>"
      ]
     },
     "metadata": {
      "needs_background": "light"
     },
     "output_type": "display_data"
    }
   ],
   "source": [
    "d = enrollment_by_academic_year(course_info, regular=False, undergraduate=False)\n",
    "plot_dict(d)"
   ]
  },
  {
   "cell_type": "markdown",
   "metadata": {},
   "source": [
    "### Exercise\n",
    "\n",
    "Retrieve the set of instructors by terms. Use namespace instead of dictionary, and split the \n",
    "name into (lastname, firstname)."
   ]
  },
  {
   "cell_type": "code",
   "execution_count": 303,
   "metadata": {
    "scrolled": true
   },
   "outputs": [],
   "source": [
    "def instructor_by_term(course_info):\n",
    "    inst = {}\n",
    "    for c in course_info:\n",
    "        # each c has structure being output by SimpleNamespace\n",
    "        if c.term in inst:\n",
    "            inst[c.term].add(c.instructor)\n",
    "        else:\n",
    "            inst[c.term] = {c.instructor}\n",
    "\n",
    "    return inst"
   ]
  },
  {
   "cell_type": "code",
   "execution_count": 304,
   "metadata": {},
   "outputs": [
    {
     "data": {
      "text/plain": [
       "{(2009, 9): {('Agichtein', 'Yevgeny Eugene'),\n",
       "  ('Cheung', 'Shun Yan'),\n",
       "  ('Gardner', 'James Johnson'),\n",
       "  ('Grigni', 'Michelangelo'),\n",
       "  ('Hutto', 'Phillip W'),\n",
       "  ('Lu', 'James'),\n",
       "  ('Mandelberg', 'Kenneth I'),\n",
       "  ('Parekh', 'Ojas D.'),\n",
       "  ('Siva', 'Sebastien'),\n",
       "  ('Smith', 'Joan A'),\n",
       "  ('Sunderam', 'V S'),\n",
       "  ('Taylor', 'James Peter'),\n",
       "  ('Veneziani', 'Alessandro'),\n",
       "  ('Xiong', 'Li')},\n",
       " (2010, 9): {('Agichtein', 'Yevgeny Eugene'),\n",
       "  ('Berisha', 'Sebastian'),\n",
       "  ('Cheung', 'Shun Yan'),\n",
       "  ('Denas', 'Olgert'),\n",
       "  ('Grigni', 'Michelangelo'),\n",
       "  ('Lu', 'James'),\n",
       "  ('Mandelberg', 'Kenneth I'),\n",
       "  ('Nagy', 'James'),\n",
       "  ('Siva', 'Sebastien'),\n",
       "  ('Smith', 'Joan A'),\n",
       "  ('Summet', 'Valerie H'),\n",
       "  ('Sunderam', 'V S'),\n",
       "  ('Taylor', 'James Peter'),\n",
       "  ('Xiong', 'Li')},\n",
       " (2008, 9): {('Agichtein', 'Yevgeny Eugene'),\n",
       "  ('Cheung', 'Shun Yan'),\n",
       "  ('Grigni', 'Michelangelo'),\n",
       "  ('Hutto', 'Phillip W'),\n",
       "  ('Lu', 'James'),\n",
       "  ('Mandelberg', 'Kenneth I'),\n",
       "  ('Parekh', 'Ojas D.'),\n",
       "  ('Siva', 'Sebastien'),\n",
       "  ('Sunderam', 'V S')},\n",
       " (2011, 9): {('Agichtein', 'Yevgeny Eugene'),\n",
       "  ('Bonomi', 'Luca'),\n",
       "  ('Cheung', 'Shun Yan'),\n",
       "  ('Grigni', 'Michelangelo'),\n",
       "  ('Lu', 'James'),\n",
       "  ('Mandelberg', 'Kenneth I'),\n",
       "  ('Nagy', 'James'),\n",
       "  ('Przybylinski', 'Thomas John'),\n",
       "  ('Qin', 'Zhaohui'),\n",
       "  ('Saltz', 'Joel H'),\n",
       "  ('Sharma', 'Ashish'),\n",
       "  ('Slawinski', 'Jaroslaw Kazimierz'),\n",
       "  ('Smith', 'Joan A'),\n",
       "  ('Summet', 'Valerie H'),\n",
       "  ('Sunderam', 'V S'),\n",
       "  ('Taylor', 'James Peter'),\n",
       "  ('Tirado-Ramos', 'Alfredo'),\n",
       "  ('Wang', 'Fusheng'),\n",
       "  ('Widener', 'Patrick McCall'),\n",
       "  ('Xiong', 'Li')},\n",
       " (2009, 1): {('Agichtein', 'Yevgeny Eugene'),\n",
       "  ('Cheung', 'Shun Yan'),\n",
       "  ('Grigni', 'Michelangelo'),\n",
       "  ('Hutto', 'Phillip W'),\n",
       "  ('Jurczyk', 'Pawel Czeslaw'),\n",
       "  ('Lu', 'James'),\n",
       "  ('Mandelberg', 'Kenneth I'),\n",
       "  ('Parekh', 'Ojas D.'),\n",
       "  ('Rodl', 'Vojtech'),\n",
       "  ('Sunderam', 'V S'),\n",
       "  ('Taylor', 'James Peter'),\n",
       "  ('Xiong', 'Li')},\n",
       " (2010, 1): {('Agichtein', 'Yevgeny Eugene'),\n",
       "  ('Cheung', 'Shun Yan'),\n",
       "  ('Goryczka', 'Slawomir Adam'),\n",
       "  ('Grigni', 'Michelangelo'),\n",
       "  ('Haber', 'Eldad'),\n",
       "  ('Knepper', 'Sarah Marie'),\n",
       "  ('Lu', 'James'),\n",
       "  ('Mandelberg', 'Kenneth I'),\n",
       "  ('Nagy', 'James'),\n",
       "  ('Siva', 'Sebastien'),\n",
       "  ('Smith', 'Joan A'),\n",
       "  ('Sunderam', 'V S'),\n",
       "  ('Xiong', 'Li')},\n",
       " (2013, 1): {('Agichtein', 'Yevgeny Eugene'),\n",
       "  ('Cheung', 'Shun Yan'),\n",
       "  ('Doloc Mihu', 'Anca'),\n",
       "  ('Grigni', 'Michelangelo'),\n",
       "  ('Gunay', 'Cengiz'),\n",
       "  ('Gutman', 'David A'),\n",
       "  ('Kong', 'Jun'),\n",
       "  ('Lu', 'James'),\n",
       "  ('Mandelberg', 'Kenneth I'),\n",
       "  ('Nagy', 'James'),\n",
       "  ('Qin', 'Zhaohui'),\n",
       "  ('Saltz', 'Joel H'),\n",
       "  ('Savenkov', 'Denis'),\n",
       "  ('Sharma', 'Ashish'),\n",
       "  ('Summet', 'Valerie H'),\n",
       "  ('Sunderam', 'V S'),\n",
       "  ('Taylor', 'James Peter'),\n",
       "  ('Tirado-Ramos', 'Alfredo'),\n",
       "  ('Wang', 'Fusheng'),\n",
       "  ('Wang', 'Yu'),\n",
       "  ('Xiong', 'Li'),\n",
       "  ('Zheng', 'Shuai')},\n",
       " (2014, 1): {('Agichtein', 'Yevgeny Eugene'),\n",
       "  ('Bertagna', 'Luca'),\n",
       "  ('Cheung', 'Shun Yan'),\n",
       "  ('Cooper', 'Lee Alex Donald'),\n",
       "  ('Garcia Ulloa', 'Daniel A'),\n",
       "  ('Grigni', 'Michelangelo'),\n",
       "  ('Gunay', 'Cengiz'),\n",
       "  ('Jurczyk', 'Tomasz Marek'),\n",
       "  ('La Fleur', 'Steven James'),\n",
       "  ('Liang', 'Yanhui'),\n",
       "  ('Lu', 'James'),\n",
       "  ('Mandelberg', 'Kenneth I'),\n",
       "  ('Nagy', 'James'),\n",
       "  ('Poovey', 'Jason A'),\n",
       "  ('Qin', 'Zhaohui'),\n",
       "  ('Saltz', 'Joel H'),\n",
       "  ('Savenkov', 'Denis'),\n",
       "  ('Sharma', 'Ashish'),\n",
       "  ('Summet', 'Valerie H'),\n",
       "  ('Sunderam', 'V S'),\n",
       "  ('Taylor', 'James Peter'),\n",
       "  ('Vo', 'Hoang'),\n",
       "  ('Wang', 'Fusheng'),\n",
       "  ('Wu', 'Hao'),\n",
       "  ('Xiao', 'Yonghui'),\n",
       "  ('Xiong', 'Li'),\n",
       "  ('Yang', 'Shanshuang'),\n",
       "  ('Yu', 'Tianwei')},\n",
       " (2016, 1): {('Agichtein', 'Yevgeny Eugene'),\n",
       "  ('Cheung', 'Shun Yan'),\n",
       "  ('Choi', 'Jinho D'),\n",
       "  ('Clifford', 'Gari D.'),\n",
       "  ('Cooper', 'Lee Alex Donald'),\n",
       "  ('Fossati', 'David'),\n",
       "  ('Gadani', 'Avani'),\n",
       "  ('Galinski', 'Mary R'),\n",
       "  ('Grigni', 'Michelangelo'),\n",
       "  ('Hertzberg', 'Vicki'),\n",
       "  ('Ho', 'Joyce C'),\n",
       "  ('Kong', 'Jun'),\n",
       "  ('La Fleur', 'Steven James'),\n",
       "  ('Mandelberg', 'Kenneth I'),\n",
       "  ('Nagy', 'James'),\n",
       "  ('Nemati', 'Shamim'),\n",
       "  ('Qin', 'Zhaohui'),\n",
       "  ('Rossetti', 'Blair John'),\n",
       "  ('Sharma', 'Ashish'),\n",
       "  ('Summet', 'Valerie H'),\n",
       "  ('Sunderam', 'V S'),\n",
       "  ('Vigfusson', 'Ymir'),\n",
       "  ('Xiong', 'Li')},\n",
       " (2017, 1): {('Agichtein', 'Yevgeny Eugene'),\n",
       "  ('Brat', 'Daniel Jay'),\n",
       "  ('Cheung', 'Shun Yan'),\n",
       "  ('Choi', 'Jinho D'),\n",
       "  ('Clifford', 'Gari D.'),\n",
       "  ('Cooper', 'Lee Alex Donald'),\n",
       "  ('Doloc Mihu', 'Anca'),\n",
       "  ('Fossati', 'David'),\n",
       "  ('Fowler', 'Paul G'),\n",
       "  ('Gadani', 'Avani'),\n",
       "  ('Galinski', 'Mary R'),\n",
       "  ('Grigni', 'Michelangelo'),\n",
       "  ('Ho', 'Joyce C'),\n",
       "  ('La Fleur', 'Steven James'),\n",
       "  ('Lu', 'James'),\n",
       "  ('Mandelberg', 'Kenneth I'),\n",
       "  ('Nagy', 'James'),\n",
       "  ('Nemati', 'Shamim'),\n",
       "  ('Qin', 'Zhaohui'),\n",
       "  ('Sunderam', 'V S'),\n",
       "  ('Swenson', 'Michelle D'),\n",
       "  ('Vigfusson', 'Ymir'),\n",
       "  ('Xiong', 'Li'),\n",
       "  ('Zureick-Brown', 'David M')},\n",
       " (2017, 9): {('Agichtein', 'Yevgeny Eugene'),\n",
       "  ('Arnold', 'Dorian'),\n",
       "  ('Cheung', 'Shun Yan'),\n",
       "  ('Choi', 'Jinho D'),\n",
       "  ('Clifford', 'Gari D.'),\n",
       "  ('Cooper', 'Lee Alex Donald'),\n",
       "  ('Fossati', 'David'),\n",
       "  ('Fowler', 'Paul G'),\n",
       "  ('Gadani', 'Avani'),\n",
       "  ('Grigni', 'Michelangelo'),\n",
       "  ('Ho', 'Joyce C'),\n",
       "  ('Kay', 'William W'),\n",
       "  ('Kong', 'Jun'),\n",
       "  ('La Fleur', 'Steven James'),\n",
       "  ('Lu', 'James'),\n",
       "  ('Mandelberg', 'Kenneth I'),\n",
       "  ('Nagy', 'James'),\n",
       "  ('Nemati', 'Shamim'),\n",
       "  ('Qin', 'Zhaohui'),\n",
       "  ('Vigfusson', 'Ymir'),\n",
       "  ('Xiong', 'Li')},\n",
       " (2012, 1): {('Agichtein', 'Yevgeny Eugene'),\n",
       "  ('Aji', 'Abulimiti'),\n",
       "  ('Benzi', 'Michele'),\n",
       "  ('Bonomi', 'Luca'),\n",
       "  ('Cheung', 'Shun Yan'),\n",
       "  ('Fan', 'Liyue'),\n",
       "  ('Grigni', 'Michelangelo'),\n",
       "  ('Gutman', 'David A'),\n",
       "  ('Kotov', 'Alexander'),\n",
       "  ('Liu', 'Qiaoling'),\n",
       "  ('Lu', 'James'),\n",
       "  ('Mandelberg', 'Kenneth I'),\n",
       "  ('Nagy', 'James'),\n",
       "  ('Nalisnik', 'Michael'),\n",
       "  ('Qin', 'Zhaohui'),\n",
       "  ('Saltz', 'Joel H'),\n",
       "  ('Sunderam', 'V S'),\n",
       "  ('Taylor', 'James Peter'),\n",
       "  ('Tirado-Ramos', 'Alfredo'),\n",
       "  ('Wang', 'Fusheng'),\n",
       "  ('Xiong', 'Li'),\n",
       "  ('Yuan', 'Shuai')},\n",
       " (2013, 9): {('Agichtein', 'Yevgeny Eugene'),\n",
       "  ('Agravat', 'Sanjay B.'),\n",
       "  ('Chen', 'Li'),\n",
       "  ('Cheung', 'Shun Yan'),\n",
       "  ('Cooper', 'Lee Alex Donald'),\n",
       "  ('Garcia Ulloa', 'Daniel A'),\n",
       "  ('Grigni', 'Michelangelo'),\n",
       "  ('Gunay', 'Cengiz'),\n",
       "  ('Hunter', 'Eric'),\n",
       "  ('Kong', 'Jun'),\n",
       "  ('Lu', 'James'),\n",
       "  ('Mandelberg', 'Kenneth I'),\n",
       "  ('Nagy', 'James'),\n",
       "  ('Nalisnik', 'Michael'),\n",
       "  ('Pournajaf', 'Layla'),\n",
       "  ('Qin', 'Zhaohui'),\n",
       "  ('Saltz', 'Joel H'),\n",
       "  ('Savenkov', 'Denis'),\n",
       "  ('Sharma', 'Ashish'),\n",
       "  ('Summet', 'Valerie H'),\n",
       "  ('Sunderam', 'V S'),\n",
       "  ('Taylor', 'James Peter'),\n",
       "  ('Wang', 'Fusheng'),\n",
       "  ('Xiong', 'Li')},\n",
       " (2018, 1): {('Agichtein', 'Yevgeny Eugene'),\n",
       "  ('Arnold', 'Dorian'),\n",
       "  ('Cheung', 'Shun Yan'),\n",
       "  ('Choi', 'Jinho D'),\n",
       "  ('Clifford', 'Gari D.'),\n",
       "  ('Cooper', 'Lee Alex Donald'),\n",
       "  ('Fossati', 'David'),\n",
       "  ('Gadani', 'Avani'),\n",
       "  ('Grigni', 'Michelangelo'),\n",
       "  ('Ho', 'Joyce C'),\n",
       "  ('Kay', 'William W'),\n",
       "  ('Kong', 'Jun'),\n",
       "  ('La Fleur', 'Steven James'),\n",
       "  ('Mandelberg', 'Kenneth I'),\n",
       "  ('Nagy', 'James'),\n",
       "  ('Nemati', 'Shamim'),\n",
       "  ('Qin', 'Zhaohui'),\n",
       "  ('Ruthotto', 'Lars'),\n",
       "  ('Sharma', 'Ashish'),\n",
       "  ('Sunderam', 'V S'),\n",
       "  ('Vigfusson', 'Ymir'),\n",
       "  ('Wu', 'Hao'),\n",
       "  ('Xiong', 'Li'),\n",
       "  ('Yu', 'Tianwei')},\n",
       " (2015, 1): {('Agichtein', 'Yevgeny Eugene'),\n",
       "  ('Cheung', 'Shun Yan'),\n",
       "  ('Choi', 'Jinho D'),\n",
       "  ('Cooper', 'Lee Alex Donald'),\n",
       "  ('Cummings', 'Richard Dale'),\n",
       "  ('Doloc Mihu', 'Anca'),\n",
       "  ('Galinski', 'Mary R'),\n",
       "  ('Garvey', 'Clarissa Catherine'),\n",
       "  ('Grigni', 'Michelangelo'),\n",
       "  ('Gunay', 'Cengiz'),\n",
       "  ('Gutman', 'David A'),\n",
       "  ('Kay', 'William W'),\n",
       "  ('Kong', 'Jun'),\n",
       "  ('La Fleur', 'Steven James'),\n",
       "  ('Lu', 'James'),\n",
       "  ('Mandelberg', 'Kenneth I'),\n",
       "  ('Nagy', 'James'),\n",
       "  ('Qin', 'Zhaohui'),\n",
       "  ('Summet', 'Valerie H'),\n",
       "  ('Sunderam', 'V S'),\n",
       "  ('Swenson', 'Michelle D'),\n",
       "  ('Vigfusson', 'Ymir'),\n",
       "  ('Xiong', 'Li'),\n",
       "  ('Xu', 'Tianlei')},\n",
       " (2011, 1): {('Agichtein', 'Yevgeny Eugene'),\n",
       "  ('Berisha', 'Sebastian'),\n",
       "  ('Cheung', 'Shun Yan'),\n",
       "  ('Grigni', 'Michelangelo'),\n",
       "  ('Guo', 'Qi'),\n",
       "  ('Lu', 'James'),\n",
       "  ('Mandelberg', 'Kenneth I'),\n",
       "  ('Nagy', 'James'),\n",
       "  ('Qin', 'Zhaohui'),\n",
       "  ('Saltz', 'Joel H'),\n",
       "  ('Slawinski', 'Jaroslaw Kazimierz'),\n",
       "  ('Smith', 'Joan A'),\n",
       "  ('Solomon', 'Michael Glenn'),\n",
       "  ('Summet', 'Valerie H'),\n",
       "  ('Sunderam', 'V S'),\n",
       "  ('Taylor', 'James Peter'),\n",
       "  ('Tirado-Ramos', 'Alfredo'),\n",
       "  ('Wang', 'Fusheng'),\n",
       "  ('Xiong', 'Li')},\n",
       " (2016, 9): {('Agichtein', 'Yevgeny Eugene'),\n",
       "  ('Cheung', 'Shun Yan'),\n",
       "  ('Choi', 'Jinho D'),\n",
       "  ('Clifford', 'Gari D.'),\n",
       "  ('Cooper', 'Lee Alex Donald'),\n",
       "  ('Doloc Mihu', 'Anca'),\n",
       "  ('Fossati', 'David'),\n",
       "  ('Gadani', 'Avani'),\n",
       "  ('Galinski', 'Mary R'),\n",
       "  ('Grigni', 'Michelangelo'),\n",
       "  ('La Fleur', 'Steven James'),\n",
       "  ('Lu', 'James'),\n",
       "  ('Mandelberg', 'Kenneth I'),\n",
       "  ('Nagy', 'James'),\n",
       "  ('Nemati', 'Shamim'),\n",
       "  ('Qin', 'Zhaohui'),\n",
       "  ('Sharma', 'Ashish'),\n",
       "  ('Sunderam', 'V S'),\n",
       "  ('Swenson', 'Michelle D'),\n",
       "  ('Vigfusson', 'Ymir'),\n",
       "  ('Xiong', 'Li')},\n",
       " (2017, 6): {('Agichtein', 'Yevgeny Eugene'),\n",
       "  ('Cheung', 'Shun Yan'),\n",
       "  ('Choi', 'Jinho D'),\n",
       "  ('Clifford', 'Gari D.'),\n",
       "  ('Elliott', 'Bradley'),\n",
       "  ('Ho', 'Joyce C'),\n",
       "  ('La Fleur', 'Steven James'),\n",
       "  ('Nemati', 'Shamim'),\n",
       "  ('Qin', 'Zhaohui'),\n",
       "  ('Sharma', 'Ashish'),\n",
       "  ('Xiong', 'Li')},\n",
       " (2010, 6): {('Agichtein', 'Yevgeny Eugene'),\n",
       "  ('Grigni', 'Michelangelo'),\n",
       "  ('Lu', 'James'),\n",
       "  ('Siva', 'Sebastien'),\n",
       "  ('Xiong', 'Li')},\n",
       " (2016, 6): {('Agichtein', 'Yevgeny Eugene'),\n",
       "  ('Cooper', 'Lee Alex Donald'),\n",
       "  ('La Fleur', 'Steven James'),\n",
       "  ('Sunderam', 'V S'),\n",
       "  ('Xiong', 'Li')},\n",
       " (2014, 9): {('Agichtein', 'Yevgeny Eugene'),\n",
       "  ('Chen', 'Xin'),\n",
       "  ('Cheung', 'Shun Yan'),\n",
       "  ('Chien', 'Jung-Ting'),\n",
       "  ('Choi', 'Jinho D'),\n",
       "  ('Cooper', 'Lee Alex Donald'),\n",
       "  ('Cummings', 'Richard Dale'),\n",
       "  ('Galinski', 'Mary R'),\n",
       "  ('Garvey', 'Clarissa Catherine'),\n",
       "  ('Grigni', 'Michelangelo'),\n",
       "  ('Gunay', 'Cengiz'),\n",
       "  ('Gutman', 'David A'),\n",
       "  ('Hertzberg', 'Vicki'),\n",
       "  ('Jurczyk', 'Tomasz Marek'),\n",
       "  ('La Fleur', 'Steven James'),\n",
       "  ('Li', 'Haoran'),\n",
       "  ('Lu', 'James'),\n",
       "  ('Mandelberg', 'Kenneth I'),\n",
       "  ('Qin', 'Zhaohui'),\n",
       "  ('Sharma', 'Ashish'),\n",
       "  ('Summet', 'Valerie H'),\n",
       "  ('Sun', 'Xiaobo'),\n",
       "  ('Sunderam', 'V S'),\n",
       "  ('Vaughn', 'Christopher Lee'),\n",
       "  ('Vigfusson', 'Ymir'),\n",
       "  ('Vo', 'Hoang'),\n",
       "  ('Wang', 'Fusheng'),\n",
       "  ('Xiong', 'Li'),\n",
       "  ('Xu', 'Tianlei'),\n",
       "  ('Xu', 'Xiaofeng')},\n",
       " (2013, 6): {('Agichtein', 'Yevgeny Eugene'),\n",
       "  ('Cooper', 'Lee Alex Donald'),\n",
       "  ('Doloc Mihu', 'Anca'),\n",
       "  ('Kalra', 'Ankur'),\n",
       "  ('Wang', 'Fusheng')},\n",
       " (2012, 9): {('Agichtein', 'Yevgeny Eugene'),\n",
       "  ('Aji', 'Abulimiti'),\n",
       "  ('Cheung', 'Shun Yan'),\n",
       "  ('Grigni', 'Michelangelo'),\n",
       "  ('Gunay', 'Cengiz'),\n",
       "  ('Lagun', 'Dmitry'),\n",
       "  ('Lu', 'James'),\n",
       "  ('Mandelberg', 'Kenneth I'),\n",
       "  ('Nagy', 'James'),\n",
       "  ('Qin', 'Zhaohui'),\n",
       "  ('Saltz', 'Joel H'),\n",
       "  ('Sharma', 'Ashish'),\n",
       "  ('Summet', 'Valerie H'),\n",
       "  ('Sunderam', 'V S'),\n",
       "  ('Taylor', 'James Peter'),\n",
       "  ('Tirado-Ramos', 'Alfredo'),\n",
       "  ('Wang', 'Fusheng'),\n",
       "  ('Wang', 'Yu'),\n",
       "  ('Xiong', 'Li'),\n",
       "  ('Zheng', 'Shuai')},\n",
       " (2014, 6): {('Agichtein', 'Yevgeny Eugene'),\n",
       "  ('Doloc Mihu', 'Anca'),\n",
       "  ('La Fleur', 'Steven James'),\n",
       "  ('Nagy', 'James'),\n",
       "  ('Qin', 'Zhaohui'),\n",
       "  ('Wang', 'Fusheng'),\n",
       "  ('Xiong', 'Li')},\n",
       " (2015, 9): {('Agichtein', 'Yevgeny Eugene'),\n",
       "  ('Cheung', 'Shun Yan'),\n",
       "  ('Choi', 'Jinho D'),\n",
       "  ('Cooper', 'Lee Alex Donald'),\n",
       "  ('Doloc Mihu', 'Anca'),\n",
       "  ('Gadani', 'Avani'),\n",
       "  ('Galinski', 'Mary R'),\n",
       "  ('Grigni', 'Michelangelo'),\n",
       "  ('Kong', 'Jun'),\n",
       "  ('La Fleur', 'Steven James'),\n",
       "  ('Lu', 'James'),\n",
       "  ('Mandelberg', 'Kenneth I'),\n",
       "  ('Nagy', 'James'),\n",
       "  ('Nemati', 'Shamim'),\n",
       "  ('Qin', 'Zhaohui'),\n",
       "  ('Summet', 'Valerie H'),\n",
       "  ('Sunderam', 'V S'),\n",
       "  ('Vigfusson', 'Ymir'),\n",
       "  ('Xiong', 'Li')},\n",
       " (2012, 6): {('Bonomi', 'Luca'),\n",
       "  ('Grigni', 'Michelangelo'),\n",
       "  ('Kalra', 'Ankur'),\n",
       "  ('Xiong', 'Li')},\n",
       " (2015, 6): {('Choi', 'Jinho D'),\n",
       "  ('Cooper', 'Lee Alex Donald'),\n",
       "  ('La Fleur', 'Steven James')},\n",
       " (2009, 6): {('Hutto', 'Phillip W')},\n",
       " (2011, 6): {('Lu', 'James'),\n",
       "  ('Nagy', 'James'),\n",
       "  ('Slawinski', 'Jaroslaw Kazimierz'),\n",
       "  ('Xiong', 'Li')}}"
      ]
     },
     "execution_count": 304,
     "metadata": {},
     "output_type": "execute_result"
    }
   ],
   "source": [
    "d = instructor_by_term(course_info)\n",
    "d"
   ]
  },
  {
   "cell_type": "code",
   "execution_count": 305,
   "metadata": {},
   "outputs": [
    {
     "name": "stdout",
     "output_type": "stream",
     "text": [
      "(2008, 9) 9\n",
      "(2009, 1) 12\n",
      "(2009, 6) 1\n",
      "(2009, 9) 14\n",
      "(2010, 1) 13\n",
      "(2010, 6) 5\n",
      "(2010, 9) 14\n",
      "(2011, 1) 19\n",
      "(2011, 6) 4\n",
      "(2011, 9) 20\n",
      "(2012, 1) 22\n",
      "(2012, 6) 4\n",
      "(2012, 9) 20\n",
      "(2013, 1) 22\n",
      "(2013, 6) 5\n",
      "(2013, 9) 24\n",
      "(2014, 1) 28\n",
      "(2014, 6) 7\n",
      "(2014, 9) 30\n",
      "(2015, 1) 24\n",
      "(2015, 6) 3\n",
      "(2015, 9) 19\n",
      "(2016, 1) 23\n",
      "(2016, 6) 5\n",
      "(2016, 9) 21\n",
      "(2017, 1) 24\n",
      "(2017, 6) 11\n",
      "(2017, 9) 21\n",
      "(2018, 1) 24\n"
     ]
    }
   ],
   "source": [
    "for k, v in sorted(d.items()): print(k, len(v))"
   ]
  },
  {
   "cell_type": "code",
   "execution_count": 306,
   "metadata": {},
   "outputs": [],
   "source": [
    "from types import SimpleNamespace\n",
    "import csv\n",
    "\n",
    "csv_file = 'cs_courses_2008_2018.csv'\n",
    "\n",
    "def info(row):\n",
    "    # term is normalized to (year, term_id) (e.g., 5181 -> (2018, 1))\n",
    "    # term_id = 1: Spring, 6: Summer, 9: Fall\n",
    "    r = row[0]\n",
    "    term = (2000 + int((int(r) - 5000) / 10), int(r[-1]))\n",
    "\n",
    "    # name = lastname,firstname\n",
    "    r = row[12].split(',')\n",
    "    instructor = (r[0].strip(), r[1].strip())\n",
    "\n",
    "    return SimpleNamespace(\n",
    "        term=term,\n",
    "        subject=row[3].strip(),\n",
    "        catalog=row[4].strip(),\n",
    "        section=row[5].strip(),\n",
    "        title=row[6].strip(),\n",
    "        min_hours=int(row[8]),\n",
    "        max_hours=int(row[9]),\n",
    "        enrollment=int(row[11]),\n",
    "        instructor=instructor)\n",
    "\n",
    "def skip(i, row):\n",
    "    return i == 0 or \\\n",
    "           int(row[11]) == 0 or \\\n",
    "           row[12].strip() == '' or \\\n",
    "           row[14].strip() != 'Active'\n",
    "\n",
    "def load_course_info(csv_file):\n",
    "    with open(csv_file) as fin:\n",
    "        reader = csv.reader(fin)\n",
    "        course_info = [info(row) for i, row in enumerate(reader) if not skip(i, row)]\n",
    "\n",
    "    return course_info\n",
    "    \n",
    "def term_to_year(term):\n",
    "    return term[0] if term[1] == 9 else term[0] - 1\n",
    "\n",
    "def enrollment_by_academic_year(course_info):\n",
    "    enroll = {}\n",
    "    for c in course_info:\n",
    "        year = term_to_year(c.term)\n",
    "        enroll[year] = enroll.get(year, 0) + c.enrollment\n",
    "\n",
    "    return enroll\n",
    "\n",
    "def instructor_by_academic_year(course_info):\n",
    "    inst = {}\n",
    "   \n",
    "    for c in course_info:\n",
    "        c.term = term_to_year(c.term)\n",
    "        if c.term in inst:\n",
    "            inst[c.term].add(c.instructor)\n",
    "        else:\n",
    "            inst[c.term] = {c.instructor}\n",
    "\n",
    "    return inst\n",
    "\n",
    "course_info = load_course_info(csv_file)\n",
    "d=instructor_by_academic_year(course_info)"
   ]
  },
  {
   "cell_type": "code",
   "execution_count": 307,
   "metadata": {},
   "outputs": [
    {
     "data": {
      "text/plain": [
       "{2009: {('Agichtein', 'Yevgeny Eugene'),\n",
       "  ('Cheung', 'Shun Yan'),\n",
       "  ('Gardner', 'James Johnson'),\n",
       "  ('Goryczka', 'Slawomir Adam'),\n",
       "  ('Grigni', 'Michelangelo'),\n",
       "  ('Haber', 'Eldad'),\n",
       "  ('Hutto', 'Phillip W'),\n",
       "  ('Knepper', 'Sarah Marie'),\n",
       "  ('Lu', 'James'),\n",
       "  ('Mandelberg', 'Kenneth I'),\n",
       "  ('Nagy', 'James'),\n",
       "  ('Parekh', 'Ojas D.'),\n",
       "  ('Siva', 'Sebastien'),\n",
       "  ('Smith', 'Joan A'),\n",
       "  ('Sunderam', 'V S'),\n",
       "  ('Taylor', 'James Peter'),\n",
       "  ('Veneziani', 'Alessandro'),\n",
       "  ('Xiong', 'Li')},\n",
       " 2010: {('Agichtein', 'Yevgeny Eugene'),\n",
       "  ('Berisha', 'Sebastian'),\n",
       "  ('Cheung', 'Shun Yan'),\n",
       "  ('Denas', 'Olgert'),\n",
       "  ('Grigni', 'Michelangelo'),\n",
       "  ('Guo', 'Qi'),\n",
       "  ('Lu', 'James'),\n",
       "  ('Mandelberg', 'Kenneth I'),\n",
       "  ('Nagy', 'James'),\n",
       "  ('Qin', 'Zhaohui'),\n",
       "  ('Saltz', 'Joel H'),\n",
       "  ('Siva', 'Sebastien'),\n",
       "  ('Slawinski', 'Jaroslaw Kazimierz'),\n",
       "  ('Smith', 'Joan A'),\n",
       "  ('Solomon', 'Michael Glenn'),\n",
       "  ('Summet', 'Valerie H'),\n",
       "  ('Sunderam', 'V S'),\n",
       "  ('Taylor', 'James Peter'),\n",
       "  ('Tirado-Ramos', 'Alfredo'),\n",
       "  ('Wang', 'Fusheng'),\n",
       "  ('Xiong', 'Li')},\n",
       " 2008: {('Agichtein', 'Yevgeny Eugene'),\n",
       "  ('Cheung', 'Shun Yan'),\n",
       "  ('Grigni', 'Michelangelo'),\n",
       "  ('Hutto', 'Phillip W'),\n",
       "  ('Jurczyk', 'Pawel Czeslaw'),\n",
       "  ('Lu', 'James'),\n",
       "  ('Mandelberg', 'Kenneth I'),\n",
       "  ('Parekh', 'Ojas D.'),\n",
       "  ('Rodl', 'Vojtech'),\n",
       "  ('Siva', 'Sebastien'),\n",
       "  ('Sunderam', 'V S'),\n",
       "  ('Taylor', 'James Peter'),\n",
       "  ('Xiong', 'Li')},\n",
       " 2011: {('Agichtein', 'Yevgeny Eugene'),\n",
       "  ('Aji', 'Abulimiti'),\n",
       "  ('Benzi', 'Michele'),\n",
       "  ('Bonomi', 'Luca'),\n",
       "  ('Cheung', 'Shun Yan'),\n",
       "  ('Fan', 'Liyue'),\n",
       "  ('Grigni', 'Michelangelo'),\n",
       "  ('Gutman', 'David A'),\n",
       "  ('Kalra', 'Ankur'),\n",
       "  ('Kotov', 'Alexander'),\n",
       "  ('Liu', 'Qiaoling'),\n",
       "  ('Lu', 'James'),\n",
       "  ('Mandelberg', 'Kenneth I'),\n",
       "  ('Nagy', 'James'),\n",
       "  ('Nalisnik', 'Michael'),\n",
       "  ('Przybylinski', 'Thomas John'),\n",
       "  ('Qin', 'Zhaohui'),\n",
       "  ('Saltz', 'Joel H'),\n",
       "  ('Sharma', 'Ashish'),\n",
       "  ('Slawinski', 'Jaroslaw Kazimierz'),\n",
       "  ('Smith', 'Joan A'),\n",
       "  ('Summet', 'Valerie H'),\n",
       "  ('Sunderam', 'V S'),\n",
       "  ('Taylor', 'James Peter'),\n",
       "  ('Tirado-Ramos', 'Alfredo'),\n",
       "  ('Wang', 'Fusheng'),\n",
       "  ('Widener', 'Patrick McCall'),\n",
       "  ('Xiong', 'Li'),\n",
       "  ('Yuan', 'Shuai')},\n",
       " 2012: {('Agichtein', 'Yevgeny Eugene'),\n",
       "  ('Aji', 'Abulimiti'),\n",
       "  ('Cheung', 'Shun Yan'),\n",
       "  ('Cooper', 'Lee Alex Donald'),\n",
       "  ('Doloc Mihu', 'Anca'),\n",
       "  ('Grigni', 'Michelangelo'),\n",
       "  ('Gunay', 'Cengiz'),\n",
       "  ('Gutman', 'David A'),\n",
       "  ('Kalra', 'Ankur'),\n",
       "  ('Kong', 'Jun'),\n",
       "  ('Lagun', 'Dmitry'),\n",
       "  ('Lu', 'James'),\n",
       "  ('Mandelberg', 'Kenneth I'),\n",
       "  ('Nagy', 'James'),\n",
       "  ('Qin', 'Zhaohui'),\n",
       "  ('Saltz', 'Joel H'),\n",
       "  ('Savenkov', 'Denis'),\n",
       "  ('Sharma', 'Ashish'),\n",
       "  ('Summet', 'Valerie H'),\n",
       "  ('Sunderam', 'V S'),\n",
       "  ('Taylor', 'James Peter'),\n",
       "  ('Tirado-Ramos', 'Alfredo'),\n",
       "  ('Wang', 'Fusheng'),\n",
       "  ('Wang', 'Yu'),\n",
       "  ('Xiong', 'Li'),\n",
       "  ('Zheng', 'Shuai')},\n",
       " 2013: {('Agichtein', 'Yevgeny Eugene'),\n",
       "  ('Agravat', 'Sanjay B.'),\n",
       "  ('Bertagna', 'Luca'),\n",
       "  ('Chen', 'Li'),\n",
       "  ('Cheung', 'Shun Yan'),\n",
       "  ('Cooper', 'Lee Alex Donald'),\n",
       "  ('Doloc Mihu', 'Anca'),\n",
       "  ('Garcia Ulloa', 'Daniel A'),\n",
       "  ('Grigni', 'Michelangelo'),\n",
       "  ('Gunay', 'Cengiz'),\n",
       "  ('Hunter', 'Eric'),\n",
       "  ('Jurczyk', 'Tomasz Marek'),\n",
       "  ('Kong', 'Jun'),\n",
       "  ('La Fleur', 'Steven James'),\n",
       "  ('Liang', 'Yanhui'),\n",
       "  ('Lu', 'James'),\n",
       "  ('Mandelberg', 'Kenneth I'),\n",
       "  ('Nagy', 'James'),\n",
       "  ('Nalisnik', 'Michael'),\n",
       "  ('Poovey', 'Jason A'),\n",
       "  ('Pournajaf', 'Layla'),\n",
       "  ('Qin', 'Zhaohui'),\n",
       "  ('Saltz', 'Joel H'),\n",
       "  ('Savenkov', 'Denis'),\n",
       "  ('Sharma', 'Ashish'),\n",
       "  ('Summet', 'Valerie H'),\n",
       "  ('Sunderam', 'V S'),\n",
       "  ('Taylor', 'James Peter'),\n",
       "  ('Vo', 'Hoang'),\n",
       "  ('Wang', 'Fusheng'),\n",
       "  ('Wu', 'Hao'),\n",
       "  ('Xiao', 'Yonghui'),\n",
       "  ('Xiong', 'Li'),\n",
       "  ('Yang', 'Shanshuang'),\n",
       "  ('Yu', 'Tianwei')},\n",
       " 2015: {('Agichtein', 'Yevgeny Eugene'),\n",
       "  ('Cheung', 'Shun Yan'),\n",
       "  ('Choi', 'Jinho D'),\n",
       "  ('Clifford', 'Gari D.'),\n",
       "  ('Cooper', 'Lee Alex Donald'),\n",
       "  ('Doloc Mihu', 'Anca'),\n",
       "  ('Fossati', 'David'),\n",
       "  ('Gadani', 'Avani'),\n",
       "  ('Galinski', 'Mary R'),\n",
       "  ('Grigni', 'Michelangelo'),\n",
       "  ('Hertzberg', 'Vicki'),\n",
       "  ('Ho', 'Joyce C'),\n",
       "  ('Kong', 'Jun'),\n",
       "  ('La Fleur', 'Steven James'),\n",
       "  ('Lu', 'James'),\n",
       "  ('Mandelberg', 'Kenneth I'),\n",
       "  ('Nagy', 'James'),\n",
       "  ('Nemati', 'Shamim'),\n",
       "  ('Qin', 'Zhaohui'),\n",
       "  ('Rossetti', 'Blair John'),\n",
       "  ('Sharma', 'Ashish'),\n",
       "  ('Summet', 'Valerie H'),\n",
       "  ('Sunderam', 'V S'),\n",
       "  ('Vigfusson', 'Ymir'),\n",
       "  ('Xiong', 'Li')},\n",
       " 2016: {('Agichtein', 'Yevgeny Eugene'),\n",
       "  ('Brat', 'Daniel Jay'),\n",
       "  ('Cheung', 'Shun Yan'),\n",
       "  ('Choi', 'Jinho D'),\n",
       "  ('Clifford', 'Gari D.'),\n",
       "  ('Cooper', 'Lee Alex Donald'),\n",
       "  ('Doloc Mihu', 'Anca'),\n",
       "  ('Elliott', 'Bradley'),\n",
       "  ('Fossati', 'David'),\n",
       "  ('Fowler', 'Paul G'),\n",
       "  ('Gadani', 'Avani'),\n",
       "  ('Galinski', 'Mary R'),\n",
       "  ('Grigni', 'Michelangelo'),\n",
       "  ('Ho', 'Joyce C'),\n",
       "  ('La Fleur', 'Steven James'),\n",
       "  ('Lu', 'James'),\n",
       "  ('Mandelberg', 'Kenneth I'),\n",
       "  ('Nagy', 'James'),\n",
       "  ('Nemati', 'Shamim'),\n",
       "  ('Qin', 'Zhaohui'),\n",
       "  ('Sharma', 'Ashish'),\n",
       "  ('Sunderam', 'V S'),\n",
       "  ('Swenson', 'Michelle D'),\n",
       "  ('Vigfusson', 'Ymir'),\n",
       "  ('Xiong', 'Li'),\n",
       "  ('Zureick-Brown', 'David M')},\n",
       " 2017: {('Agichtein', 'Yevgeny Eugene'),\n",
       "  ('Arnold', 'Dorian'),\n",
       "  ('Cheung', 'Shun Yan'),\n",
       "  ('Choi', 'Jinho D'),\n",
       "  ('Clifford', 'Gari D.'),\n",
       "  ('Cooper', 'Lee Alex Donald'),\n",
       "  ('Fossati', 'David'),\n",
       "  ('Fowler', 'Paul G'),\n",
       "  ('Gadani', 'Avani'),\n",
       "  ('Grigni', 'Michelangelo'),\n",
       "  ('Ho', 'Joyce C'),\n",
       "  ('Kay', 'William W'),\n",
       "  ('Kong', 'Jun'),\n",
       "  ('La Fleur', 'Steven James'),\n",
       "  ('Lu', 'James'),\n",
       "  ('Mandelberg', 'Kenneth I'),\n",
       "  ('Nagy', 'James'),\n",
       "  ('Nemati', 'Shamim'),\n",
       "  ('Qin', 'Zhaohui'),\n",
       "  ('Ruthotto', 'Lars'),\n",
       "  ('Sharma', 'Ashish'),\n",
       "  ('Sunderam', 'V S'),\n",
       "  ('Vigfusson', 'Ymir'),\n",
       "  ('Wu', 'Hao'),\n",
       "  ('Xiong', 'Li'),\n",
       "  ('Yu', 'Tianwei')},\n",
       " 2014: {('Agichtein', 'Yevgeny Eugene'),\n",
       "  ('Chen', 'Xin'),\n",
       "  ('Cheung', 'Shun Yan'),\n",
       "  ('Chien', 'Jung-Ting'),\n",
       "  ('Choi', 'Jinho D'),\n",
       "  ('Cooper', 'Lee Alex Donald'),\n",
       "  ('Cummings', 'Richard Dale'),\n",
       "  ('Doloc Mihu', 'Anca'),\n",
       "  ('Galinski', 'Mary R'),\n",
       "  ('Garvey', 'Clarissa Catherine'),\n",
       "  ('Grigni', 'Michelangelo'),\n",
       "  ('Gunay', 'Cengiz'),\n",
       "  ('Gutman', 'David A'),\n",
       "  ('Hertzberg', 'Vicki'),\n",
       "  ('Jurczyk', 'Tomasz Marek'),\n",
       "  ('Kay', 'William W'),\n",
       "  ('Kong', 'Jun'),\n",
       "  ('La Fleur', 'Steven James'),\n",
       "  ('Li', 'Haoran'),\n",
       "  ('Lu', 'James'),\n",
       "  ('Mandelberg', 'Kenneth I'),\n",
       "  ('Nagy', 'James'),\n",
       "  ('Qin', 'Zhaohui'),\n",
       "  ('Sharma', 'Ashish'),\n",
       "  ('Summet', 'Valerie H'),\n",
       "  ('Sun', 'Xiaobo'),\n",
       "  ('Sunderam', 'V S'),\n",
       "  ('Swenson', 'Michelle D'),\n",
       "  ('Vaughn', 'Christopher Lee'),\n",
       "  ('Vigfusson', 'Ymir'),\n",
       "  ('Vo', 'Hoang'),\n",
       "  ('Wang', 'Fusheng'),\n",
       "  ('Xiong', 'Li'),\n",
       "  ('Xu', 'Tianlei'),\n",
       "  ('Xu', 'Xiaofeng')}}"
      ]
     },
     "execution_count": 307,
     "metadata": {},
     "output_type": "execute_result"
    }
   ],
   "source": [
    "d"
   ]
  },
  {
   "cell_type": "code",
   "execution_count": 308,
   "metadata": {},
   "outputs": [
    {
     "name": "stdout",
     "output_type": "stream",
     "text": [
      "2008 13\n",
      "2009 18\n",
      "2010 21\n",
      "2011 29\n",
      "2012 26\n",
      "2013 35\n",
      "2014 35\n",
      "2015 25\n",
      "2016 26\n",
      "2017 26\n"
     ]
    }
   ],
   "source": [
    "for k, v in sorted(d.items()): print(k, len(v))"
   ]
  },
  {
   "cell_type": "code",
   "execution_count": 309,
   "metadata": {},
   "outputs": [
    {
     "data": {
      "image/png": "[encoded data removed]",
      "text/plain": [
       "<Figure size 432x288 with 1 Axes>"
      ]
     },
     "metadata": {
      "needs_background": "light"
     },
     "output_type": "display_data"
    }
   ],
   "source": [
    "def plot_dict(d):\n",
    "    xs, ys = zip(*[(k,len(v)) for k, v in sorted(d.items())])\n",
    "    #k, year; v,count\n",
    "    plt.scatter(xs, ys)\n",
    "    plt.plot(xs, ys)\n",
    "    plt.grid(b='on')\n",
    "    plt.show()\n",
    "    \n",
    "plot_dict(d)"
   ]
  },
  {
   "cell_type": "markdown",
   "metadata": {},
   "source": [
    "Normalize terms to a readable form."
   ]
  },
  {
   "cell_type": "code",
   "execution_count": 310,
   "metadata": {},
   "outputs": [],
   "source": [
    "def term_to_str(term):\n",
    "    year = term[0]\n",
    "    if term[1] == 1: t = 'Spring'\n",
    "    elif term[1] == 6: t = 'Summer'\n",
    "    elif term[1] == 9: t = 'Fall'\n",
    "    else: t = ''\n",
    "    return t, year"
   ]
  },
  {
   "cell_type": "markdown",
   "metadata": {},
   "source": [
    "# 2. Matching Algorithms\n",
    "\n",
    "## 2.1. Levenshtein Distance\n",
    "\n",
    "Match professor names in `course_info`.\n",
    "\n",
    "### Exercise\n",
    "\n",
    "```python\n",
    "def when_did_prof_x_start_teaching_cs_at_emory(course_info, lastname=None, firstname=None):\n",
    "    \"\"\"\n",
    "    :param course_info: the output of load_course_info().\n",
    "    :param lastname: the last name of the professor.\n",
    "    :param firstname: the first name of the professor.\n",
    "    :return: if both lastname and firstname are provided, the list of all instructors with their first terms.\n",
    "          if only lastname is provided, the list of all instructors with the last name with their first terms.\n",
    "          if only firstname is provided, the list of all instructors with the first name with their first terms.\n",
    "    \"\"\"\n",
    "```"
   ]
  },
  {
   "cell_type": "code",
   "execution_count": null,
   "metadata": {},
   "outputs": [],
   "source": [
    "def match(instructor, lastname, firstname):\n",
    "    l = not lastname or instructor[0] == lastname\n",
    "    f = not firstname or instructor[1] == firstname\n",
    "    return l and f"
   ]
  },
  {
   "cell_type": "code",
   "execution_count": null,
   "metadata": {},
   "outputs": [],
   "source": [
    "def when_did_prof_x_start_teaching_cs_at_emory(course_info, lastname=None, firstname=None):\n",
    "    # both lastname and firstname are provided\n",
    "    if lastname and firstname:\n",
    "        n = next((c for c in course_info if match(c.instructor, lastname, firstname)), None)\n",
    "        # list comprehension to generate tuple; next: generate first thing and quit\n",
    "        return [(*n.instructor, *term_to_str(n.term))] if n else []\n",
    "    # if n exist or return space\n",
    "    # * parameterize\n",
    "\n",
    "    # only lastname or firstname is provided\n",
    "    inst = {}\n",
    "\n",
    "    for c in sorted(course_info, key=lambda x:x.term):\n",
    "    # sorted by object's term\n",
    "        key = c.instructor\n",
    "        if match(key, lastname, firstname) and key not in inst:\n",
    "            inst[key] = term_to_str(c.term)\n",
    "\n",
    "    return [(*k, *v) for k, v in inst.items()]"
   ]
  },
  {
   "cell_type": "code",
   "execution_count": null,
   "metadata": {},
   "outputs": [],
   "source": [
    "lastname='Choi'\n",
    "firstname=None\n",
    "g=(c for c in course_info if match(c.instructor, lastname, firstname))\n",
    "g"
   ]
  },
  {
   "cell_type": "code",
   "execution_count": null,
   "metadata": {},
   "outputs": [],
   "source": [
    "for c in g: print(c)"
   ]
  },
  {
   "cell_type": "code",
   "execution_count": null,
   "metadata": {},
   "outputs": [],
   "source": [
    "n = next((c for c in course_info if match(c.instructor, lastname, firstname)), None)"
   ]
  },
  {
   "cell_type": "code",
   "execution_count": null,
   "metadata": {},
   "outputs": [],
   "source": [
    "print([(*n.instructor, *term_to_str(n.term))])"
   ]
  },
  {
   "cell_type": "code",
   "execution_count": null,
   "metadata": {},
   "outputs": [],
   "source": [
    "print([(n.instructor, term_to_str(n.term))])"
   ]
  },
  {
   "cell_type": "code",
   "execution_count": null,
   "metadata": {},
   "outputs": [],
   "source": [
    "lastname = 'Choi'\n",
    "insts = when_did_prof_x_start_teaching_cs_at_emory(course_info, lastname=lastname)\n",
    "print(insts)"
   ]
  },
  {
   "cell_type": "code",
   "execution_count": null,
   "metadata": {},
   "outputs": [],
   "source": [
    "lastname = 'Jurczyk'\n",
    "insts = when_did_prof_x_start_teaching_cs_at_emory(course_info, lastname=lastname)\n",
    "print(insts)"
   ]
  },
  {
   "cell_type": "code",
   "execution_count": null,
   "metadata": {
    "scrolled": true
   },
   "outputs": [],
   "source": [
    "firstname = 'Jinho'\n",
    "insts = when_did_prof_x_start_teaching_cs_at_emory(course_info, firstname=firstname)\n",
    "print(insts)"
   ]
  },
  {
   "cell_type": "markdown",
   "metadata": {},
   "source": [
    "Allow partial matching."
   ]
  },
  {
   "cell_type": "code",
   "execution_count": null,
   "metadata": {},
   "outputs": [],
   "source": [
    "def match(instructor, lastname, firstname):\n",
    "    l = not lastname or lastname.lower() in set(instructor[0].lower().split())\n",
    "    # not lastname means lastname is none (default), every lastname is legit and only search first name\n",
    "    f = not firstname or firstname.lower() in set(instructor[1].lower().split())\n",
    "    return l and f"
   ]
  },
  {
   "cell_type": "code",
   "execution_count": null,
   "metadata": {},
   "outputs": [],
   "source": [
    "firstname = 'Jinho'\n",
    "insts = when_did_prof_x_start_teaching_cs_at_emory(course_info, firstname=firstname)\n",
    "print(insts)"
   ]
  },
  {
   "cell_type": "code",
   "execution_count": null,
   "metadata": {},
   "outputs": [],
   "source": [
    "firstname = 'Shun Yan'\n",
    "insts = when_did_prof_x_start_teaching_cs_at_emory(course_info, firstname=firstname)\n",
    "print(insts)"
   ]
  },
  {
   "cell_type": "markdown",
   "metadata": {},
   "source": [
    "Allow fuzzy matching using the [`fuzzywuzzy`](https://github.com/seatgeek/fuzzywuzzy) package based on the [Levenshtein distance](https://en.wikipedia.org/wiki/Levenshtein_distance)."
   ]
  },
  {
   "cell_type": "code",
   "execution_count": null,
   "metadata": {},
   "outputs": [],
   "source": [
    "import fuzzywuzzy\n",
    "from fuzzywuzzy import fuzz\n",
    "\n",
    "def match(instructor, lastname, firstname, threshold):\n",
    "    l = not lastname or fuzz.ratio(lastname.lower(), instructor[0].lower()) >= threshold\n",
    "    #fuzz.ratio match the similarity two objects\n",
    "    f = not firstname or fuzz.ratio(firstname.lower(), instructor[1].lower()) >= threshold\n",
    "    return l and f"
   ]
  },
  {
   "cell_type": "code",
   "execution_count": null,
   "metadata": {},
   "outputs": [],
   "source": [
    "def when_did_prof_x_start_teaching_cs_at_emory(course_info, lastname=None, firstname=None, threshold=75):\n",
    "    # both lastname and firstname are provided\n",
    "    if lastname and firstname:\n",
    "        n = next((c for c in course_info if match(c.instructor, lastname, firstname, threshold)), None)\n",
    "        return [(*n.instructor, *term_to_str(n.term))] if n else []\n",
    "\n",
    "    # only lastname or firstname is provided\n",
    "    inst = {}\n",
    "\n",
    "    for c in course_info:\n",
    "        key = c.instructor\n",
    "        if match(key, lastname, firstname, threshold) and key not in inst:\n",
    "            inst[key] = term_to_str(c.term)\n",
    "\n",
    "    return [(*k, *v) for k, v in inst.items()]"
   ]
  },
  {
   "cell_type": "code",
   "execution_count": null,
   "metadata": {},
   "outputs": [],
   "source": [
    "firstname = 'Shun Yan'\n",
    "insts = when_did_prof_x_start_teaching_cs_at_emory(course_info, firstname=firstname)\n",
    "print(insts)"
   ]
  },
  {
   "cell_type": "code",
   "execution_count": null,
   "metadata": {},
   "outputs": [],
   "source": [
    "firstname = 'Shun Yang'\n",
    "insts = when_did_prof_x_start_teaching_cs_at_emory(course_info, firstname=firstname)\n",
    "print(insts)"
   ]
  },
  {
   "cell_type": "code",
   "execution_count": null,
   "metadata": {},
   "outputs": [],
   "source": [
    "firstname = 'ShunYan'\n",
    "insts = when_did_prof_x_start_teaching_cs_at_emory(course_info, firstname=firstname)\n",
    "print(insts)"
   ]
  },
  {
   "cell_type": "markdown",
   "metadata": {},
   "source": [
    "## $TF_{t,d} \\cdot IDF_{t}$"
   ]
  },
  {
   "cell_type": "markdown",
   "metadata": {},
   "source": [
    "Retrive courses taught by a certain professor."
   ]
  },
  {
   "cell_type": "code",
   "execution_count": null,
   "metadata": {},
   "outputs": [],
   "source": [
    "def is_research_course(catalog):\n",
    "    return catalog != '130R' and 'R' in catalog"
   ]
  },
  {
   "cell_type": "markdown",
   "metadata": {},
   "source": [
    "### Exercise\n",
    "\n",
    "```python\n",
    "def course_by_instructor(course_info, lastname, include_research=False):\n",
    "    \"\"\"\n",
    "    :param course_info: the output of load_course_info()\n",
    "    :param lastname: the last name of the professor.\n",
    "    :param include_research: if True, include research courses; otherwise, exclude them.\n",
    "    :return: a dictionary where the key is the course number and \n",
    "             the value is the number of terms that the professor `lastname` taught that course.\n",
    "    \"\"\"\n",
    "```"
   ]
  },
  {
   "cell_type": "code",
   "execution_count": null,
   "metadata": {},
   "outputs": [],
   "source": []
  },
  {
   "cell_type": "code",
   "execution_count": null,
   "metadata": {},
   "outputs": [],
   "source": [
    "from collections import Counter\n",
    "\n",
    "def course_by_instructor(course_info, lastname, include_research=False):\n",
    "    def match(c):\n",
    "        return c.instructor[0] == lastname and \\\n",
    "               (include_research or not is_research_course(c.catalog))\n",
    "\n",
    "    courses = {(*c.term, c.subject, c.catalog) for c in course_info if match(c)}\n",
    "    return Counter([t[2:] for t in courses])\n",
    "\n",
    "course_by_instructor(course_info, 'Choi')"
   ]
  },
  {
   "cell_type": "code",
   "execution_count": null,
   "metadata": {},
   "outputs": [],
   "source": [
    "def courses_by_instructors(course_info, include_research=False):\n",
    "    d = {}\n",
    "    for c in course_info:\n",
    "        if include_research or not is_research_course(c.catalog):\n",
    "            key = c.instructor\n",
    "            val = (*c.term, c.subject, c.catalog)\n",
    "            if key in d: d[key].add(val)\n",
    "            else: d[key] = {val}\n",
    "\n",
    "    return {k: Counter([t[2:] for t in v]) for k, v in d.items()}\n",
    "\n",
    "courses_by_instructors(course_info)"
   ]
  },
  {
   "cell_type": "code",
   "execution_count": null,
   "metadata": {},
   "outputs": [],
   "source": [
    "prof_course_dict = courses_by_instructors(course_info)\n",
    "print(len(prof_course_dict))"
   ]
  },
  {
   "cell_type": "markdown",
   "metadata": {},
   "source": [
    "Measure [$TF_{t,d} \\cdot IDF_{t}$](https://en.wikipedia.org/wiki/Tf–idf):\n",
    "\n",
    "* Term Frequence: $TF_{t,d}$ = how many times that the term $t$ appears in the document $d$.\n",
    "* Document Frequency: $DF_{t}$ = how many documents include the term $t$.\n",
    "* Inverse Document Frequency: $IDF_{t} = \\log(\\frac{N}{DF_{t}})$, where $N$ is the total number of documents.\n",
    "\n",
    "In our case, each professor is considered a document and each course is considered a term."
   ]
  },
  {
   "cell_type": "markdown",
   "metadata": {},
   "source": [
    "```python\n",
    "def professor_frequency(prof_course_dict):\n",
    "    \"\"\"\n",
    "    :param prof_course_dict: the output of courses_by_instructors().\n",
    "    :return: the counter where the key is (subject, catalog) and the value is its frequency count \n",
    "             with respect to professors.\n",
    "    \"\"\"\n",
    "```"
   ]
  },
  {
   "cell_type": "code",
   "execution_count": null,
   "metadata": {
    "scrolled": true
   },
   "outputs": [],
   "source": [
    "def professor_frequency(prof_course_dict):\n",
    "    return Counter([k for v in prof_course_dict.values() for k in v.keys()])\n",
    "        \n",
    "prof_freq = professor_frequency(prof_course_dict)\n",
    "print(prof_freq)"
   ]
  },
  {
   "cell_type": "markdown",
   "metadata": {},
   "source": [
    "### Exercise\n",
    "\n",
    "```python\n",
    "def what_is_prof_x_special_courses(course_info, lastname):\n",
    "    \"\"\"\n",
    "    :param course_info: the output of load_course_info().\n",
    "    :param lastname: the last name of the professor.\n",
    "    :return: a dictionary where the key is (subject, catalog) and value is its TF-IDF score.\n",
    "    \"\"\"\n",
    "```"
   ]
  },
  {
   "cell_type": "code",
   "execution_count": null,
   "metadata": {
    "scrolled": true
   },
   "outputs": [],
   "source": [
    "import math\n",
    "\n",
    "def what_is_prof_x_special_courses(course_info, lastname):\n",
    "    prof_course_dict = courses_by_instructors(course_info)\n",
    "    prof_freq = professor_frequency(prof_course_dict)\n",
    "    prof_courses = course_by_instructor(course_info, lastname)  # this is inefficient\n",
    "    N = len(prof_freq)\n",
    "    \n",
    "    for k, v in prof_courses.items():\n",
    "        prof_courses[k] *= math.log(N / prof_freq[k])\n",
    "        \n",
    "    return prof_courses\n",
    "        \n",
    "d = what_is_prof_x_special_courses(course_info, 'Choi')\n",
    "for k, v in sorted(d.items(), key=lambda x: x[1], reverse=True): print(k, v)"
   ]
  },
  {
   "cell_type": "markdown",
   "metadata": {},
   "source": [
    "# 3. Vector Space Model\n",
    "\n",
    "Create a vector representation of each professor with respect to their courses.\n",
    "\n",
    "### Exercise\n",
    "\n",
    "```python\n",
    "def prof_to_vec(course_info):\n",
    "    \"\"\"\n",
    "    \"param course_info: the output of load_course_info().\n",
    "    :return: a dictionary where the key is professor's name and the value is a numpy array whose length is the \n",
    "             total number of courses and each dimension in the array represents the TF-IDF score of each course.\n",
    "    \"\"\"\n",
    "```"
   ]
  },
  {
   "cell_type": "code",
   "execution_count": null,
   "metadata": {},
   "outputs": [],
   "source": [
    "import numpy as np\n",
    "\n",
    "def prof_to_vec(course_info):\n",
    "    prof_course_dict = courses_by_instructors(course_info)\n",
    "    prof_freq = professor_frequency(prof_course_dict)\n",
    "    N = len(prof_freq)\n",
    "    course_dict = {c: i for i, c in enumerate(sorted(list(prof_freq.keys())))}\n",
    "    p2v = {}\n",
    "    \n",
    "    for prof_name, counts in prof_course_dict.items():\n",
    "        vec = np.zeros(len(course_dict))\n",
    "        \n",
    "        for k, v in counts.items():\n",
    "            if k in course_dict:\n",
    "                i = course_dict[k]\n",
    "                vec[i] = v * math.log(N / prof_freq[k])\n",
    "        \n",
    "        p2v[prof_name] = vec\n",
    "    \n",
    "    return p2v\n",
    "\n",
    "p2v = prof_to_vec(course_info)\n",
    "print(p2v[('Choi', 'Jinho D')])"
   ]
  },
  {
   "cell_type": "markdown",
   "metadata": {},
   "source": [
    "Normalize each vector such that the sum of all values in any vector equals to `1`."
   ]
  },
  {
   "cell_type": "code",
   "execution_count": null,
   "metadata": {},
   "outputs": [],
   "source": [
    "def prof_to_vec(course_info, normalize=True, include_research=False):\n",
    "    prof_course_dict = courses_by_instructors(course_info, include_research)\n",
    "    prof_freq = professor_frequency(prof_course_dict)\n",
    "    N = len(prof_freq)\n",
    "    course_dict = {c: i for i, c in enumerate(sorted(list(prof_freq.keys())))}\n",
    "    p2v = {}\n",
    "    \n",
    "    for prof_name, counts in prof_course_dict.items():\n",
    "        vec = np.zeros(len(course_dict))\n",
    "        \n",
    "        for k, v in counts.items():\n",
    "            if k in course_dict:\n",
    "                i = course_dict[k]\n",
    "                vec[i] = v * math.log(N / prof_freq[k])\n",
    "        \n",
    "        if normalize: vec /= sum(vec)\n",
    "        p2v[prof_name] = vec\n",
    "    \n",
    "    return p2v\n",
    "\n",
    "p2v = prof_to_vec(course_info)\n",
    "print(p2v[('Choi', 'Jinho D')])"
   ]
  },
  {
   "cell_type": "markdown",
   "metadata": {},
   "source": [
    "## Dimensionality Reduction\n",
    "\n",
    "Create a 2D numpy array where each row represents the vector of a professor."
   ]
  },
  {
   "cell_type": "code",
   "execution_count": null,
   "metadata": {},
   "outputs": [],
   "source": [
    "profs = sorted(p2v.keys())\n",
    "vectors = np.array([p2v[p] for p in profs])"
   ]
  },
  {
   "cell_type": "markdown",
   "metadata": {},
   "source": [
    "Perform [Principle Component Analysis (PCA)](https://en.wikipedia.org/wiki/Principal_component_analysis) to reduce dimensionality of these vectors using [sklearn.decomposition.PCA](http://scikit-learn.org/stable/modules/generated/sklearn.decomposition.PCA.html)."
   ]
  },
  {
   "cell_type": "code",
   "execution_count": null,
   "metadata": {},
   "outputs": [],
   "source": [
    "from sklearn.decomposition import PCA\n",
    "\n",
    "xy = PCA(n_components=2).fit_transform(vectors)\n",
    "fig, ax = plt.subplots()\n",
    "ax.scatter(xy[:,0], xy[:,1])\n",
    "plt.show()"
   ]
  },
  {
   "cell_type": "markdown",
   "metadata": {},
   "source": [
    "Perform [t-distributed Stochastic Neighbor Embedding (t-SNE](https://en.wikipedia.org/wiki/T-distributed_stochastic_neighbor_embedding), another method for dimensionality reduction, using [sklearn.manifold.TSNE](http://scikit-learn.org/stable/modules/generated/sklearn.manifold.TSNE.html)."
   ]
  },
  {
   "cell_type": "code",
   "execution_count": null,
   "metadata": {},
   "outputs": [],
   "source": [
    "from sklearn.manifold import TSNE\n",
    "\n",
    "xy = TSNE(n_components=2).fit_transform(vectors)\n",
    "fig, ax = plt.subplots()\n",
    "ax.scatter(xy[:,0], xy[:,1])\n",
    "plt.show()"
   ]
  },
  {
   "cell_type": "code",
   "execution_count": null,
   "metadata": {},
   "outputs": [],
   "source": [
    "fig, ax = plt.subplots()\n",
    "fig.set_size_inches(14, 10)\n",
    "\n",
    "x = xy[:,0]\n",
    "y = xy[:,1]\n",
    "ax.scatter(x, y)\n",
    "\n",
    "for i, p in enumerate(profs):\n",
    "    ax.annotate(p[0], (x[i], y[i]))\n",
    "    \n",
    "plt.show()"
   ]
  },
  {
   "cell_type": "markdown",
   "metadata": {},
   "source": [
    "## Similarity Measurement\n",
    "\n",
    "* [Euclidean distance](https://en.wikipedia.org/wiki/Euclidean_distance): $\\lVert \\mathrm{x} - \\mathrm{y} \\rVert$\n",
    "* [Cosine similarity](https://en.wikipedia.org/wiki/Cosine_similarity): $\\frac{\\mathrm{x} \\cdot \\mathrm{y}}{\\lVert\\mathrm{x}\\rVert \\lVert\\mathrm{y}\\rVert}$\n",
    "\n",
    "### Exercise\n",
    "\n",
    "```\n",
    "def euclidean(x, y):\n",
    "    \"\"\"\n",
    "    :param x a numpy array\n",
    "    :param y a numpy array\n",
    "    :return: the euclidean distance between x and y.\n",
    "    \"\"\"\n",
    "\n",
    "def cosine(x, y):\n",
    "    \"\"\"\n",
    "    :param x a numpy array\n",
    "    :param y a numpy array\n",
    "    :return: the cosine similarity between x and y.\n",
    "    \"\"\"\n",
    "```"
   ]
  },
  {
   "cell_type": "code",
   "execution_count": null,
   "metadata": {},
   "outputs": [],
   "source": [
    "import math\n",
    "\n",
    "def euclidean(x, y):\n",
    "    return math.sqrt(sum((x - y)**2))\n",
    "\n",
    "def cosine(x, y):\n",
    "    return np.dot(x, y) / (math.sqrt(np.dot(x, x)) * math.sqrt(np.dot(y, y)))\n",
    "\n",
    "def ranked_list(profs, vectors, sim):\n",
    "    d = {}\n",
    "    for i, pi in enumerate(profs):\n",
    "        dists = [(pj, sim(vectors[i], vectors[j])) for j, pj in enumerate(profs) if i != j]\n",
    "        d[pi] = sorted(dists, key=lambda x: x[1], reverse=True)\n",
    "    return d"
   ]
  },
  {
   "cell_type": "code",
   "execution_count": null,
   "metadata": {},
   "outputs": [],
   "source": [
    "ranks = ranked_list(profs, vectors, euclidean)\n",
    "\n",
    "for prof, dist in ranks[('Choi', 'Jinho D')][:10]:\n",
    "    print('%35s: %6.4f' % (prof, dist))"
   ]
  },
  {
   "cell_type": "code",
   "execution_count": null,
   "metadata": {},
   "outputs": [],
   "source": [
    "ranks = ranked_list(profs, vectors, cosine)\n",
    "\n",
    "for prof, dist in ranks[('Choi', 'Jinho D')][:10]:\n",
    "    print('%35s: %6.4f' % (prof, dist))"
   ]
  },
  {
   "cell_type": "code",
   "execution_count": null,
   "metadata": {},
   "outputs": [],
   "source": []
  }
 ],
 "metadata": {
  "kernelspec": {
   "display_name": "Python 3",
   "language": "python",
   "name": "python3"
  },
  "language_info": {
   "codemirror_mode": {
    "name": "ipython",
    "version": 3
   },
   "file_extension": ".py",
   "mimetype": "text/x-python",
   "name": "python",
   "nbconvert_exporter": "python",
   "pygments_lexer": "ipython3",
   "version": "3.7.0"
  }
 },
 "nbformat": 4,
 "nbformat_minor": 2
}
