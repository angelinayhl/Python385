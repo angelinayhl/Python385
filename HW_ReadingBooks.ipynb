{
  "nbformat": 4,
  "nbformat_minor": 0,
  "metadata": {
    "colab": {
      "name": "HW_ReadingBooks.ipynb",
      "version": "0.3.2",
      "provenance": [],
      "collapsed_sections": [],
      "toc_visible": true,
      "include_colab_link": true
    },
    "kernelspec": {
      "name": "python3",
      "display_name": "Python 3"
    }
  },
  "cells": [
    {
      "cell_type": "markdown",
      "metadata": {
        "id": "view-in-github",
        "colab_type": "text"
      },
      "source": [
        "<a href=\"https://colab.research.google.com/github/angelinayhl/Python385/blob/master/HW_ReadingBooks.ipynb\" target=\"_parent\"><img src=\"https://colab.research.google.com/assets/colab-badge.svg\" alt=\"Open In Colab\"/></a>"
      ]
    },
    {
      "metadata": {
        "id": "P3lakSzsERb7",
        "colab_type": "text"
      },
      "cell_type": "markdown",
      "source": [
        "## QTM 101: Sample homework"
      ]
    },
    {
      "metadata": {
        "id": "IHiCaGNJEUC-",
        "colab_type": "text"
      },
      "cell_type": "markdown",
      "source": [
        "## Welcome to the QTM 101 sample homework.\n",
        "What you are looking at is called a notebook. It consists of cells. There are two types of cells.\n",
        "\n",
        "\n",
        "### Markdown cells\n",
        "Try double clicking the text \"QTM 101\" above. You should see \n",
        "\n",
        "```# QTM 101: Sample homework```\n",
        "\n",
        "appear. This is a **Markdown** cell. It consists of text together with simple commands for formatting the text. For instance, try replacing the hashtag with two hashtags, that is, type\n",
        "\n",
        "```## QTM 101: Sample homework```\n",
        "\n",
        "Notice the difference? There are three header sizes corresponding to #, ##, or ### preceding a line of text.\n",
        "\n",
        "### Code cells\n",
        "Now click the triangle on the cell below. It is a **code** cell. It will run a program called pip which will install a package called datascience."
      ]
    },
    {
      "metadata": {
        "id": "0u6jXYKlEb6j",
        "colab_type": "code",
        "outputId": "f6e83b42-6e03-47b8-d5fb-a6245db0435d",
        "colab": {
          "base_uri": "https://localhost:8080/",
          "height": 581
        }
      },
      "cell_type": "code",
      "source": [
        "!pip install datascience"
      ],
      "execution_count": 0,
      "outputs": [
        {
          "output_type": "stream",
          "text": [
            "Requirement already satisfied: datascience in /usr/local/lib/python3.6/dist-packages (0.10.6)\n",
            "Requirement already satisfied: folium==0.2.1 in /usr/local/lib/python3.6/dist-packages (from datascience) (0.2.1)\n",
            "Requirement already satisfied: sphinx in /usr/local/lib/python3.6/dist-packages (from datascience) (1.8.2)\n",
            "Requirement already satisfied: setuptools in /usr/local/lib/python3.6/dist-packages (from datascience) (40.6.2)\n",
            "Requirement already satisfied: pytest in /usr/local/lib/python3.6/dist-packages (from datascience) (3.10.1)\n",
            "Requirement already satisfied: coverage==3.7.1 in /usr/local/lib/python3.6/dist-packages (from datascience) (3.7.1)\n",
            "Requirement already satisfied: coveralls==0.5 in /usr/local/lib/python3.6/dist-packages (from datascience) (0.5)\n",
            "Requirement already satisfied: Jinja2 in /usr/local/lib/python3.6/dist-packages (from folium==0.2.1->datascience) (2.10)\n",
            "Requirement already satisfied: imagesize in /usr/local/lib/python3.6/dist-packages (from sphinx->datascience) (1.1.0)\n",
            "Requirement already satisfied: snowballstemmer>=1.1 in /usr/local/lib/python3.6/dist-packages (from sphinx->datascience) (1.2.1)\n",
            "Requirement already satisfied: alabaster<0.8,>=0.7 in /usr/local/lib/python3.6/dist-packages (from sphinx->datascience) (0.7.12)\n",
            "Requirement already satisfied: requests>=2.0.0 in /usr/local/lib/python3.6/dist-packages (from sphinx->datascience) (2.18.4)\n",
            "Requirement already satisfied: sphinxcontrib-websupport in /usr/local/lib/python3.6/dist-packages (from sphinx->datascience) (1.1.0)\n",
            "Requirement already satisfied: docutils>=0.11 in /usr/local/lib/python3.6/dist-packages (from sphinx->datascience) (0.14)\n",
            "Requirement already satisfied: babel!=2.0,>=1.3 in /usr/local/lib/python3.6/dist-packages (from sphinx->datascience) (2.6.0)\n",
            "Requirement already satisfied: packaging in /usr/local/lib/python3.6/dist-packages (from sphinx->datascience) (18.0)\n",
            "Requirement already satisfied: six>=1.5 in /usr/local/lib/python3.6/dist-packages (from sphinx->datascience) (1.11.0)\n",
            "Requirement already satisfied: Pygments>=2.0 in /usr/local/lib/python3.6/dist-packages (from sphinx->datascience) (2.1.3)\n",
            "Requirement already satisfied: atomicwrites>=1.0 in /usr/local/lib/python3.6/dist-packages (from pytest->datascience) (1.2.1)\n",
            "Requirement already satisfied: pluggy>=0.7 in /usr/local/lib/python3.6/dist-packages (from pytest->datascience) (0.8.0)\n",
            "Requirement already satisfied: attrs>=17.4.0 in /usr/local/lib/python3.6/dist-packages (from pytest->datascience) (18.2.0)\n",
            "Requirement already satisfied: more-itertools>=4.0.0 in /usr/local/lib/python3.6/dist-packages (from pytest->datascience) (4.3.0)\n",
            "Requirement already satisfied: py>=1.5.0 in /usr/local/lib/python3.6/dist-packages (from pytest->datascience) (1.7.0)\n",
            "Requirement already satisfied: PyYAML>=3.10 in /usr/local/lib/python3.6/dist-packages (from coveralls==0.5->datascience) (3.13)\n",
            "Requirement already satisfied: docopt>=0.6.1 in /usr/local/lib/python3.6/dist-packages (from coveralls==0.5->datascience) (0.6.2)\n",
            "Requirement already satisfied: MarkupSafe>=0.23 in /usr/local/lib/python3.6/dist-packages (from Jinja2->folium==0.2.1->datascience) (1.1.0)\n",
            "Requirement already satisfied: chardet<3.1.0,>=3.0.2 in /usr/local/lib/python3.6/dist-packages (from requests>=2.0.0->sphinx->datascience) (3.0.4)\n",
            "Requirement already satisfied: certifi>=2017.4.17 in /usr/local/lib/python3.6/dist-packages (from requests>=2.0.0->sphinx->datascience) (2018.11.29)\n",
            "Requirement already satisfied: urllib3<1.23,>=1.21.1 in /usr/local/lib/python3.6/dist-packages (from requests>=2.0.0->sphinx->datascience) (1.22)\n",
            "Requirement already satisfied: idna<2.7,>=2.5 in /usr/local/lib/python3.6/dist-packages (from requests>=2.0.0->sphinx->datascience) (2.6)\n",
            "Requirement already satisfied: pytz>=0a in /usr/local/lib/python3.6/dist-packages (from babel!=2.0,>=1.3->sphinx->datascience) (2018.7)\n",
            "Requirement already satisfied: pyparsing>=2.0.2 in /usr/local/lib/python3.6/dist-packages (from packaging->sphinx->datascience) (2.3.0)\n"
          ],
          "name": "stdout"
        }
      ]
    },
    {
      "metadata": {
        "id": "uQwewHdGEZVE",
        "colab_type": "text"
      },
      "cell_type": "markdown",
      "source": [
        "##Next code cell\n",
        "The code in the cell below is written in the programming language Python. It is an excellent language for beginners thanks to its almost literal syntax. Nevertheless, it is a very powerful tool and extremely popular across a wide spectrum of users. You can do almost anything in Python!  "
      ]
    },
    {
      "metadata": {
        "id": "dULGURIBFAez",
        "colab_type": "code",
        "colab": {}
      },
      "cell_type": "code",
      "source": [
        "# load the datascience package as well as other functions we need to use\n",
        "from datascience import *\n",
        "from datascience.predicates import are\n",
        "import numpy as np\n",
        "import matplotlib\n",
        "matplotlib.use('Agg', warn=False)\n",
        "%matplotlib inline\n",
        "import matplotlib.pyplot as plots\n",
        "plots.style.use('fivethirtyeight')\n",
        "import warnings\n",
        "warnings.simplefilter(action=\"ignore\", category=FutureWarning)\n",
        "\n",
        "from urllib.request import urlopen \n",
        "import re\n",
        "def read_url(url): \n",
        "    return re.sub('\\\\s+', ' ', urlopen(url).read().decode())"
      ],
      "execution_count": 0,
      "outputs": []
    },
    {
      "metadata": {
        "id": "MIMNMKDIFEPb",
        "colab_type": "text"
      },
      "cell_type": "markdown",
      "source": [
        "Example: Plotting the Classics \n",
        "------------------------------\n",
        "Material presented from the textbook, *Computational and Inferential Thinking*, by Ani Adhikari and John DeNero."
      ]
    },
    {
      "metadata": {
        "id": "_hzd28FbFJXD",
        "colab_type": "code",
        "colab": {}
      },
      "cell_type": "code",
      "source": [
        "huck_finn_url = 'http://www.gutenberg.org/files/76/old/2011-05-03-76.txt'\n",
        "huck_finn_text = urlopen(huck_finn_url).read().decode()"
      ],
      "execution_count": 0,
      "outputs": []
    },
    {
      "metadata": {
        "id": "cCffZzpTFTKj",
        "colab_type": "text"
      },
      "cell_type": "markdown",
      "source": [
        "# Then split it into chapters\n",
        "**Exercise:** Split huck_finn_text into chapters by replacing the blank lines with the correct code. Test your solution is correct by comparing with the expected output which shows the first ten characters (not literary characters) of the first three chapters.\n",
        "\n",
        "Note, the first appearance of CHAPTER in the text is not the first Chapter!"
      ]
    },
    {
      "metadata": {
        "id": "-GI6vnu3FceF",
        "colab_type": "code",
        "outputId": "42dea7e7-48f8-4a04-cefd-d233faa00e2c",
        "colab": {
          "base_uri": "https://localhost:8080/",
          "height": 170
        }
      },
      "cell_type": "code",
      "source": [
        "hf_chapters = huck_finn_text.split('CHAPTER ')[1:]\n",
        "\n",
        "print(hf_chapters[0][:10])\n",
        "print(hf_chapters[1][:10])\n",
        "print(hf_chapters[2][:10])"
      ],
      "execution_count": 0,
      "outputs": [
        {
          "output_type": "stream",
          "text": [
            "I.\r\n",
            "\r\n",
            "YOU \n",
            "II.\r\n",
            "\r\n",
            "WE \n",
            "III.\r\n",
            "\r\n",
            "WE\n"
          ],
          "name": "stdout"
        }
      ]
    },
    {
      "metadata": {
        "id": "Sf7DgQRPFf88",
        "colab_type": "text"
      },
      "cell_type": "markdown",
      "source": [
        "**Expected Output**: \n",
        "\n",
        "<table style=\"width:50%\">\n",
        "  <tr>\n",
        "    <td>    <code>print(hf_chapters[0][:10])<code></td>\n",
        "    <td>    <code>I. YOU don<code></td> \n",
        "  </tr>\n",
        "  <tr>\n",
        "    <td><code>print(hf_chapters[1][:10])<code></td>\n",
        "    <td><code>II. WE wen<code></td> \n",
        "  </tr>\n",
        "  <tr>\n",
        "    <td><code>print(hf_chapters[2][:10])<code></td>\n",
        "    <td><code>III. WELL,<code></td> \n",
        "  </tr>\n",
        "</table>"
      ]
    },
    {
      "metadata": {
        "id": "7K5l4U06RifQ",
        "colab_type": "code",
        "outputId": "26dc34a1-cc4d-428a-da86-ff36adbc7f01",
        "colab": {
          "base_uri": "https://localhost:8080/",
          "height": 388
        }
      },
      "cell_type": "code",
      "source": [
        "Table().with_column('Chapters', hf_chapters)"
      ],
      "execution_count": 0,
      "outputs": [
        {
          "output_type": "execute_result",
          "data": {
            "text/html": [
              "<table border=\"1\" class=\"dataframe\">\n",
              "    <thead>\n",
              "        <tr>\n",
              "            <th>Chapters</th>\n",
              "        </tr>\n",
              "    </thead>\n",
              "    <tbody>\n",
              "        <tr>\n",
              "            <td>I.\r\n",
              "\r\n",
              "YOU don't know about me without you have read a bo ...</td>\n",
              "        </tr>\n",
              "        <tr>\n",
              "            <td>II.\r\n",
              "\r\n",
              "WE went tiptoeing along a path amongst the trees  ...</td>\n",
              "        </tr>\n",
              "        <tr>\n",
              "            <td>III.\r\n",
              "\r\n",
              "WELL, I got a good going-over in the morning fro ...</td>\n",
              "        </tr>\n",
              "        <tr>\n",
              "            <td>IV.\r\n",
              "\r\n",
              "WELL, three or four months run along, and it was  ...</td>\n",
              "        </tr>\n",
              "        <tr>\n",
              "            <td>V.\r\n",
              "\r\n",
              "I HAD shut the door to.  Then I turned around and  ...</td>\n",
              "        </tr>\n",
              "        <tr>\n",
              "            <td>VI.\r\n",
              "\r\n",
              "WELL, pretty soon the old man was up and around a ...</td>\n",
              "        </tr>\n",
              "        <tr>\n",
              "            <td>VII.\r\n",
              "\r\n",
              "\"GIT up!  What you 'bout?\"\r\n",
              "\r\n",
              "I opened my eyes a ...</td>\n",
              "        </tr>\n",
              "        <tr>\n",
              "            <td>VIII.\r\n",
              "\r\n",
              "THE sun was up so high when I waked that I judg ...</td>\n",
              "        </tr>\n",
              "        <tr>\n",
              "            <td>IX.\r\n",
              "\r\n",
              "I WANTED to go and look at a place right about th ...</td>\n",
              "        </tr>\n",
              "        <tr>\n",
              "            <td>X.\r\n",
              "\r\n",
              "AFTER breakfast I wanted to talk about the dead ma ...</td>\n",
              "        </tr>\n",
              "    </tbody>\n",
              "</table>\n",
              "<p>... (33 rows omitted)</p>"
            ],
            "text/plain": [
              "Chapters\n",
              "I.\n",
              "\n",
              "YOU don't know about me without you have read a bo ...\n",
              "II.\n",
              "\n",
              "WE went tiptoeing along a path amongst the trees  ...\n",
              "III.\n",
              "\n",
              "WELL, I got a good going-over in the morning fro ...\n",
              "IV.\n",
              "\n",
              "WELL, three or four months run along, and it was  ...\n",
              "V.\n",
              "\n",
              "I HAD shut the door to.  Then I turned around and  ...\n",
              "VI.\n",
              "\n",
              "WELL, pretty soon the old man was up and around a ...\n",
              "VII.\n",
              "\n",
              "\"GIT up!  What you 'bout?\"\n",
              "\n",
              "I opened my eyes a ...\n",
              "VIII.\n",
              "\n",
              "THE sun was up so high when I waked that I judg ...\n",
              "IX.\n",
              "\n",
              "I WANTED to go and look at a place right about th ...\n",
              "X.\n",
              "\n",
              "AFTER breakfast I wanted to talk about the dead ma ...\n",
              "... (33 rows omitted)"
            ]
          },
          "metadata": {
            "tags": []
          },
          "execution_count": 17
        }
      ]
    },
    {
      "metadata": {
        "id": "s3HZHWoiFkWr",
        "colab_type": "text"
      },
      "cell_type": "markdown",
      "source": [
        "## Counting Names \n",
        "In the next exercise you will use the np.char.count() function from the Numpy library. If you don't know how to use it, try running the code in the cell below to read the Numpy library's documentation! "
      ]
    },
    {
      "metadata": {
        "id": "MmYWcnJIFsFk",
        "colab_type": "code",
        "outputId": "1c544c9f-7f42-4a8f-a85f-c3174aea7809",
        "colab": {
          "base_uri": "https://localhost:8080/",
          "height": 748
        }
      },
      "cell_type": "code",
      "source": [
        "import numpy as np\n",
        "help(np.char.count)"
      ],
      "execution_count": 0,
      "outputs": [
        {
          "output_type": "stream",
          "text": [
            "Help on function count in module numpy.core.defchararray:\n",
            "\n",
            "count(a, sub, start=0, end=None)\n",
            "    Returns an array with the number of non-overlapping occurrences of\n",
            "    substring `sub` in the range [`start`, `end`].\n",
            "    \n",
            "    Calls `str.count` element-wise.\n",
            "    \n",
            "    Parameters\n",
            "    ----------\n",
            "    a : array_like of str or unicode\n",
            "    \n",
            "    sub : str or unicode\n",
            "       The substring to search for.\n",
            "    \n",
            "    start, end : int, optional\n",
            "       Optional arguments `start` and `end` are interpreted as slice\n",
            "       notation to specify the range in which to count.\n",
            "    \n",
            "    Returns\n",
            "    -------\n",
            "    out : ndarray\n",
            "        Output array of ints.\n",
            "    \n",
            "    See also\n",
            "    --------\n",
            "    str.count\n",
            "    \n",
            "    Examples\n",
            "    --------\n",
            "    >>> c = np.array(['aAaAaA', '  aA  ', 'abBABba'])\n",
            "    >>> c\n",
            "    array(['aAaAaA', '  aA  ', 'abBABba'],\n",
            "        dtype='|S7')\n",
            "    >>> np.char.count(c, 'A')\n",
            "    array([3, 1, 1])\n",
            "    >>> np.char.count(c, 'aA')\n",
            "    array([3, 1, 0])\n",
            "    >>> np.char.count(c, 'A', start=1, end=4)\n",
            "    array([2, 1, 1])\n",
            "    >>> np.char.count(c, 'A', start=1, end=3)\n",
            "    array([1, 0, 0])\n",
            "\n"
          ],
          "name": "stdout"
        }
      ]
    },
    {
      "metadata": {
        "id": "VMJ2jPP4Fu4E",
        "colab_type": "text"
      },
      "cell_type": "markdown",
      "source": [
        "**Exercise:** Create an array that contains a count of the number of times the name Jim appears in each chapter. "
      ]
    },
    {
      "metadata": {
        "id": "d4-4kgU_Fyz7",
        "colab_type": "code",
        "outputId": "81af7a3f-5a4b-4bfe-c70a-86c0beeb750e",
        "colab": {
          "base_uri": "https://localhost:8080/",
          "height": 68
        }
      },
      "cell_type": "code",
      "source": [
        "count_jim = np.char.count(hf_chapters, 'Jim')\n",
        "\n",
        "# How many times Jim appears in Chapters 1, 9, and 19\n",
        "print(count_jim[0])\n",
        "print(count_jim[10])\n",
        "print(count_jim[20])"
      ],
      "execution_count": 0,
      "outputs": [
        {
          "output_type": "stream",
          "text": [
            "0\n",
            "4\n",
            "1\n"
          ],
          "name": "stdout"
        }
      ]
    },
    {
      "metadata": {
        "id": "glKCmT5GF4zr",
        "colab_type": "text"
      },
      "cell_type": "markdown",
      "source": [
        "**Expected Output**: \n",
        "\n",
        "<table style=\"width:50%\">\n",
        "  <tr>\n",
        "    <td>    <code>count_jim[0]<code></td>\n",
        "    <td>    <code>0<code></td> \n",
        "  </tr>\n",
        "  <tr>\n",
        "    <td><code>count_jim[10]<code></td>\n",
        "    <td><code>4<code></td> \n",
        "  </tr>\n",
        "  <tr>\n",
        "    <td><code>count_jim[20]<code></td>\n",
        "    <td><code>1<code></td> \n",
        "  </tr>\n",
        "</table>"
      ]
    },
    {
      "metadata": {
        "id": "9JHhTNrUF57T",
        "colab_type": "text"
      },
      "cell_type": "markdown",
      "source": [
        "# Read Little Women and split into chapters\n",
        "**Exercise:** Load Little women and split into chapters by replacing the blank lines with the correct code."
      ]
    },
    {
      "metadata": {
        "id": "u-LTQa-aGK6c",
        "colab_type": "code",
        "outputId": "41f3695b-e011-43b1-9948-e907981e6b84",
        "colab": {
          "base_uri": "https://localhost:8080/",
          "height": 170
        }
      },
      "cell_type": "code",
      "source": [
        "little_women_url = 'http://www.gutenberg.org/cache/epub/514/pg514.txt'\n",
        "little_women_text = urlopen(little_women_url).read().decode()\n",
        "lw_chapters = little_women_text.split('CHAPTER ')[1:]\n",
        "\n",
        "print(lw_chapters[0][:10])\n",
        "print(lw_chapters[1][:10])\n",
        "print(lw_chapters[2][:10])"
      ],
      "execution_count": 0,
      "outputs": [
        {
          "output_type": "stream",
          "text": [
            "ONE\r\n",
            "\r\n",
            "PLA\n",
            "TWO\r\n",
            "\r\n",
            "A M\n",
            "THREE\r\n",
            "\r\n",
            "T\n"
          ],
          "name": "stdout"
        }
      ]
    },
    {
      "metadata": {
        "id": "7JEVTfGHGQ_M",
        "colab_type": "text"
      },
      "cell_type": "markdown",
      "source": [
        "**Expected Output**: \n",
        "\n",
        "<table style=\"width:50%\">\n",
        "  <tr>\n",
        "    <td>    <code>print(hf_chapters[0][:10])<code></td>\n",
        "    <td>    <code>ONE PLAYIN<code></td> \n",
        "  </tr>\n",
        "  <tr>\n",
        "    <td><code>print(hf_chapters[1][:10])<code></td>\n",
        "    <td><code>TWO A MERR<code></td> \n",
        "  </tr>\n",
        "  <tr>\n",
        "    <td><code>print(hf_chapters[2][:10])<code></td>\n",
        "    <td><code>THREE THE <code></td> \n",
        "  </tr>\n",
        "</table>"
      ]
    },
    {
      "metadata": {
        "id": "F0p5wzf8R8yB",
        "colab_type": "code",
        "outputId": "bccf8542-8300-41ba-d3b7-1cdce3624356",
        "colab": {
          "base_uri": "https://localhost:8080/",
          "height": 388
        }
      },
      "cell_type": "code",
      "source": [
        "Table().with_column('Chapters', lw_chapters)"
      ],
      "execution_count": 0,
      "outputs": [
        {
          "output_type": "execute_result",
          "data": {
            "text/html": [
              "<table border=\"1\" class=\"dataframe\">\n",
              "    <thead>\n",
              "        <tr>\n",
              "            <th>Chapters</th>\n",
              "        </tr>\n",
              "    </thead>\n",
              "    <tbody>\n",
              "        <tr>\n",
              "            <td>ONE\r\n",
              "\r\n",
              "PLAYING PILGRIMS\r\n",
              "\r\n",
              "\"Christmas won't be Christmas ...</td>\n",
              "        </tr>\n",
              "        <tr>\n",
              "            <td>TWO\r\n",
              "\r\n",
              "A MERRY CHRISTMAS\r\n",
              "\r\n",
              "Jo was the first to wake in  ...</td>\n",
              "        </tr>\n",
              "        <tr>\n",
              "            <td>THREE\r\n",
              "\r\n",
              "THE LAURENCE BOY\r\n",
              "\r\n",
              "\"Jo!  Jo!  Where are you?\"  ...</td>\n",
              "        </tr>\n",
              "        <tr>\n",
              "            <td>FOUR\r\n",
              "\r\n",
              "BURDENS\r\n",
              "\r\n",
              "\"Oh, dear, how hard it does seem to t ...</td>\n",
              "        </tr>\n",
              "        <tr>\n",
              "            <td>FIVE\r\n",
              "\r\n",
              "BEING NEIGHBORLY\r\n",
              "\r\n",
              "\"What in the world are you g ...</td>\n",
              "        </tr>\n",
              "        <tr>\n",
              "            <td>SIX\r\n",
              "\r\n",
              "BETH FINDS THE PALACE BEAUTIFUL\r\n",
              "\r\n",
              "The big house  ...</td>\n",
              "        </tr>\n",
              "        <tr>\n",
              "            <td>SEVEN\r\n",
              "\r\n",
              "AMY'S VALLEY OF HUMILIATION\r\n",
              "\r\n",
              "\"That boy is a p ...</td>\n",
              "        </tr>\n",
              "        <tr>\n",
              "            <td>EIGHT\r\n",
              "\r\n",
              "JO MEETS APOLLYON\r\n",
              "\r\n",
              "\"Girls, where are you goin ...</td>\n",
              "        </tr>\n",
              "        <tr>\n",
              "            <td>NINE\r\n",
              "\r\n",
              "MEG GOES TO VANITY FAIR\r\n",
              "\r\n",
              "\"I do think it was th ...</td>\n",
              "        </tr>\n",
              "        <tr>\n",
              "            <td>TEN\r\n",
              "\r\n",
              "THE P.C. AND P.O.\r\n",
              "\r\n",
              "As spring came on, a new set ...</td>\n",
              "        </tr>\n",
              "    </tbody>\n",
              "</table>\n",
              "<p>... (37 rows omitted)</p>"
            ],
            "text/plain": [
              "Chapters\n",
              "ONE\n",
              "\n",
              "PLAYING PILGRIMS\n",
              "\n",
              "\"Christmas won't be Christmas ...\n",
              "TWO\n",
              "\n",
              "A MERRY CHRISTMAS\n",
              "\n",
              "Jo was the first to wake in  ...\n",
              "THREE\n",
              "\n",
              "THE LAURENCE BOY\n",
              "\n",
              "\"Jo!  Jo!  Where are you?\"  ...\n",
              "FOUR\n",
              "\n",
              "BURDENS\n",
              "\n",
              "\"Oh, dear, how hard it does seem to t ...\n",
              "FIVE\n",
              "\n",
              "BEING NEIGHBORLY\n",
              "\n",
              "\"What in the world are you g ...\n",
              "SIX\n",
              "\n",
              "BETH FINDS THE PALACE BEAUTIFUL\n",
              "\n",
              "The big house  ...\n",
              "SEVEN\n",
              "\n",
              "AMY'S VALLEY OF HUMILIATION\n",
              "\n",
              "\"That boy is a p ...\n",
              "EIGHT\n",
              "\n",
              "JO MEETS APOLLYON\n",
              "\n",
              "\"Girls, where are you goin ...\n",
              "NINE\n",
              "\n",
              "MEG GOES TO VANITY FAIR\n",
              "\n",
              "\"I do think it was th ...\n",
              "TEN\n",
              "\n",
              "THE P.C. AND P.O.\n",
              "\n",
              "As spring came on, a new set ...\n",
              "... (37 rows omitted)"
            ]
          },
          "metadata": {
            "tags": []
          },
          "execution_count": 19
        }
      ]
    },
    {
      "metadata": {
        "id": "3r9ME5AAGRyD",
        "colab_type": "text"
      },
      "cell_type": "markdown",
      "source": [
        "# Counts of names by chapter for Little Women\n",
        "**Exercise:** Complete the code by filling in the blanks to create a dictionary having keys the names 'Amy', 'Beth', 'Jo', 'Laurie', 'Meg' and values arrays containing the number of times that name appears in each chapter."
      ]
    },
    {
      "metadata": {
        "id": "Zlv9kRqaGZCL",
        "colab_type": "code",
        "colab": {}
      },
      "cell_type": "code",
      "source": [
        "people = [___________]\n",
        "people_counts = {pp: ___________ for pp in people}\n",
        "\n",
        "# Create a table using the dictionary you created\n",
        "counts = Table().with_columns([\n",
        "        'Amy', people_counts['Amy'],\n",
        "        'Beth', people_counts['Beth'],\n",
        "        'Jo', people_counts['Jo'],\n",
        "        'Laurie', people_counts['Laurie'],\n",
        "        'Meg', people_counts['Meg']\n",
        "    ])"
      ],
      "execution_count": 0,
      "outputs": []
    },
    {
      "metadata": {
        "id": "wYI6_hjlGcxT",
        "colab_type": "text"
      },
      "cell_type": "markdown",
      "source": [
        "# Plot the cumulative counts.\n",
        "**Exercise:** Complete the code by filling in the blanks to create a plot having the title:\n",
        "\n",
        "Cumulative Number of Times Name Appears."
      ]
    },
    {
      "metadata": {
        "id": "j1C6vHj7Gk1T",
        "colab_type": "code",
        "colab": {}
      },
      "cell_type": "code",
      "source": [
        "import matplotlib.pyplot as plots\n",
        "plots.style.use('fivethirtyeight')\n",
        "\n",
        "cum_counts = __________.cumsum().with_column('Chapter', np.arange(1, 48, 1))\n",
        "______________.plot(column_for_xticks=5)\n",
        "plots.title(________________)"
      ],
      "execution_count": 0,
      "outputs": []
    }
  ]
}