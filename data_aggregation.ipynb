{
 "cells": [
  {
   "cell_type": "markdown",
   "metadata": {
    "slideshow": {
     "slide_type": "slide"
    }
   },
   "source": [
    "# Data Aggregation\n",
    "\n",
    "The process where information is gathered and presented in a summary form with intent to prepare data for statiatical analysis.\n",
    "\n",
    "\n",
    "## Task\n",
    "\n",
    "To aggregate information between the [exam schedule](http://registrar.emory.edu/faculty-staff/exam-schedule/spring-2019.html) and the [class schedule](http://atlas.college.emory.edu/class-schedules/spring-2019.php)."
   ]
  },
  {
   "cell_type": "markdown",
   "metadata": {
    "collapsed": true,
    "slideshow": {
     "slide_type": "slide"
    }
   },
   "source": [
    "# 1. Exam Schedule"
   ]
  },
  {
   "cell_type": "markdown",
   "metadata": {},
   "source": [
    "## 1.1. HTML Parsing\n",
    "\n",
    "Retrieve the HTML source from the exam schedule page:"
   ]
  },
  {
   "cell_type": "code",
   "execution_count": 41,
   "metadata": {
    "slideshow": {
     "slide_type": "slide"
    }
   },
   "outputs": [
    {
     "name": "stdout",
     "output_type": "stream",
     "text": [
      "<!DOCTYPE html><html xmlns=\"http://www.w3.org/1999/xhtml\" lang=\"en\" xml:lang=\"en\">\n"
     ]
    }
   ],
   "source": [
    "import requests\n",
    "\n",
    "url = 'http://registrar.emory.edu/faculty-staff/exam-schedule/spring-2019.html'\n",
    "r = requests.get(url)\n",
    "print(r.text[:82])  # print only the first line"
   ]
  },
  {
   "cell_type": "markdown",
   "metadata": {},
   "source": [
    "Find the table containing the exam schedule information from the source:\n",
    "\n",
    "<img src=\"res/exam-schedule-spring-2019.png\">\n",
    "\n",
    "```html\n",
    "<table cellpadding=\"0\" cellspacing=\"0\" class=\"table table-striped\">\n",
    "<thead>\n",
    "<tr>\n",
    "  <td>Class Meeting Time</td>\n",
    "  <td>Exam Day</td>\n",
    "  <td>Exam Date</td>\n",
    "  <td>Exam Time</td>\n",
    "</tr>\n",
    "</thead>\n",
    "<tbody>\n",
    "<tr>\n",
    "  <td>08:00 MWF</td>\n",
    "  <td>Friday</td>\n",
    "  <td>3-May</td>\n",
    "  <td>11:30 A.M - 2:00 P.M</td>\n",
    "</tr>\n",
    "<tr>\n",
    "  <td>08:00 TThF</td>\n",
    "  <td>Friday</td>\n",
    "  <td>3-May</td>\n",
    "  <td>3:00 P.M - 5:30 P.M</td>\n",
    "</tr>\n",
    "```"
   ]
  },
  {
   "cell_type": "markdown",
   "metadata": {},
   "source": [
    "Retrieve the exam schedule information from the table:"
   ]
  },
  {
   "cell_type": "code",
   "execution_count": 42,
   "metadata": {
    "scrolled": true
   },
   "outputs": [
    {
     "name": "stdout",
     "output_type": "stream",
     "text": [
      "['08:00 MWF', 'Friday', '3-May', '11:30 A.M - 2:00 P.M']\n",
      "['08:00 TThF', 'Friday', '3-May', '3:00 P.M - 5:30 P.M']\n"
     ]
    }
   ],
   "source": [
    "from bs4 import BeautifulSoup\n",
    "\n",
    "html = BeautifulSoup(r.text, 'html.parser')\n",
    "tbody = html.find('tbody')\n",
    "schedule = []\n",
    "\n",
    "for tr in tbody.find_all('tr'):\n",
    "    tds = tr.find_all('td')\n",
    "    class_time = tds[0].string.strip()\n",
    "    exam_day   = tds[1].string.strip()\n",
    "    exam_date  = tds[2].string.strip()\n",
    "    exam_time  = tds[3].string.strip()\n",
    "    schedule.append([class_time, exam_day, exam_date, exam_time])\n",
    "\n",
    "print(schedule[0])\n",
    "print(schedule[1])"
   ]
  },
  {
   "cell_type": "markdown",
   "metadata": {},
   "source": [
    "## 1.2. Regular Expressions\n",
    "\n",
    "Split each class meeting time into (hour, minute, days):"
   ]
  },
  {
   "cell_type": "code",
   "execution_count": 43,
   "metadata": {},
   "outputs": [
    {
     "name": "stdout",
     "output_type": "stream",
     "text": [
      "Hour:  8, Minute: 00, Day(s): MW\n",
      "Hour: 12, Minute: 30, Day(s): TThF\n"
     ]
    }
   ],
   "source": [
    "import re\n",
    "\n",
    "TIME_DAYS = re.compile('(\\d{1,2}):(\\d\\d)\\s+([A-Za-z]+)')\n",
    "\n",
    "m = TIME_DAYS.match('8:00 MW')\n",
    "print('Hour: %2s, Minute: %2s, Day(s): %s' % (m.group(1), m.group(2), m.group(3)))\n",
    "\n",
    "m = TIME_DAYS.match('12:30 TThF')\n",
    "print('Hour: %2s, Minute: %2s, Day(s): %s' % (m.group(1), m.group(2), m.group(3)))"
   ]
  },
  {
   "cell_type": "markdown",
   "metadata": {},
   "source": [
    "If the input string does not match the expression, `None` is returned:"
   ]
  },
  {
   "cell_type": "code",
   "execution_count": 44,
   "metadata": {},
   "outputs": [
    {
     "name": "stdout",
     "output_type": "stream",
     "text": [
      "None\n"
     ]
    }
   ],
   "source": [
    "m = TIME_DAYS.match('Math*')\n",
    "print(m)"
   ]
  },
  {
   "cell_type": "markdown",
   "metadata": {},
   "source": [
    "### Exercise\n",
    "\n",
    "Write a regular expression that handles various ways to indicate time:\n",
    "\n",
    "```python\n",
    "['08:00', '12:30', '2:30pm', '2:30 pm', '2:30PM', '2:30P.M', '2:30P.M.', '2:30 PM.']\n",
    "```"
   ]
  },
  {
   "cell_type": "code",
   "execution_count": null,
   "metadata": {},
   "outputs": [],
   "source": []
  },
  {
   "cell_type": "code",
   "execution_count": null,
   "metadata": {},
   "outputs": [],
   "source": []
  },
  {
   "cell_type": "code",
   "execution_count": null,
   "metadata": {},
   "outputs": [],
   "source": []
  },
  {
   "cell_type": "code",
   "execution_count": null,
   "metadata": {},
   "outputs": [],
   "source": []
  },
  {
   "cell_type": "code",
   "execution_count": null,
   "metadata": {},
   "outputs": [],
   "source": []
  },
  {
   "cell_type": "code",
   "execution_count": 45,
   "metadata": {},
   "outputs": [
    {
     "name": "stdout",
     "output_type": "stream",
     "text": [
      "     08:00 : (08, 00, None)\n",
      "     12:30 : (12, 30, None)\n",
      "    2:30pm : ( 2, 30, pm)\n",
      "   2:30 pm : ( 2, 30, pm)\n",
      "    2:30PM : ( 2, 30, PM)\n",
      "   2:30P.M : ( 2, 30, P.M)\n",
      "  2:30P.M. : ( 2, 30, P.M.)\n",
      "  2:30 PM. : ( 2, 30, PM.)\n"
     ]
    }
   ],
   "source": [
    "times = ['08:00', '12:30', '2:30pm', '2:30 pm', '2:30PM', '2:30P.M', '2:30P.M.', '2:30 PM.']\n",
    "TIME = re.compile('(\\d{1,2}):(\\d\\d)\\s*([AaPp]\\.?\\s*[Mm]\\.?)?')\n",
    "\n",
    "for time in times:\n",
    "    m = TIME.match(time)\n",
    "    hour   = m.group(1)\n",
    "    minute = m.group(2)\n",
    "    period = m.group(3)\n",
    "    print('%10s : (%2s, %2s, %s)' % (time, hour, minute, period))"
   ]
  },
  {
   "cell_type": "markdown",
   "metadata": {},
   "source": [
    "## 1.3. Normalization\n",
    "\n",
    "Normalize the formats of time and days.\n",
    "\n",
    "### Exercise\n",
    "\n",
    "Write a function that converts the above matched results to military time (e.g., `\"3:30 P.M\"` &rarr; `1530`):\n",
    "\n",
    "```python\n",
    "def norm_time(hour: str, minute: str, period: str) -> int:\n",
    "    # TODO: to be updated\n",
    "    return 0\n",
    "```"
   ]
  },
  {
   "cell_type": "code",
   "execution_count": null,
   "metadata": {},
   "outputs": [],
   "source": []
  },
  {
   "cell_type": "code",
   "execution_count": null,
   "metadata": {},
   "outputs": [],
   "source": []
  },
  {
   "cell_type": "code",
   "execution_count": null,
   "metadata": {},
   "outputs": [],
   "source": []
  },
  {
   "cell_type": "code",
   "execution_count": null,
   "metadata": {},
   "outputs": [],
   "source": []
  },
  {
   "cell_type": "code",
   "execution_count": null,
   "metadata": {},
   "outputs": [],
   "source": []
  },
  {
   "cell_type": "code",
   "execution_count": 46,
   "metadata": {},
   "outputs": [],
   "source": [
    "from typing import Optional\n",
    "\n",
    "def norm_time(hour: str, minute: str, period: Optional[str]=None) -> int:\n",
    "    h = int(hour)\n",
    "    m = int(minute)\n",
    "\n",
    "    if period and period[0].upper() == 'P':\n",
    "        h += 12\n",
    "\n",
    "    return h * 100 + m"
   ]
  },
  {
   "cell_type": "code",
   "execution_count": 47,
   "metadata": {},
   "outputs": [
    {
     "name": "stdout",
     "output_type": "stream",
     "text": [
      "     08:00 :  800\n",
      "     12:30 : 1230\n",
      "    2:30pm : 1430\n",
      "   2:30 pm : 1430\n",
      "    2:30PM : 1430\n",
      "   2:30P.M : 1430\n",
      "  2:30P.M. : 1430\n",
      "  2:30 PM. : 1430\n"
     ]
    }
   ],
   "source": [
    "for time in times:\n",
    "    m = TIME.match(time)\n",
    "    n = norm_time(m.group(1), m.group(2), m.group(3))\n",
    "    print('%10s : %4d' % (time, n))"
   ]
  },
  {
   "cell_type": "markdown",
   "metadata": {},
   "source": [
    "### Exercise\n",
    "\n",
    "Write a function that coverts days into a binary form, then converts the binary form into an integer (e.g., `\"MWF\"` &rarr; `\"10101\"` &rarr; `21`): \n",
    "\n",
    "```python\n",
    "def norm_days(days: str) -> int:\n",
    "    # TODO: to be updated\n",
    "    return 0\n",
    "```"
   ]
  },
  {
   "cell_type": "code",
   "execution_count": null,
   "metadata": {},
   "outputs": [],
   "source": []
  },
  {
   "cell_type": "code",
   "execution_count": null,
   "metadata": {},
   "outputs": [],
   "source": []
  },
  {
   "cell_type": "code",
   "execution_count": null,
   "metadata": {},
   "outputs": [],
   "source": []
  },
  {
   "cell_type": "code",
   "execution_count": null,
   "metadata": {},
   "outputs": [],
   "source": []
  },
  {
   "cell_type": "code",
   "execution_count": null,
   "metadata": {},
   "outputs": [],
   "source": []
  },
  {
   "cell_type": "code",
   "execution_count": 48,
   "metadata": {},
   "outputs": [],
   "source": [
    "def norm_days(days: str) -> int:\n",
    "    DAYS = [('M', 0), ('TU', 1), ('W', 2), ('TH', 3), ('F', 4)]\n",
    "    days = days.upper()\n",
    "    b = ['0'] * 5\n",
    "\n",
    "    for d, i in DAYS:\n",
    "        if d in days:\n",
    "            b[i] = '1'\n",
    "            days = days.replace(d, '')\n",
    "    \n",
    "    if 'T' in days:\n",
    "        b[1] = '1'\n",
    "        days = days.replace('T', '')\n",
    "\n",
    "    return int(''.join(b), 2)"
   ]
  },
  {
   "cell_type": "code",
   "execution_count": 49,
   "metadata": {},
   "outputs": [
    {
     "name": "stdout",
     "output_type": "stream",
     "text": [
      "    MWF 10101 21\n",
      "   TuTh  1010 10\n",
      "MTuWThF 11111 31\n",
      "   TThF  1011 11\n",
      "   MWFf 10101 21\n"
     ]
    }
   ],
   "source": [
    "days = ['MWF', 'TuTh', 'MTuWThF', 'TThF', 'MWFf']\n",
    "\n",
    "for day in days:\n",
    "    n = norm_days(day)\n",
    "    print('%7s %5s %2d' % (day, bin(n)[2:], n))"
   ]
  },
  {
   "cell_type": "markdown",
   "metadata": {},
   "source": [
    "## 1.4. Putting Together\n",
    "\n",
    "Write a function that takes the exam schedule URL and returns a dictionary where the key is the normalized class meeting time and the value is its exam schedule information."
   ]
  },
  {
   "cell_type": "code",
   "execution_count": 50,
   "metadata": {},
   "outputs": [],
   "source": [
    "from typing import Dict, Tuple\n",
    "\n",
    "def extract_exam_schedule(url) -> Dict[Tuple[int, int], Tuple[str, str, str]]:\n",
    "    r = requests.get(url)\n",
    "    html = BeautifulSoup(r.text, 'html.parser')\n",
    "    tbody = html.find('tbody')\n",
    "    schedule = {}\n",
    "\n",
    "    for tr in tbody.find_all('tr'):\n",
    "        tds = tr.find_all('td')\n",
    "        class_time = tds[0].string.strip()\n",
    "        m = TIME_DAYS.match(class_time)\n",
    "        if m:\n",
    "            time = norm_time(int(m.group(1)), int(m.group(2)))\n",
    "            days = norm_days(m.group(3))\n",
    "            key  = (time, days)\n",
    "            exam_day  = tds[1].string.strip()\n",
    "            exam_date = tds[2].string.strip()\n",
    "            exam_time = tds[3].string.strip()\n",
    "            schedule[key] = (exam_day, exam_date, exam_time)\n",
    "\n",
    "    return schedule\n"
   ]
  },
  {
   "cell_type": "code",
   "execution_count": 51,
   "metadata": {},
   "outputs": [
    {
     "name": "stdout",
     "output_type": "stream",
     "text": [
      "     (800, 21) : ('Friday', '3-May', '11:30 A.M - 2:00 P.M')\n",
      "     (800, 11) : ('Friday', '3-May', '3:00 P.M - 5:30 P.M')\n",
      "     (830, 20) : ('Friday', '3-May', '11:30 A.M - 2:00 P.M')\n",
      "     (830, 10) : ('Friday', '3-May', '3:00 P.M - 5:30 P.M')\n",
      "     (900, 21) : ('Friday', '3-May', '11:30 A.M - 2:00 P.M')\n",
      "     (900, 11) : ('Friday', '3-May', '3:00 P.M - 5:30 P.M')\n",
      "    (1000, 20) : ('Thursday', '2-May', '8:00 A.M - 10:30 A.M')\n",
      "    (1000, 21) : ('Thursday', '2-May', '8:00 A.M - 10:30 A.M')\n",
      "    (1000, 10) : ('Friday', '3-May', '8:00 A.M - 10:30 A.M')\n",
      "    (1000, 11) : ('Friday', '3-May', '8:00 A.M - 10:30 A.M')\n",
      "    (1100, 21) : ('Wednesday', '8-May', '8:00 A.M - 10:30 A.M')\n",
      "    (1100, 11) : ('Tuesday', '7-May', '8:00 A.M - 10:30 A.M')\n",
      "    (1130, 20) : ('Wednesday', '8-May', '8:00 A.M - 10:30 A.M')\n",
      "    (1130, 10) : ('Tuesday', '7-May', '8:00 A.M - 10:30 A.M')\n",
      "    (1200, 21) : ('Wednesday', '8-May', '3:00 P.M - 5:30 P.M')\n",
      "    (1200, 11) : ('Wednesday', '8-May', '3:00 P.M - 5:30 P.M')\n",
      "     (100, 20) : ('Tuesday', '7-May', '3:00 P.M - 5:30 P.M')\n",
      "     (100, 21) : ('Tuesday', '7-May', '3:00 P.M - 5:30 P.M')\n",
      "     (100, 10) : ('Monday', '6-May', '8:00 A.M - 10:30 A.M')\n",
      "     (100, 11) : ('Monday', '6-May', '8:00 A.M - 10:30 A.M')\n",
      "     (200, 21) : ('Monday', '6-May', '3:00 P.M - 5:30 P.M')\n",
      "     (200, 11) : ('Thursday', '2-May', '3:00 P.M - 5:30 P.M')\n",
      "     (230, 20) : ('Monday', '6-May', '3:00 P.M - 5:30 P.M')\n",
      "     (230, 10) : ('Thursday', '2-May', '3:00 P.M - 5:30 P.M')\n",
      "     (300, 21) : ('Tuesday', '7-May', '11:30 A.M - 2:00 P.M')\n",
      "     (300, 11) : ('Tuesday', '7-May', '11:30 A.M - 2:00 P.M')\n",
      "     (400, 20) : ('Wednesday', '8-May', '11:30 A.M - 2:00 P.M')\n",
      "     (400, 21) : ('Wednesday', '8-May', '11:30 A.M - 2:00 P.M')\n",
      "     (400, 10) : ('Monday', '6-May', '11:30 A.M - 2:00 P.M')\n",
      "     (400, 11) : ('Monday', '6-May', '11:30 A.M - 2:00 P.M')\n",
      "     (500, 21) : ('Thursday', '2-May', '11:30 A.M - 2:00 P.M')\n",
      "     (500, 11) : ('Thursday', '2-May', '6:30 P.M - 9:00 P.M')\n",
      "     (530, 20) : ('Thursday', '2-May', '11:30 A.M - 2:00 P.M')\n",
      "     (530, 10) : ('Thursday', '2-May', '6:30 P.M - 9:00 P.M')\n"
     ]
    }
   ],
   "source": [
    "exam_schedule = extract_exam_schedule(url)\n",
    "for k, v in exam_schedule.items():\n",
    "    print('%14s : %s' % (k, v))"
   ]
  },
  {
   "cell_type": "markdown",
   "metadata": {},
   "source": [
    "### Question\n",
    "\n",
    "* Which exam schedules are not extracted by the `extract_exam_schedule` function, and why?\n",
    "* How to modify the `extract_exam_schedule` function to handle times for afternoon classes correctly?"
   ]
  },
  {
   "cell_type": "markdown",
   "metadata": {},
   "source": [
    "# 2. Class Schedule"
   ]
  },
  {
   "cell_type": "markdown",
   "metadata": {},
   "source": [
    "## 2.1. HTML Parsing\n",
    "\n",
    "Retrieve the HTML source from the class schedule page:"
   ]
  },
  {
   "cell_type": "code",
   "execution_count": 52,
   "metadata": {},
   "outputs": [
    {
     "name": "stdout",
     "output_type": "stream",
     "text": [
      "<html xmlns=\"http://www.w3.org/1999/xhtml\" lang=\"en\">\n"
     ]
    }
   ],
   "source": [
    "url = 'http://atlas.college.emory.edu/class-schedules/spring-2019.php'\n",
    "r = requests.get(url)\n",
    "print(r.text[:53])"
   ]
  },
  {
   "cell_type": "markdown",
   "metadata": {},
   "source": [
    "Extract the class schedule information from the source:\n",
    "\n",
    "<img src=\"res/class-schedule-spring-2019.png\">\n",
    "\n",
    "```html\n",
    "<tr>\n",
    "  <td>AAS</td>\n",
    "  <td>100</td>\n",
    "  <td>1</td>\n",
    "  <td>HSC</td>\n",
    "  <td>AAS 100 - 1</td>\n",
    "  <td>\n",
    "    <div class=\"titles\">\n",
    "      <div class=\"course\">Intro To Afric Amer Studies</div>\n",
    "      <div class=\"class\"></div>\n",
    "    </div>\n",
    "  </td>\n",
    "  <td>1416</td>\n",
    "  <td>4</td>\n",
    "  <td>HSC</td>\n",
    "  <td>\n",
    "    <table class=\"table-schedule\">\n",
    "      <tr class=\"schedule\">\n",
    "        <td class=\"day\">TuTh</td>\n",
    "        <td class=\"time\">2:30 - 3:45<small>pm</small></td>\n",
    "        <td class=\"location\">Rich Building 104</td>\n",
    "        <td class=\"instructor\"><div class=\"name\">Gordon, Michelle</div></td>\n",
    "      </tr>\n",
    "      <tr class=\"schedule\">\n",
    "        <td class=\"day\">M</td>\n",
    "        <td class=\"time\">5:00 - 7:00<small>pm</small></td>\n",
    "        <td class=\"location\">Callaway Center S103</td>\n",
    "        <td class=\"instructor\"><div class=\"name\">Gordon, Michelle</div></td>\n",
    "      </tr>\n",
    "    </table>\n",
    "  </td>\n",
    "  <td>This course introduces students to the multiple disciplines ...</td>\n",
    "</tr>\n",
    "```"
   ]
  },
  {
   "cell_type": "markdown",
   "metadata": {},
   "source": [
    "### Exercise\n",
    "\n",
    "Write a code that extracts the following information from the HTML source:\n",
    "\n",
    "* Program of the course (e.g., AAS)\n",
    "* Course number (e.g., 100)\n",
    "* Course section (e.g., 1)\n",
    "* Course title (e.g., Introduction to African American Studies)\n",
    "* Class number in OPUS (e.g., 1416).\n",
    "* Class days (TuTh).\n",
    "* Class time (2:30 - 3:45pm).\n",
    "* Instructor (Gordon, Michelle)."
   ]
  },
  {
   "cell_type": "code",
   "execution_count": null,
   "metadata": {},
   "outputs": [],
   "source": []
  },
  {
   "cell_type": "code",
   "execution_count": null,
   "metadata": {},
   "outputs": [],
   "source": []
  },
  {
   "cell_type": "code",
   "execution_count": null,
   "metadata": {},
   "outputs": [],
   "source": []
  },
  {
   "cell_type": "code",
   "execution_count": null,
   "metadata": {},
   "outputs": [],
   "source": []
  },
  {
   "cell_type": "code",
   "execution_count": null,
   "metadata": {},
   "outputs": [],
   "source": []
  },
  {
   "cell_type": "code",
   "execution_count": 53,
   "metadata": {},
   "outputs": [
    {
     "name": "stdout",
     "output_type": "stream",
     "text": [
      "('AAS', '100', '1', 'Intro To Afric Amer Studies', 1416, 'TuTh', '2:30 - 3:45pm', 'Gordon, Michelle')\n"
     ]
    }
   ],
   "source": [
    "html = BeautifulSoup(r.text, 'html.parser')\n",
    "schedule = []\n",
    "\n",
    "for tr in html.find_all('tr'):\n",
    "    td1 = tr.find_all('td')\n",
    "    if len(td1) < 10: continue\n",
    "        \n",
    "    program = td1[0].string.strip()\n",
    "    number = td1[1].string.strip()\n",
    "    section = td1[2].string.strip()\n",
    "    title = td1[5].text\n",
    "    opus = int(td1[6].string)\n",
    "\n",
    "    td2 = td1[9].find_all('td')\n",
    "    days = td2[0].string\n",
    "    if days is None: continue\n",
    "    else: days = days.strip()\n",
    "    time = td2[1].text.strip()\n",
    "    instructor = td2[3].string\n",
    "    \n",
    "    schedule.append((program, number, section, title, opus, days, time, instructor))\n",
    "\n",
    "print(schedule[0])"
   ]
  },
  {
   "cell_type": "markdown",
   "metadata": {},
   "source": [
    "## 2.2. Normalization\n",
    "\n",
    "Normalize the formats of time and days.\n",
    "\n",
    "### Exercise\n",
    "\n",
    "Write a code that creates a dictionary where the key is a tuple of normalized (time, days) and the value is the count of classes during that period."
   ]
  },
  {
   "cell_type": "code",
   "execution_count": null,
   "metadata": {},
   "outputs": [],
   "source": []
  },
  {
   "cell_type": "code",
   "execution_count": null,
   "metadata": {},
   "outputs": [],
   "source": []
  },
  {
   "cell_type": "code",
   "execution_count": null,
   "metadata": {},
   "outputs": [],
   "source": []
  },
  {
   "cell_type": "code",
   "execution_count": null,
   "metadata": {},
   "outputs": [],
   "source": []
  },
  {
   "cell_type": "code",
   "execution_count": null,
   "metadata": {},
   "outputs": [],
   "source": []
  },
  {
   "cell_type": "code",
   "execution_count": 54,
   "metadata": {},
   "outputs": [
    {
     "name": "stdout",
     "output_type": "stream",
     "text": [
      "Time: 1000, Days: 10, Count: 100\n",
      "Time:  100, Days: 10, Count:  88\n",
      "Time: 1130, Days: 10, Count:  79\n",
      "Time: 1000, Days: 20, Count:  77\n",
      "Time:  230, Days: 10, Count:  70\n",
      "Time:  100, Days: 20, Count:  67\n",
      "Time: 1130, Days: 20, Count:  67\n",
      "Time:  230, Days: 20, Count:  60\n",
      "Time:  400, Days: 10, Count:  53\n",
      "Time:  400, Days: 20, Count:  32\n"
     ]
    }
   ],
   "source": [
    "TIME = re.compile('(\\d{1,2}):(\\d\\d)')\n",
    "course_count = {}\n",
    "\n",
    "for s in schedule:\n",
    "    days = norm_days(s[5])\n",
    "    m = TIME.match(s[6])\n",
    "    time = norm_time(m.group(1), m.group(2))\n",
    "    key = (time, days)\n",
    "    course_count[key] = course_count.get(key, 0) + 1\n",
    "\n",
    "# t[0]: tuple of (time, days), t[1]: count\n",
    "course_count = sorted(course_count.items(), key=lambda t: t[1], reverse=True)\n",
    "for k, v in course_count[:10]:\n",
    "    print('Time: %4d, Days: %2d, Count: %3d' % (*k, v))"
   ]
  },
  {
   "cell_type": "markdown",
   "metadata": {},
   "source": [
    "### Question\n",
    "\n",
    "* How to modify the above code to handle times for afternoon classes correctly?"
   ]
  },
  {
   "cell_type": "markdown",
   "metadata": {},
   "source": [
    "## 2.3. Putting Together\n",
    "\n",
    "Write a function that takes the class schedule URL and returns a dictionary where the key is the class ID in OPUS and the value is a tuple of the followings:\n",
    "\n",
    "* Program of the course\n",
    "* Course number\n",
    "* Course section\n",
    "* Course title\n",
    "* Class number in OPUS\n",
    "* Class days\n",
    "* Class time\n",
    "* Instructor"
   ]
  },
  {
   "cell_type": "code",
   "execution_count": 55,
   "metadata": {},
   "outputs": [],
   "source": [
    "def extract_class_schedule(url) -> Dict[int, Tuple[str, str, str, str, int, str, str, str]]:\n",
    "    r = requests.get(url)\n",
    "    html = BeautifulSoup(r.text, 'html.parser')\n",
    "    schedule = {}\n",
    "\n",
    "    for tr in html.find_all('tr'):\n",
    "        td1 = tr.find_all('td')\n",
    "        if len(td1) < 10: continue\n",
    "\n",
    "        program = td1[0].string.strip()\n",
    "        number = td1[1].string.strip()\n",
    "        section = td1[2].string.strip()\n",
    "        title = td1[5].text.strip()\n",
    "        opus = int(td1[6].string)\n",
    "\n",
    "        td2 = td1[9].find_all('td')\n",
    "        days = td2[0].string\n",
    "        if days is None: continue\n",
    "        else: days = days.strip()\n",
    "        time = td2[1].text.strip()\n",
    "        instructor = td2[3].string\n",
    "        \n",
    "        schedule[opus] = (program, number, section, title, opus, days, time, instructor)\n",
    "\n",
    "    return schedule"
   ]
  },
  {
   "cell_type": "code",
   "execution_count": 56,
   "metadata": {},
   "outputs": [],
   "source": [
    "schedule = extract_class_schedule(url)"
   ]
  },
  {
   "cell_type": "code",
   "execution_count": 57,
   "metadata": {},
   "outputs": [
    {
     "name": "stdout",
     "output_type": "stream",
     "text": [
      "('CS', '378', '1', 'Data Mining', 1162, 'MW', '2:30 - 3:45pm', 'Fossati, Davide')\n"
     ]
    }
   ],
   "source": [
    "print(schedule[1162])"
   ]
  },
  {
   "cell_type": "markdown",
   "metadata": {},
   "source": [
    "# 3. Aggregation"
   ]
  },
  {
   "cell_type": "markdown",
   "metadata": {},
   "source": [
    "## 3.1. Information Retrieval\n",
    "\n",
    "Retrieve the exam schedule by the class number in OPUS."
   ]
  },
  {
   "cell_type": "code",
   "execution_count": 58,
   "metadata": {},
   "outputs": [],
   "source": [
    "url_exam = 'http://registrar.emory.edu/faculty-staff/exam-schedule/spring-2019.html'\n",
    "url_class = 'http://atlas.college.emory.edu/class-schedules/spring-2019.php'\n",
    "\n",
    "exam_schedule = extract_exam_schedule(url_exam)\n",
    "class_schedule = extract_class_schedule(url_class)"
   ]
  },
  {
   "cell_type": "markdown",
   "metadata": {},
   "source": [
    "### Exercise\n",
    "\n",
    "Write a function that takes `exam_schedule`, `class_schedule`, and an OPUS class number, and returns the exam schedule of the corresponding class if available; otherwise, `None`:\n",
    "\n",
    "```python\n",
    "def get_exam_schedule(\n",
    "    exam_schedule: Dict[Tuple[int, int], Tuple[str, str, str]], \n",
    "    class_schedule: Dict[int, Tuple[str, str, str, str, int, str, str, str]], \n",
    "    opus: int) -> Tuple[str, str, str]:\n",
    "    # TODO: to be updated\n",
    "    return None\n",
    "```"
   ]
  },
  {
   "cell_type": "code",
   "execution_count": null,
   "metadata": {},
   "outputs": [],
   "source": []
  },
  {
   "cell_type": "code",
   "execution_count": null,
   "metadata": {},
   "outputs": [],
   "source": []
  },
  {
   "cell_type": "code",
   "execution_count": null,
   "metadata": {},
   "outputs": [],
   "source": []
  },
  {
   "cell_type": "code",
   "execution_count": null,
   "metadata": {},
   "outputs": [],
   "source": []
  },
  {
   "cell_type": "code",
   "execution_count": null,
   "metadata": {},
   "outputs": [],
   "source": []
  },
  {
   "cell_type": "code",
   "execution_count": 59,
   "metadata": {},
   "outputs": [],
   "source": [
    "def get_exam_schedule(opus: int, exam_schedule: Dict[Tuple[int, int], Tuple[str, str, str]], class_schedule: Dict[int, Tuple[str, str, str, str, int, str, str, str]]) -> Tuple[str, str, str]:\n",
    "    s = class_schedule.get(opus, None)\n",
    "    if s is None: return None\n",
    "    days = norm_days(s[5])\n",
    "    m = TIME.match(s[6])\n",
    "    time = norm_time(m.group(1), m.group(2))\n",
    "    key = (time, days)\n",
    "    return exam_schedule.get(key, None)"
   ]
  },
  {
   "cell_type": "code",
   "execution_count": 60,
   "metadata": {},
   "outputs": [
    {
     "data": {
      "text/plain": [
       "('Thursday', '2-May', '3:00 P.M - 5:30 P.M')"
      ]
     },
     "execution_count": 60,
     "metadata": {},
     "output_type": "execute_result"
    }
   ],
   "source": [
    "get_exam_schedule(1416, exam_schedule, class_schedule)"
   ]
  },
  {
   "cell_type": "markdown",
   "metadata": {},
   "source": [
    "## 3.2. HTML Generation\n",
    "\n",
    "Generate an HTML page that comprises the aggregated information."
   ]
  },
  {
   "cell_type": "code",
   "execution_count": 61,
   "metadata": {},
   "outputs": [],
   "source": [
    "def create_html(html_file: str, program: str, exam_schedule: Dict[Tuple[int, int], Tuple[str, str, str]], class_schedule: Dict[int, Tuple[str, str, str, str, int, str, str, str]]):\n",
    "    soup = BeautifulSoup(\"<html></html>\", 'html.parser')\n",
    "    html = soup.html\n",
    "\n",
    "    table = soup.new_tag('table')\n",
    "    html.append(table)\n",
    "\n",
    "    thead = soup.new_tag('thead')\n",
    "    table.append(thead)\n",
    "\n",
    "    tr = soup.new_tag('tr')\n",
    "    thead.append(tr)\n",
    "\n",
    "    for s in ['Couse', 'Opus', 'Title', 'Instructor', 'Exam Schedule']:\n",
    "        td = soup.new_tag('td')\n",
    "        td.string = s\n",
    "        tr.append(td)\n",
    "\n",
    "    tbody = soup.new_tag('tbody')\n",
    "    table.append(tbody)\n",
    "\n",
    "    for k, v in class_schedule.items():\n",
    "        if v[0] != program: continue\n",
    "        course = v[0] + v[1] + '-' + v[2]\n",
    "        opus = str(v[4])\n",
    "        title = v[3]\n",
    "        instructor = str(v[-1])\n",
    "        t = get_exam_schedule(k, exam_schedule, class_schedule)\n",
    "        if t is None: continue\n",
    "        ex_schedule = ', '.join(list(t))\n",
    "\n",
    "        tr = soup.new_tag('tr')\n",
    "        tbody.append(tr)\n",
    "\n",
    "        for s in [course, opus, title, instructor, ex_schedule]:\n",
    "            td = soup.new_tag('td')\n",
    "            td.string = s\n",
    "            tr.append(td)\n",
    "\n",
    "    with open(html_file, 'w') as fout:\n",
    "        fout.write(soup.prettify())"
   ]
  },
  {
   "cell_type": "code",
   "execution_count": null,
   "metadata": {},
   "outputs": [],
   "source": []
  },
  {
   "cell_type": "code",
   "execution_count": null,
   "metadata": {},
   "outputs": [],
   "source": []
  },
  {
   "cell_type": "code",
   "execution_count": null,
   "metadata": {},
   "outputs": [],
   "source": []
  },
  {
   "cell_type": "code",
   "execution_count": 62,
   "metadata": {},
   "outputs": [
    {
     "ename": "FileNotFoundError",
     "evalue": "[Errno 2] No such file or directory: 'res/qtm.html'",
     "output_type": "error",
     "traceback": [
      "\u001b[0;31m---------------------------------------------------------------------------\u001b[0m",
      "\u001b[0;31mFileNotFoundError\u001b[0m                         Traceback (most recent call last)",
      "\u001b[0;32m<ipython-input-62-fefbead2ba49>\u001b[0m in \u001b[0;36m<module>\u001b[0;34m\u001b[0m\n\u001b[0;32m----> 1\u001b[0;31m \u001b[0mcreate_html\u001b[0m\u001b[0;34m(\u001b[0m\u001b[0;34m'res/qtm.html'\u001b[0m\u001b[0;34m,\u001b[0m \u001b[0;34m'QTM'\u001b[0m\u001b[0;34m,\u001b[0m \u001b[0mexam_schedule\u001b[0m\u001b[0;34m,\u001b[0m \u001b[0mclass_schedule\u001b[0m\u001b[0;34m)\u001b[0m\u001b[0;34m\u001b[0m\u001b[0m\n\u001b[0m",
      "\u001b[0;32m<ipython-input-61-eb60ae647f49>\u001b[0m in \u001b[0;36mcreate_html\u001b[0;34m(html_file, program, exam_schedule, class_schedule)\u001b[0m\n\u001b[1;32m     38\u001b[0m             \u001b[0mtr\u001b[0m\u001b[0;34m.\u001b[0m\u001b[0mappend\u001b[0m\u001b[0;34m(\u001b[0m\u001b[0mtd\u001b[0m\u001b[0;34m)\u001b[0m\u001b[0;34m\u001b[0m\u001b[0m\n\u001b[1;32m     39\u001b[0m \u001b[0;34m\u001b[0m\u001b[0m\n\u001b[0;32m---> 40\u001b[0;31m     \u001b[0;32mwith\u001b[0m \u001b[0mopen\u001b[0m\u001b[0;34m(\u001b[0m\u001b[0mhtml_file\u001b[0m\u001b[0;34m,\u001b[0m \u001b[0;34m'w'\u001b[0m\u001b[0;34m)\u001b[0m \u001b[0;32mas\u001b[0m \u001b[0mfout\u001b[0m\u001b[0;34m:\u001b[0m\u001b[0;34m\u001b[0m\u001b[0m\n\u001b[0m\u001b[1;32m     41\u001b[0m         \u001b[0mfout\u001b[0m\u001b[0;34m.\u001b[0m\u001b[0mwrite\u001b[0m\u001b[0;34m(\u001b[0m\u001b[0msoup\u001b[0m\u001b[0;34m.\u001b[0m\u001b[0mprettify\u001b[0m\u001b[0;34m(\u001b[0m\u001b[0;34m)\u001b[0m\u001b[0;34m)\u001b[0m\u001b[0;34m\u001b[0m\u001b[0m\n",
      "\u001b[0;31mFileNotFoundError\u001b[0m: [Errno 2] No such file or directory: 'res/qtm.html'"
     ]
    }
   ],
   "source": [
    "create_html('res/qtm.html', 'QTM', exam_schedule, class_schedule)"
   ]
  },
  {
   "cell_type": "code",
   "execution_count": null,
   "metadata": {},
   "outputs": [],
   "source": [
    "s = set([v[0] for k, v in class_schedule.items()])\n",
    "fout = open('qtm.html', 'w')\n",
    "\n",
    "for q in sorted(list(s)):\n",
    "    fout.write('<a href=\"%s.html\">%s</a><br>\\n' % (q.lower(), q))"
   ]
  },
  {
   "cell_type": "code",
   "execution_count": null,
   "metadata": {},
   "outputs": [],
   "source": []
  },
  {
   "cell_type": "code",
   "execution_count": null,
   "metadata": {},
   "outputs": [],
   "source": []
  },
  {
   "cell_type": "code",
   "execution_count": null,
   "metadata": {},
   "outputs": [],
   "source": []
  },
  {
   "cell_type": "code",
   "execution_count": null,
   "metadata": {},
   "outputs": [],
   "source": []
  }
 ],
 "metadata": {
  "kernelspec": {
   "display_name": "Python 3",
   "language": "python",
   "name": "python3"
  },
  "language_info": {
   "codemirror_mode": {
    "name": "ipython",
    "version": 3
   },
   "file_extension": ".py",
   "mimetype": "text/x-python",
   "name": "python",
   "nbconvert_exporter": "python",
   "pygments_lexer": "ipython3",
   "version": "3.6.6"
  }
 },
 "nbformat": 4,
 "nbformat_minor": 2
}
