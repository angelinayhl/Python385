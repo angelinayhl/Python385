{
 "cells": [
  {
   "cell_type": "markdown",
   "metadata": {},
   "source": [
    "# Task\n",
    "\n",
    "The [CSRankings](http://csrankings.org) site provides the ranking of top Computer Science institutes in US by weighting the number of papers published by each institute.\n",
    "Our task is to develop a more insightful ranking system for the specific research field called Natural Language Processing (NLP).\n",
    "\n",
    "![title](res/csrankings.png)"
   ]
  },
  {
   "cell_type": "markdown",
   "metadata": {},
   "source": [
    "# Data Collection\n",
    "\n",
    "Several sites provide databases for publications in Computer Science:\n",
    "\n",
    "* [DBLP](http://dblp.uni-trier.de)\n",
    "* [CiteSeerX](http://citeseerx.ist.psu.edu)\n",
    "* [Google Scholar](https://scholar.google.com)\n",
    "* [Semantic Scholar](https://www.semanticscholar.org) \n",
    "\n",
    "For NLP, there is a site called [ACL Anthology](http://www.aclweb.org/anthology/) providing a large database for peer-reviewed papers in NLP.\n",
    "We use the [BibTex](https://en.wikipedia.org/wiki/BibTeX) files (`*.bib`) and the PDF files (e.g., `*.pdf`) provided by ACL Anthology for ranking top NLP institutes.\n",
    "\n",
    "\n",
    "![title](res/aclanthology.png)"
   ]
  },
  {
   "cell_type": "markdown",
   "metadata": {
    "collapsed": true
   },
   "source": [
    "## Load Map\n",
    "\n",
    "Load [bib_map.tsv](https://github.com/elitcloud/nlp-ranking/blob/master/dat/bib_map.tsv) in the TSV format, where each column contains:\n",
    "\n",
    "* The ID of a conference/journal (e.g., `'P17-1'` &rarr; ACL 2017).\n",
    "* The weight of this conference/journal.\n",
    "* The series of the conference/journal (e.g., ACL: long)."
   ]
  },
  {
   "cell_type": "code",
   "execution_count": 6,
   "metadata": {},
   "outputs": [],
   "source": [
    "from types import SimpleNamespace\n",
    "\n",
    "def load_map(map_file):\n",
    "    \"\"\"\n",
    "    :param map_file: bib_map.tsv\n",
    "    :return: a dictionary where the key is the conference/journal ID and the value is a namespace of (weight, series).\n",
    "    \"\"\"\n",
    "    fin = open(map_file)\n",
    "    d = {}\n",
    "\n",
    "    for i, line in enumerate(fin):\n",
    "        l = line.strip().split('\\t')\n",
    "        if len(l) == 3:\n",
    "            key = l[0]\n",
    "            d[key] = SimpleNamespace(weight=float(l[1]), series=l[2])\n",
    "\n",
    "    return d"
   ]
  },
  {
   "cell_type": "code",
   "execution_count": 7,
   "metadata": {},
   "outputs": [
    {
     "name": "stdout",
     "output_type": "stream",
     "text": [
      "namespace(series='ACL: long', weight=3.0)\n"
     ]
    }
   ],
   "source": [
    "MAP_FILE = '/Users/jdchoi/Git/nlp-ranking/dat/bib_map.tsv'  # change this to your local path\n",
    "bib_map = load_map(MAP_FILE)\n",
    "print(bib_map['P17-1'])"
   ]
  },
  {
   "cell_type": "markdown",
   "metadata": {},
   "source": [
    "## Crawl BibTex Files\n",
    "\n",
    "Crawl BibTex files containing the collections of papers from these conferences/journals."
   ]
  },
  {
   "cell_type": "code",
   "execution_count": 4,
   "metadata": {},
   "outputs": [],
   "source": [
    "import re\n",
    "import os\n",
    "import glob\n",
    "import requests\n",
    "\n",
    "def crawl_aclbib(bib_map, bib_dir):\n",
    "    \"\"\"\n",
    "    Crawl bib files from ACL Anthology.\n",
    "    :param bib_map: the output of load_map().\n",
    "    :param bib_dir: the output directory where the bib files are stored.\n",
    "    \"\"\"\n",
    "    re_bib = re.compile('<a href=\"([A-Z]\\d\\d-\\d\\d\\d\\d\\.bib)\">bib</a>') #extract the conference ID\n",
    "    acl = 'http://www.aclweb.org/anthology'\n",
    "\n",
    "    for k, v in bib_map.items(): # k is the ID and v is the namespace\n",
    "        out = os.path.join(bib_dir, k + '.bib')\n",
    "        if os.path.isfile(out): continue    # skip if already downloaded\n",
    "        fout = open(out, 'w')\n",
    "        print(out)\n",
    "\n",
    "        root_url = os.path.join(acl, k[0], k[:3])            # http://www.aclweb.org/anthology/P/P17\n",
    "        r = requests.get(os.path.join(root_url, k+'.bib'))   # http://www.aclweb.org/anthology/P/P17/P17-1.bib\n",
    "        text = r.text.strip()\n",
    "\n",
    "        if text.startswith('@'):    # bib collection is provided\n",
    "            fout.write(r.text)\n",
    "        else:                       # bib files are provided individually per papers\n",
    "            r = requests.get(root_url)\n",
    "\n",
    "            for bib in re_bib.findall(r.text):\n",
    "                if bib[:6] in bib_map: continue     # skip specially handled workshops (e.g., CoNLL)\n",
    "                rs = requests.get(os.path.join(root_url, bib))\n",
    "                fout.write(rs.text)\n",
    "\n",
    "        fout.close()"
   ]
  },
  {
   "cell_type": "code",
   "execution_count": 5,
   "metadata": {},
   "outputs": [
    {
     "name": "stdout",
     "output_type": "stream",
     "text": [
      "124\n"
     ]
    }
   ],
   "source": [
    "BIB_DIR = '/Users/jdchoi/Git/nlp-ranking/bib/'\n",
    "crawl_aclbib(bib_map, BIB_DIR)\n",
    "print(len(glob.glob(os.path.join(BIB_DIR, '*.bib'))))"
   ]
  },
  {
   "cell_type": "code",
   "execution_count": 3,
   "metadata": {},
   "outputs": [
    {
     "name": "stdout",
     "output_type": "stream",
     "text": [
      "/qtm385/hw2/scr/hw2.py\n"
     ]
    }
   ],
   "source": [
    "import os\n",
    "dir = '/qtm385/hw2'\n",
    "py= 'hw2.py'\n",
    "print(os.path.join(dir, \"scr\", py))"
   ]
  },
  {
   "cell_type": "markdown",
   "metadata": {},
   "source": [
    "Pre-downloaded BibTex files from ACL Anthology can be found here: https://github.com/elitcloud/nlp-ranking/tree/master/bib/"
   ]
  },
  {
   "cell_type": "markdown",
   "metadata": {},
   "source": [
    "## Parse BibTex Files\n",
    "\n",
    "Use [bibtexparser](https://pypi.python.org/pypi/bibtexparser) to parse and collect information from the BibTex files."
   ]
  },
  {
   "cell_type": "code",
   "execution_count": 9,
   "metadata": {},
   "outputs": [],
   "source": [
    "import bibtexparser\n",
    "\n",
    "def get_entry_dict(bib_map, bib_dir):\n",
    "    \"\"\"\n",
    "    :param acl_map: the output of load_map().\n",
    "    :param bib_dir: the input directory where the bib files are stored.\n",
    "    :return: a dictionary where the key is the publication ID (e.g., 'P17-1000') and the value is its bib entry.\n",
    "    \"\"\"\n",
    "    bibs= {}\n",
    "    for k, v in bib_map.items():\n",
    "        fin = open(os.path.join(bib_dir, k+'.bib'))\n",
    "        bib = bibtexparser.loads(fin.read())\n",
    "        bibs.update([(entry['ID'], entry) for entry in bib.entries if 'author' in entry])\n",
    "\n",
    "    return bibs"
   ]
  },
  {
   "cell_type": "code",
   "execution_count": 10,
   "metadata": {},
   "outputs": [
    {
     "name": "stdout",
     "output_type": "stream",
     "text": [
      "16517\n"
     ]
    }
   ],
   "source": [
    "entry_dict = get_entry_dict(bib_map, BIB_DIR)\n",
    "print(len(entry_dict))"
   ]
  },
  {
   "cell_type": "markdown",
   "metadata": {},
   "source": [
    "### Exercise\n",
    "\n",
    "1. Currently, each bib entry consists of the `author` field represented by a string of all authors delimited by `'and'`:\n",
    "```python\n",
    "entry['author'] = 'Choi, Jinho D. and Palmer, Martha'\n",
    "entry['author'] = 'Jinho D. Choi and Martha Palmer'\n",
    "```\n",
    "    Modify `load_bib()` such that the `author` field is represented by a list of author names, where the format of each name follows `'firstname (middlename) lastname'`.\n",
    "```python\n",
    "entry['author'] = ['Jinho D. Choi', 'Martha Palmer']\n",
    "```\n",
    "\n",
    "1. If the weight of the paper is `1.0`, load only ones that have greater or equal to 6 pages (in other words, discard abstract submissions).\n",
    "```python\n",
    "entry['pages'] = '1--10'  # 1st page to 10th page\n",
    "```"
   ]
  },
  {
   "cell_type": "code",
   "execution_count": null,
   "metadata": {
    "collapsed": true
   },
   "outputs": [],
   "source": []
  },
  {
   "cell_type": "code",
   "execution_count": null,
   "metadata": {
    "collapsed": true
   },
   "outputs": [],
   "source": []
  },
  {
   "cell_type": "code",
   "execution_count": null,
   "metadata": {
    "collapsed": true
   },
   "outputs": [],
   "source": []
  },
  {
   "cell_type": "code",
   "execution_count": null,
   "metadata": {
    "collapsed": true
   },
   "outputs": [],
   "source": []
  },
  {
   "cell_type": "code",
   "execution_count": null,
   "metadata": {
    "collapsed": true
   },
   "outputs": [],
   "source": []
  },
  {
   "cell_type": "code",
   "execution_count": 11,
   "metadata": {},
   "outputs": [],
   "source": [
    "def parse_name(name):\n",
    "    if ',' in name:\n",
    "        n = name.split(',')\n",
    "        if len(n) == 2: return n[1].strip()+' '+n[0].strip()\n",
    "    return name"
   ]
  },
  {
   "cell_type": "code",
   "execution_count": 12,
   "metadata": {},
   "outputs": [
    {
     "name": "stdout",
     "output_type": "stream",
     "text": [
      "Jinho D. Choi\n",
      "Jinho D. Choi\n"
     ]
    }
   ],
   "source": [
    "print(parse_name('Choi, Jinho D.'))\n",
    "print(parse_name('Jinho D. Choi'))"
   ]
  },
  {
   "cell_type": "code",
   "execution_count": 13,
   "metadata": {},
   "outputs": [],
   "source": [
    "def get_entry_dict(bib_map, bib_dir):\n",
    "    \"\"\"\n",
    "    :param bib_map: the output of load_map().\n",
    "    :param bib_dir: the input directory where the bib files are stored.\n",
    "    :return: a dictionary where the key is the publication ID (e.g., 'P17-1000') and the value is its bib entry.\n",
    "    \"\"\"\n",
    "    re_pages = re.compile('(\\d+)-{1,2}(\\d+)')\n",
    "\n",
    "    def parse_name(name):\n",
    "        if ',' in name:\n",
    "            n = name.split(',')\n",
    "            if len(n) == 2: return n[1].strip() + ' ' + n[0].strip()\n",
    "        return name\n",
    "\n",
    "    def get(entry, weight, series):\n",
    "        entry['author'] = [parse_name(name) for name in entry['author'].split(' and ')]\n",
    "        entry['weight'] = weight\n",
    "        entry['series'] = series\n",
    "        return entry['ID'], entry\n",
    "\n",
    "    def valid(entry, weight):\n",
    "        if weight == 1.0:\n",
    "            if 'pages' in entry:\n",
    "                m = re_pages.search(entry['pages'])\n",
    "                return m and int(m.group(2)) - int(m.group(1)) > 4\n",
    "            return False\n",
    "\n",
    "        return 'author' in entry\n",
    "\n",
    "    bibs = {}\n",
    "    for k, v in bib_map.items():\n",
    "        fin = open(os.path.join(bib_dir, k+'.bib'))\n",
    "        bib = bibtexparser.loads(fin.read())\n",
    "        bibs.update([get(entry, v.weight, v.series) for entry in bib.entries if valid(entry, v.weight)])\n",
    "\n",
    "    return bibs"
   ]
  },
  {
   "cell_type": "code",
   "execution_count": 14,
   "metadata": {},
   "outputs": [
    {
     "name": "stdout",
     "output_type": "stream",
     "text": [
      "['Henry Y. Chen', 'Ethan Zhou', 'Jinho D. Choi']\n"
     ]
    }
   ],
   "source": [
    "entry_dict = get_entry_dict(bib_map, BIB_DIR)\n",
    "print(entry_dict['K17-1023']['author'])"
   ]
  },
  {
   "cell_type": "markdown",
   "metadata": {},
   "source": [
    "### Exercise\n",
    "\n",
    "Retrieve the list of publications for each author.\n",
    "\n",
    "```python\n",
    "def publications_per_author(entry_dict):\n",
    "    \"\"\"\n",
    "    :param entry_dict: the output of get_entry_dict().\n",
    "    :return: a dictionary where the key is an author name and the value is a list of author's publications.\n",
    "    \"\"\"\n",
    "```"
   ]
  },
  {
   "cell_type": "code",
   "execution_count": null,
   "metadata": {
    "collapsed": true
   },
   "outputs": [],
   "source": []
  },
  {
   "cell_type": "code",
   "execution_count": null,
   "metadata": {
    "collapsed": true
   },
   "outputs": [],
   "source": []
  },
  {
   "cell_type": "code",
   "execution_count": null,
   "metadata": {
    "collapsed": true
   },
   "outputs": [],
   "source": []
  },
  {
   "cell_type": "code",
   "execution_count": null,
   "metadata": {
    "collapsed": true
   },
   "outputs": [],
   "source": []
  },
  {
   "cell_type": "code",
   "execution_count": null,
   "metadata": {
    "collapsed": true
   },
   "outputs": [],
   "source": []
  },
  {
   "cell_type": "code",
   "execution_count": 17,
   "metadata": {
    "scrolled": false
   },
   "outputs": [],
   "source": [
    "def publications_per_author(entry_dict):\n",
    "    \"\"\"\n",
    "    :param entry_dict: the output of get_entry_dict().\n",
    "    :return: a dictionary where the key is an author name and the value is a list of author's publications.\n",
    "    \"\"\"\n",
    "    d = {}\n",
    "\n",
    "    for k, v in entry_dict.items():\n",
    "        author_list = v['author']\n",
    "        for author in author_list:\n",
    "            e = (v['title'], v['year'], v['weight'], len(author_list))\n",
    "            d.setdefault(author, []).append(e)\n",
    "\n",
    "    return d"
   ]
  },
  {
   "cell_type": "code",
   "execution_count": 18,
   "metadata": {},
   "outputs": [
    {
     "name": "stdout",
     "output_type": "stream",
     "text": [
      "('Semantics-based Graph Approach to Complex Question-Answering', '2015', 1.0, 2)\n",
      "('Computational Exploration to Linguistic Structures of Future: Classification and Categorization', '2015', 1.0, 4)\n",
      "('QA-It: Classifying Non-Referential It for Question Answer Pairs', '2016', 1.0, 3)\n",
      "('Dynamic Feature Induction: The Last Gist to the State-of-the-Art', '2016', 3.0, 1)\n",
      "('Character Identification on Multiparty Conversation: Identifying Mentions of Characters in TV Shows', '2016', 1.0, 2)\n",
      "('Text-based Speaker Identification on Multiparty Dialogues Using Multi-document Convolutional Neural Networks', '2017', 1.0, 3)\n",
      "('Robust Coreference Resolution and Entity Linking on Dialogues: Character Identification on TV Show Transcripts', '2017', 2.0, 3)\n",
      "('Improving Document Clustering by Removing Unnatural Language', '2017', 1.0, 3)\n",
      "('Lexicon Integrated CNN Models with Attention for Sentiment Analysis', '2017', 1.0, 3)\n",
      "('Cross-genre Document Retrieval: Matching between Conversational and Formal Writings', '2017', 1.0, 2)\n"
     ]
    }
   ],
   "source": [
    "author_pub = publications_per_author(entry_dict)\n",
    "for t in sorted(author_pub['Jinho D. Choi'], key=lambda x: x[1])[-10:]: print(t) \n",
    "#"
   ]
  },
  {
   "cell_type": "markdown",
   "metadata": {},
   "source": [
    "### Exercise\n",
    "\n",
    "Rank the authors by their publication scores.\n",
    "If weighted, it is the sum of all publication weights; otherwise, it is the total number of publications by the authors.\n",
    "\n",
    "```python\n",
    "def rank_authors_by_publications(author_pub, weighted=True):\n",
    "    \"\"\"\n",
    "    :param author_pub: the output of publications_per_author()\n",
    "    :param weighted: if True, rank the authors by weighted publication scores; otherwise, by publication counts.\n",
    "    :return: the ranked list of authors with their publication scores in descending order.\n",
    "    \"\"\"\n",
    "```"
   ]
  },
  {
   "cell_type": "code",
   "execution_count": null,
   "metadata": {
    "collapsed": true
   },
   "outputs": [],
   "source": [
    "    \n"
   ]
  },
  {
   "cell_type": "code",
   "execution_count": null,
   "metadata": {
    "collapsed": true
   },
   "outputs": [],
   "source": []
  },
  {
   "cell_type": "code",
   "execution_count": null,
   "metadata": {
    "collapsed": true
   },
   "outputs": [],
   "source": []
  },
  {
   "cell_type": "code",
   "execution_count": null,
   "metadata": {
    "collapsed": true
   },
   "outputs": [],
   "source": []
  },
  {
   "cell_type": "code",
   "execution_count": null,
   "metadata": {
    "collapsed": true
   },
   "outputs": [],
   "source": []
  },
  {
   "cell_type": "code",
   "execution_count": 19,
   "metadata": {},
   "outputs": [],
   "source": [
    "def rank_authors_by_publications(author_pub, weighted=True, equal_contribution=True):\n",
    "    \"\"\"\n",
    "    :param author_pub: the output of publications_per_author()\n",
    "    :param weighted: if True, rank the authors by weighted publication scores; otherwise, by publication counts.\n",
    "    :param equal_contribution: if True, the contribution of each paper is equally divided by the # of authors.\n",
    "    :return: the ranked list of authors with their publication scores in descending order.\n",
    "    \"\"\"\n",
    "    def score(pubs):\n",
    "        if equal_contribution:\n",
    "            return sum(pub[2]/pub[3] for pub in pubs) if weighted else sum(1/pub[3] for pub in pubs)\n",
    "        else:\n",
    "            return sum(pub[2] for pub in pubs) if weighted else len(pubs)   # pub[2]: weight\n",
    "\n",
    "    return sorted([(k, score(v)) for k, v in author_pub.items()], key=lambda x: x[1], reverse=True)"
   ]
  },
  {
   "cell_type": "code",
   "execution_count": 20,
   "metadata": {},
   "outputs": [
    {
     "name": "stdout",
     "output_type": "stream",
     "text": [
      "('Pushpak Bhattacharyya', 116)\n",
      "('Chris Dyer', 97)\n",
      "('Iryna Gurevych', 88)\n",
      "('Qun Liu', 87)\n",
      "('Noah A. Smith', 87)\n",
      "('Yang Liu', 82)\n",
      "('Timothy Baldwin', 82)\n",
      "('Ting Liu', 79)\n",
      "('Christopher D. Manning', 70)\n",
      "('Ming Zhou', 69)\n"
     ]
    }
   ],
   "source": [
    "author_ranks = rank_authors_by_publications(author_pub, weighted=False, equal_contribution=False)\n",
    "for t in author_ranks[:10]: print(t)"
   ]
  },
  {
   "cell_type": "code",
   "execution_count": 21,
   "metadata": {},
   "outputs": [
    {
     "name": "stdout",
     "output_type": "stream",
     "text": [
      "('Chris Dyer', 245.0)\n",
      "('Noah A. Smith', 230.0)\n",
      "('Yang Liu', 200.0)\n",
      "('Dan Klein', 196.0)\n",
      "('Qun Liu', 190.0)\n",
      "('Pushpak Bhattacharyya', 185.0)\n",
      "('Christopher D. Manning', 182.0)\n",
      "('Ting Liu', 182.0)\n",
      "('Yue Zhang', 179.0)\n",
      "('Timothy Baldwin', 177.0)\n"
     ]
    }
   ],
   "source": [
    "author_ranks = rank_authors_by_publications(author_pub, weighted=True, equal_contribution=False)\n",
    "for t in author_ranks[:10]: print(t)"
   ]
  },
  {
   "cell_type": "code",
   "execution_count": 22,
   "metadata": {},
   "outputs": [
    {
     "name": "stdout",
     "output_type": "stream",
     "text": [
      "('Dan Klein', 80.25)\n",
      "('Noah A. Smith', 70.29166666666666)\n",
      "('Chris Dyer', 67.38816738816739)\n",
      "('Hinrich Sch\\\\\"{u}tze', 66.33333333333331)\n",
      "('Anders S{\\\\o}gaard', 65.75833333333331)\n",
      "('Mirella Lapata', 64.77857142857142)\n",
      "('Yang Liu', 64.37261904761904)\n",
      "('Iryna Gurevych', 64.34920634920634)\n",
      "('Dan Roth', 63.80000000000001)\n",
      "('Christopher D. Manning', 60.32604966717872)\n"
     ]
    }
   ],
   "source": [
    "author_ranks = rank_authors_by_publications(author_pub, weighted=True, equal_contribution=True)\n",
    "for t in author_ranks[:10]: print(t)"
   ]
  },
  {
   "cell_type": "markdown",
   "metadata": {},
   "source": [
    "### Exercise\n",
    "\n",
    "Plot the publication score for a given author by years.\n",
    "\n",
    "```python\n",
    "def plot_scores_by_year(author_pub, name, weighted=True):\n",
    "    \"\"\"\n",
    "    :param author_pub: the output of the publications_per_author()\n",
    "    :param name: the full name of the author (e.g., Jinho D. Choi)\n",
    "    :param weighted: if True, use weighted publication scores; otherwise,\n",
    "    :return:\n",
    "    \"\"\"\n",
    "```"
   ]
  },
  {
   "cell_type": "code",
   "execution_count": null,
   "metadata": {
    "collapsed": true
   },
   "outputs": [],
   "source": []
  },
  {
   "cell_type": "code",
   "execution_count": null,
   "metadata": {
    "collapsed": true
   },
   "outputs": [],
   "source": []
  },
  {
   "cell_type": "code",
   "execution_count": null,
   "metadata": {
    "collapsed": true
   },
   "outputs": [],
   "source": []
  },
  {
   "cell_type": "code",
   "execution_count": null,
   "metadata": {
    "collapsed": true
   },
   "outputs": [],
   "source": []
  },
  {
   "cell_type": "code",
   "execution_count": null,
   "metadata": {
    "collapsed": true
   },
   "outputs": [],
   "source": []
  },
  {
   "cell_type": "code",
   "execution_count": 23,
   "metadata": {},
   "outputs": [],
   "source": [
    "import matplotlib.pyplot as plt\n",
    "\n",
    "def plot_scores_by_year(author_pub, name, weighted=True):\n",
    "    \"\"\"\n",
    "    :param author_pub: the output of the publications_per_author()\n",
    "    :param name: the full name of the author (e.g., Jinho D. Choi)\n",
    "    :param weighted: if True, use weighted publication scores; otherwise,\n",
    "    :return:\n",
    "    \"\"\"\n",
    "    d = {}\n",
    "    for pub in author_pub[name]:\n",
    "        year = pub[1]\n",
    "        score = pub[2] if weighted else 1\n",
    "        if year in d: d[year] += score\n",
    "        else: d[year] = score\n",
    "\n",
    "    xs, ys = zip(*[(k, v) for k, v in sorted(d.items())])\n",
    "    plt.scatter(xs, ys)\n",
    "    plt.plot(xs, ys)\n",
    "    plt.grid(b='on')\n",
    "    plt.show()"
   ]
  },
  {
   "cell_type": "code",
   "execution_count": 24,
   "metadata": {},
   "outputs": [
    {
     "data": {
      "image/png": "[encoded data removed]",
      "text/plain": [
       "<matplotlib.figure.Figure at 0x10c337240>"
      ]
     },
     "metadata": {},
     "output_type": "display_data"
    }
   ],
   "source": [
    "plot_scores_by_year(author_pub, 'Jinho D. Choi')"
   ]
  },
  {
   "cell_type": "code",
   "execution_count": 25,
   "metadata": {},
   "outputs": [
    {
     "data": {
      "image/png": "[encoded data removed]",
      "text/plain": [
       "<matplotlib.figure.Figure at 0x109345e10>"
      ]
     },
     "metadata": {},
     "output_type": "display_data"
    }
   ],
   "source": [
    "plot_scores_by_year(author_pub, 'Jinho D. Choi', weighted=False)"
   ]
  },
  {
   "cell_type": "markdown",
   "metadata": {},
   "source": [
    "## Download PDF Files\n",
    "\n",
    "Take URLs of the papers from the bib entries.\n",
    "\n",
    "```python\n",
    "def extract_urls(acl_map):\n",
    "    for k, v in acl_map.items():\n",
    "        for entry in v.entries:\n",
    "            url = entry.get('url', entry.get('link', None))\n",
    "            if url is not None: print(url)\n",
    "```"
   ]
  },
  {
   "cell_type": "markdown",
   "metadata": {},
   "source": [
    "## Extract Text from PDF Files\n",
    "\n",
    "Use [pdftotext](https://en.wikipedia.org/wiki/Pdftotext) to extract text from the PDF files.\n",
    "\n",
    "```bash\n",
    "#!/bin/bash\n",
    "IN_DIR=$1\n",
    "\n",
    "for filename in $IN_DIR/*.pdf\n",
    "do\n",
    "    echo $filename\n",
    "    pdftotext $filename\n",
    "done\n",
    "```\n",
    "\n",
    "The pre-extracted text files can be downloaded [here](https://drive.google.com/open?id=16zdXAltl1H8LnXOGT4AIPe9iG8KjKAx5)."
   ]
  },
  {
   "cell_type": "markdown",
   "metadata": {},
   "source": [
    "## Email Extraction\n",
    "\n",
    "Extract email addresses of the authors from the text files.\n",
    "Assume that email addresses are indicated within the first page of each paper.\n",
    "Note that a group of emails can be also indicated (e.g., `{jinho.choi, martha.palmer}@colorado.edu`).\n",
    "\n",
    "### Exercise\n",
    "\n",
    "```python\n",
    "def extract_emails(txt_dir):\n",
    "    \"\"\"\n",
    "    :param txt_dir: the input directory containing all text files.\n",
    "    :return: a dictionary where the key is the publication ID and the value is the list of authors' email addresses.\n",
    "    \"\"\"\n",
    "```"
   ]
  },
  {
   "cell_type": "code",
   "execution_count": null,
   "metadata": {
    "collapsed": true
   },
   "outputs": [],
   "source": [
    "for txt_file in glob.glob(os.path.join(txt_dir, '*.txt')):\n",
    "    fin = open(txt_file)\n",
    "\n",
    "    # read first page\n",
    "    doc = []\n",
    "    n = 0\n",
    "    for line in fin:\n",
    "        line = line.strip()\n",
    "        if line:\n",
    "            doc.append(line)\n",
    "            n += len(line)\n",
    "            if n > 2000: break\n",
    "    doc = ' '.join(doc)\n",
    "\n",
    "    re_email = re.compile('[({\\[]?\\s*([a-z0-9\\.\\-_]+(?:\\s*[,;|]\\s*[a-z0-9\\.\\-_]+)*)\\s*[\\]})]?\\s*@\\s*([a-z0-9\\.\\-_]+\\.[a-z]{2,})')\n",
    "    emails = []\n",
    "    \n",
    "    for m in re_mail(doc):\n",
    "        ids = m[0].replace(';', ',').replace('|', ',')\n",
    "        domain = m[1]\n",
    "        \n",
    "        if ',' in ids:\n",
    "            emails.extend([ID.strip()+'@'+domain for ID in ids.split(',')])\n",
    "        else:\n",
    "            emails.append(id+'@'+domain)\n",
    "    \n",
    "        \n",
    "    \n",
    "    \n",
    "    \n",
    "    fin.close()\n"
   ]
  },
  {
   "cell_type": "code",
   "execution_count": null,
   "metadata": {
    "collapsed": true
   },
   "outputs": [],
   "source": []
  },
  {
   "cell_type": "code",
   "execution_count": null,
   "metadata": {
    "collapsed": true
   },
   "outputs": [],
   "source": []
  },
  {
   "cell_type": "code",
   "execution_count": null,
   "metadata": {
    "collapsed": true
   },
   "outputs": [],
   "source": []
  },
  {
   "cell_type": "code",
   "execution_count": null,
   "metadata": {
    "collapsed": true
   },
   "outputs": [],
   "source": []
  },
  {
   "cell_type": "code",
   "execution_count": 64,
   "metadata": {},
   "outputs": [
    {
     "name": "stdout",
     "output_type": "stream",
     "text": [
      "15594\n"
     ]
    }
   ],
   "source": [
    "def get_email_dict(txt_dir):\n",
    "    \"\"\"\n",
    "    :param txt_dir: the input directory containing all text files.\n",
    "    :return: a dictionary where the key is the publication ID and the value is the list of authors' email addresses.\n",
    "    \"\"\"\n",
    "    def chunk(text_file, page_limit=2000):\n",
    "        fin = codecs.open(text_file, encoding='utf-8')\n",
    "        doc = []\n",
    "        n = 0\n",
    "\n",
    "        for line in fin:\n",
    "            line = line.strip().lower()\n",
    "            if line:\n",
    "                doc.append(line)\n",
    "                n += len(line)\n",
    "                if n > page_limit: break\n",
    "\n",
    "        return ' '.join(doc)\n",
    "\n",
    "    re_email = re.compile('[({\\[]?\\s*([a-z0-9\\.\\-_]+(?:\\s*[,;|]\\s*[a-z0-9\\.\\-_]+)*)\\s*[\\]})]?\\s*@\\s*([a-z0-9\\.\\-_]+\\.[a-z]{2,})')\n",
    "    email_dict = {}\n",
    "\n",
    "    for txt_file in glob.glob(os.path.join(txt_dir, '*.txt')):\n",
    "        try:\n",
    "            doc = chunk(txt_file)\n",
    "        except UnicodeDecodeError:\n",
    "            # print(txt_file)\n",
    "            continue\n",
    "        emails = []\n",
    "\n",
    "        for m in re_email.findall(doc):\n",
    "            ids = m[0].replace(';', ',').replace('|', ',')\n",
    "            domain = m[1]\n",
    "\n",
    "            if ',' in ids:\n",
    "                emails.extend([ID.strip()+'@'+domain for ID in ids.split(',') if ID.strip()])\n",
    "            else:\n",
    "                emails.append(ids+'@'+domain)\n",
    "\n",
    "        if emails:\n",
    "            key = os.path.basename(txt_file)[:-4]\n",
    "            email_dict[key] = emails\n",
    "\n",
    "    return email_dict\n",
    "\n",
    "TXT_DIR = '/Users/jdchoi/Git/nlp-ranking/txt/'            \n",
    "email_dict = get_email_dict(TXT_DIR)\n",
    "print(len(email_dict))"
   ]
  },
  {
   "cell_type": "markdown",
   "metadata": {
    "collapsed": true
   },
   "source": [
    "Create a TSV file where each row represents a paper and each column indicates:\n",
    "\n",
    "* 0: Publication ID.\n",
    "* 1: Total number of the authors.\n",
    "* 2+: list of email addresses."
   ]
  },
  {
   "cell_type": "code",
   "execution_count": 65,
   "metadata": {},
   "outputs": [],
   "source": [
    "def print_emails(entry_dict, email_dict, email_file):\n",
    "    \"\"\"\n",
    "    :param entry_dict: the output of get_entry_dict().\n",
    "    :param email_dict: the output of get_email_dict().\n",
    "    :param email_file: the output file in the TSV format, where each column contains\n",
    "                       (publication ID, the total number of authors, list of email addresses) for each paper.\n",
    "    \"\"\"\n",
    "    fout = open(email_file, 'w')\n",
    "\n",
    "    for k, v in sorted(entry_dict.items()):\n",
    "        n = len(v['author'])\n",
    "        l = [k, str(n)]\n",
    "        if k in email_dict: l.extend(email_dict[k][:n])\n",
    "        fout.write('\\t'.join(l) + '\\n')\n",
    "\n",
    "    fout.close()\n",
    "\n",
    "EMAIL_FILE = '/Users/jdchoi/Git/nlp-ranking/tsv/email_map.tsv'\n",
    "print_emails(entry_dict, email_dict, EMAIL_FILE)"
   ]
  },
  {
   "cell_type": "markdown",
   "metadata": {
    "collapsed": true
   },
   "source": [
    "Pre-generated email file can be found here: [email_map.tsv](https://github.com/emorynlp/nlp-ranking/blob/master/tsv/email_map.tsv)."
   ]
  },
  {
   "cell_type": "markdown",
   "metadata": {},
   "source": [
    "## Institution Matching\n",
    "\n",
    "Read email information from the saved email file"
   ]
  },
  {
   "cell_type": "code",
   "execution_count": 76,
   "metadata": {},
   "outputs": [
    {
     "name": "stdout",
     "output_type": "stream",
     "text": [
      "13879\n"
     ]
    }
   ],
   "source": [
    "def load_emails(email_file):\n",
    "    fin = open(email_file)\n",
    "    d = {}\n",
    "\n",
    "    for line in fin:\n",
    "        l = line.split('\\t')\n",
    "        d[l[0]] = SimpleNamespace(num_authors=int(l[1]), emails=l[2:])\n",
    "    \n",
    "    return d\n",
    "\n",
    "email_dict = load_emails(EMAIL_FILE)\n",
    "print(len(email_dict))"
   ]
  },
  {
   "cell_type": "markdown",
   "metadata": {},
   "source": [
    "Read institution information from [us_universities.tsv](https://github.com/emorynlp/nlp-ranking/blob/master/tsv/us_universities.tsv)."
   ]
  },
  {
   "cell_type": "code",
   "execution_count": 77,
   "metadata": {},
   "outputs": [
    {
     "name": "stdout",
     "output_type": "stream",
     "text": [
      "1923\n"
     ]
    }
   ],
   "source": [
    "def load_institutes(institute_file):\n",
    "    fin = open(institute_file)\n",
    "    d = {}\n",
    "\n",
    "    for line in fin:\n",
    "        l = line.split('\\t')\n",
    "        d[l[1]] = SimpleNamespace(name=l[0], city=l[2], state=l[3])\n",
    "\n",
    "    fin.close()\n",
    "    return d\n",
    "\n",
    "INSTITUTE_FILE = '/Users/jdchoi/Git/nlp-ranking/tsv/us_universities.tsv'\n",
    "institute_dict = load_institutes(INSTITUTE_FILE)\n",
    "print(len(institute_dict))"
   ]
  },
  {
   "cell_type": "markdown",
   "metadata": {},
   "source": [
    "### Exercise\n",
    "\n",
    "```python\n",
    "def match_institutes(email_dict, institute_dict):\n",
    "    \"\"\"\n",
    "    :param email_dict:\n",
    "    :param instutitue_dict:\n",
    "    :return:\n",
    "    \"\"\"\n",
    "```"
   ]
  },
  {
   "cell_type": "code",
   "execution_count": null,
   "metadata": {
    "collapsed": true
   },
   "outputs": [],
   "source": []
  },
  {
   "cell_type": "code",
   "execution_count": null,
   "metadata": {
    "collapsed": true
   },
   "outputs": [],
   "source": []
  },
  {
   "cell_type": "code",
   "execution_count": null,
   "metadata": {
    "collapsed": true
   },
   "outputs": [],
   "source": []
  },
  {
   "cell_type": "code",
   "execution_count": null,
   "metadata": {
    "collapsed": true
   },
   "outputs": [],
   "source": []
  },
  {
   "cell_type": "code",
   "execution_count": null,
   "metadata": {
    "collapsed": true
   },
   "outputs": [],
   "source": []
  },
  {
   "cell_type": "code",
   "execution_count": 81,
   "metadata": {},
   "outputs": [
    {
     "name": "stdout",
     "output_type": "stream",
     "text": [
      "upf.edu\n",
      "upf.edu\n",
      "uiuc.edu\n",
      "uiuc.edu\n",
      "uiuc.edu\n",
      "isi.edu\n",
      "isi.edu\n",
      "isi.edu\n",
      "toronto.edu\n",
      "toronto.edu\n",
      "toronto.edu\n",
      "isi.edu\n",
      "isi.edu\n",
      "upf.edu\n",
      "upf.edu\n",
      "upc.edu\n",
      "upc.edu\n",
      "monash.edu\n",
      "upf.edu\n",
      "upf.edu\n",
      "upf.edu\n",
      "toronto.edu\n",
      "ogi.edu\n",
      "toronto.edu\n",
      "isi.edu\n",
      "edu.edu\n",
      "sharif.edu\n",
      "sharif.edu\n",
      "uky.edu\n",
      "toronto.edu\n",
      "upf.edu\n",
      "upf.edu\n",
      "ohio-state.edu\n",
      "upf.edu\n",
      "upf.edu\n",
      "upf.edu\n",
      "vit.edu\n",
      "wit.edu\n",
      "aub.edu\n",
      "upc.edu\n",
      "upc.edu\n",
      "upf.edu\n",
      "upf.edu\n",
      "toronto.edu\n",
      "toronto.edu\n",
      "upf.edu\n",
      "toronto.edu\n",
      "toronto.edu\n",
      "sharif.edu\n",
      "upf.edu\n",
      "toronto.edu\n",
      "upf.edu\n",
      "upf.edu\n",
      "ub.edu\n",
      "aub.edu\n",
      "upf.edu\n",
      "upf.edu\n",
      "upf.edu\n",
      "toronto.edu\n",
      "isi.edu\n",
      "ohio-state.edu\n",
      "ohio-state.edu\n",
      "ohio-state.edu\n",
      "ohio-state.edu\n",
      "ohio-state.edu\n",
      "uiuc.edu\n",
      "uiuc.edu\n",
      "isi.edu\n",
      "isi.edu\n",
      "toronto.edu\n",
      "isi.edu\n",
      "sastra.edu\n",
      "isi.edu\n",
      "toronto.edu\n",
      "toronto.edu\n",
      "upc.edu\n",
      "upc.edu\n",
      "upc.edu\n",
      "isi.edu\n",
      "isi.edu\n",
      "ohio-state.edu\n",
      "isi.edu\n",
      "isi.edu\n",
      "toronto.edu\n",
      "toronto.edu\n",
      "isi.edu\n",
      "isi.edu\n",
      "isi.edu\n",
      "toronto.edu\n",
      "isi.edu\n",
      "isi.edu\n",
      "toronto.edu\n",
      "ttic.edu\n",
      "isi.edu\n",
      "monash.edu\n",
      "upc.edu\n",
      "upc.edu\n",
      "upf.edu\n",
      "isi.edu\n",
      "isi.edu\n",
      "isi.edu\n",
      "isi.edu\n",
      "isi.edu\n",
      "isi.edu\n",
      "ttic.edu\n",
      "toronto.edu\n",
      "toronto.edu\n",
      "upf.edu\n",
      "upf.edu\n",
      "upf.edu\n",
      "isi.edu\n",
      "isi.edu\n",
      "isi.edu\n",
      "ttic.edu\n",
      "ttic.edu\n",
      "ttic.edu\n",
      "isi.edu\n",
      "isi.edu\n",
      "upf.edu\n",
      "nus.edu\n",
      "upf.edu\n",
      "isi.edu\n",
      "ttic.edu\n",
      "ttic.edu\n",
      "ttic.edu\n",
      "ttic.edu\n",
      "isi.edu\n",
      "isi.edu\n",
      "upf.edu\n",
      "monash.edu\n",
      "ttic.edu\n",
      "ttic.edu\n",
      "neu.edu\n",
      "ohio-state.edu\n",
      "monash.edu\n",
      "monash.edu\n",
      "isi.edu\n",
      "toronto.edu\n",
      "isi.edu\n",
      "toronto.edu\n",
      "upc.edu\n",
      "upc.edu\n",
      "upc.edu\n",
      "toronto.edu\n",
      "upf.edu\n",
      "kit.edu\n",
      "kit.edu\n",
      "postech.edu\n",
      "postech.edu\n",
      "toronto.edu\n",
      "toronto.edu\n",
      "monash.edu\n",
      "monash.edu\n",
      "monash.edu\n",
      "monash.edu\n",
      "tilburguniversity.edu\n",
      "tilburguniversity.edu\n",
      "cmh.edu\n",
      "ttic.edu\n",
      "ttic.edu\n",
      "upf.edu\n",
      "upf.edu\n",
      "upf.edu\n",
      "uoc.edu\n",
      "upc.edu\n",
      "upf.edu\n",
      "sharif.edu\n",
      "ohio-state.edu\n",
      "ohio-state.edu\n",
      "jhuapl.edu\n",
      "jhuapl.edu\n",
      "upc.edu\n",
      "toronto.edu\n",
      "toronto.edu\n",
      "toronto.edu\n",
      "toronto.edu\n",
      "monash.edu\n",
      "aast.edu\n",
      "upf.edu\n",
      "ohio-state.edu\n",
      "monash.edu\n",
      "isi.edu\n",
      "isi.edu\n",
      "isi.edu\n",
      "upf.edu\n",
      "upf.edu\n",
      "isi.edu\n",
      "upc.edu\n",
      "uiuc.edu\n",
      "uiuc.edu\n",
      "uiuc.edu\n",
      "ogi.edu\n",
      "isi.edu\n",
      "ohio-state.edu\n",
      "ohio-state.edu\n",
      "ohio-state.edu\n",
      "ohio-state.edu\n",
      "toronto.edu\n",
      "isi.edu\n",
      "ohio-state.edu\n",
      "ohio-state.edu\n",
      "ohio-state.edu\n",
      "ohio-state.edu\n",
      "isi.edu\n",
      "microsoft.edu\n",
      "toronto.edu\n",
      "kit.edu\n",
      "kit.edu\n",
      "toronto.edu\n",
      "isi.edu\n",
      "isi.edu\n",
      "isi.edu\n",
      "ttic.edu\n",
      "ttic.edu\n",
      "ttic.edu\n",
      "upf.edu\n",
      "ohio-state.edu\n",
      "ohio-state.edu\n",
      "ohio-state.edu\n",
      "isi.edu\n",
      "toronto.edu\n",
      "toronto.edu\n",
      "toronto.edu\n",
      "monash.edu\n",
      "toronto.edu\n",
      "isi.edu\n",
      "isi.edu\n",
      "isi.edu\n",
      "neu.edu\n",
      "upf.edu\n",
      "isi.edu\n",
      "isi.edu\n",
      "isi.edu\n",
      "monash.edu\n",
      "neu.edu\n",
      "upc.edu\n",
      "upc.edu\n",
      "ttic.edu\n",
      "isi.edu\n",
      "monash.edu\n",
      "monash.edu\n",
      "isi.edu\n",
      "isi.edu\n",
      "isi.edu\n",
      "monash.edu\n",
      "isi.edu\n",
      "toronto.edu\n",
      "toronto.edu\n",
      "isi.edu\n",
      "isi.edu\n",
      "kit.edu\n",
      "uiuc.edu\n",
      "uiuc.edu\n",
      "toronto.edu\n",
      "isi.edu\n",
      "isi.edu\n",
      "isi.edu\n",
      "uiuc.edu\n",
      "isi.edu\n",
      "isi.edu\n",
      "toronto.edu\n",
      "isi.edu\n",
      "isi.edu\n",
      "isi.edu\n",
      "isi.edu\n",
      "ogi.edu\n",
      "ogi.edu\n",
      "ogi.edu\n",
      "ohio-state.edu\n",
      "isi.edu\n",
      "isi.edu\n",
      "toronto.edu\n",
      "uiuc.edu\n",
      "uiuc.edu\n",
      "isi.edu\n",
      "isi.edu\n",
      "isi.edu\n",
      "uiuc.edu\n",
      "uiuc.edu\n",
      "isi.edu\n",
      "ogi.edu\n",
      "ogi.edu\n",
      "isi.edu\n",
      "isi.edu\n",
      "isi.edu\n",
      "ogi.edu\n",
      "isi.edu\n",
      "isi.edu\n",
      "isi.edu\n",
      "isi.edu\n",
      "isi.edu\n",
      "isi.edu\n",
      "isi.edu\n",
      "isi.edu\n",
      "ogi.edu\n",
      "ogi.edu\n",
      "monash.edu\n",
      "neu.edu\n",
      "neu.edu\n",
      "neu.edu\n",
      "toronto.edu\n",
      "ttic.edu\n",
      "ttic.edu\n",
      "isi.edu\n",
      "isi.edu\n",
      "ohio-state.edu\n",
      "ohio-state.edu\n",
      "isi.edu\n",
      "upc.edu\n",
      "upc.edu\n",
      "toronto.edu\n",
      "postech.edu\n",
      "monash.edu\n",
      "neu.edu\n",
      "toronto.edu\n",
      "tc.edu\n",
      "postech.edu\n",
      "postech.edu\n",
      "postech.edu\n",
      "kit.edu\n",
      "isi.edu\n",
      "upc.edu\n",
      "upc.edu\n",
      "toronto.edu\n",
      "isi.edu\n",
      "ohio-state.edu\n",
      "ohio-state.edu\n",
      "ttic.edu\n",
      "ohio-state.edu\n",
      "isi.edu\n",
      "toronto.edu\n",
      "isi.edu\n",
      "neu.edu\n",
      "ttic.edu\n",
      "ttic.edu\n",
      "isi.edu\n",
      "postech.edu\n",
      "upc.edu\n",
      "upf.edu\n",
      "neu.edu\n",
      "isi.edu\n",
      "isi.edu\n",
      "isi.edu\n",
      "neu.edu\n",
      "toronto.edu\n",
      "ttic.edu\n",
      "ttic.edu\n",
      "ttic.edu\n",
      "isi.edu\n",
      "isi.edu\n",
      "isi.edu\n",
      "tilburguniversity.edu\n",
      "tilburguniversity.edu\n",
      "isi.edu\n",
      "isi.edu\n",
      "isi.edu\n",
      "isi.edu\n",
      "ohio-state.edu\n",
      "ttic.edu\n",
      "toronto.edu\n",
      "toronto.edu\n",
      "toronto.edu\n",
      "upf.edu\n",
      "upc.edu\n",
      "upf.edu\n",
      "upf.edu\n",
      "upf.edu\n",
      "neu.edu\n",
      "neu.edu\n",
      "neu.edu\n",
      "isi.edu\n",
      "isi.edu\n",
      "ttic.edu\n",
      "neu.edu\n",
      "monash.edu\n",
      "monash.edu\n",
      "isi.edu\n",
      "ttic.edu\n",
      "neu.edu\n",
      "isi.edu\n",
      "isi.edu\n",
      "isi.edu\n",
      "ub.edu\n",
      "ub.edu\n",
      "ub.edu\n",
      "upc.edu\n",
      "upc.edu\n",
      "swarthmore.edu\n",
      "swarthmore.edu\n",
      "upf.edu\n",
      "upc.edu\n",
      "upc.edu\n",
      "upc.edu\n",
      "upc.edu\n",
      "mayo.edu\n",
      "isi.edu\n",
      "isi.edu\n",
      "sabanciuniv.edu\n",
      "sabanciuniv.edu\n",
      "sabanciuniv.edu\n",
      "sabanciuniv.edu\n",
      "upf.edu\n",
      "upf.edu\n",
      "upf.edu\n",
      "amrita.edu\n",
      "upf.edu\n",
      "upf.edu\n",
      "sabanciuniv.edu\n",
      "sabanciuniv.edu\n",
      "sabanciuniv.edu\n",
      "mayo.edu\n",
      "mayo.edu\n",
      "amrita.edu\n",
      "aucegypt.edu\n",
      "upf.edu\n",
      "upf.edu\n",
      "upf.edu\n",
      "amrita.edu\n",
      "ttic.edu\n",
      "ttic.edu\n",
      "sabanciuniv.edu\n",
      "tmc.edu\n",
      "isi.edu\n",
      "aub.edu\n",
      "aub.edu\n",
      "aub.edu\n",
      "aub.edu\n",
      "aub.edu\n",
      "aub.edu\n",
      "aub.edu\n",
      "orst.edu\n",
      "orst.edu\n",
      "orst.edu\n",
      "orst.edu\n",
      "orst.edu\n",
      "isi.edu\n",
      "isi.edu\n",
      "ogi.edu\n",
      "ogi.edu\n",
      "neu.edu\n",
      "upc.edu\n",
      "upc.edu\n",
      "ub.edu\n",
      "toronto.edu\n",
      "isi.edu\n",
      "isi.edu\n",
      "ttic.edu\n",
      "isi.edu\n",
      "isi.edu\n",
      "upf.edu\n",
      "ogi.edu\n",
      "ogi.edu\n",
      "ogi.edu\n",
      "isi.edu\n",
      "isi.edu\n",
      "isi.edu\n",
      "toronto.edu\n",
      "upc.edu\n",
      "isi.edu\n",
      "upmc.edu\n",
      "upf.edu\n",
      "upc.edu\n",
      "upf.edu\n",
      "ohio-state.edu\n",
      "kit.edu\n",
      "kit.edu\n",
      "monash.edu\n",
      "isi.edu\n",
      "isi.edu\n",
      "ogi.edu\n",
      "ogi.edu\n",
      "ogi.edu\n",
      "upf.edu\n",
      "upf.edu\n",
      "upf.edu\n",
      "upf.edu\n",
      "upc.edu\n",
      "upf.edu\n",
      "upf.edu\n",
      "upf.edu\n",
      "gial.edu\n",
      "ohio-state.edu\n",
      "toronto.edu\n",
      "toronto.edu\n",
      "ohio-state.edu\n",
      "toronto.edu\n",
      "toronto.edu\n",
      "isi.edu\n",
      "jhuapl.edu\n",
      "upf.edu\n",
      "upf.edu\n",
      "toronto.edu\n",
      "toronto.edu\n",
      "ohio-state.edu\n",
      "ohio-state.edu\n",
      "ohio-state.edu\n",
      "ohio-state.edu\n",
      "toronto.edu\n",
      "toronto.edu\n",
      "toronto.edu\n",
      "ohio-state.edu\n",
      "neu.edu\n",
      "jhuapl.edu\n",
      "upc.edu\n",
      "upc.edu\n",
      "ohio-state.edu\n",
      "upc.edu\n",
      "upc.edu\n",
      "kit.edu\n",
      "jhuapl.edu\n",
      "monash.edu\n",
      "vit.edu\n",
      "mayo.edu\n",
      "mayo.edu\n",
      "mayo.edu\n",
      "mayo.edu\n",
      "mayo.edu\n",
      "mayo.edu\n",
      "mayo.edu\n",
      "kit.edu\n",
      "kit.edu\n",
      "isi.edu\n",
      "toronto.edu\n",
      "toronto.edu\n",
      "toronto.edu\n",
      "toronto.edu\n",
      "upc.edu\n",
      "upc.edu\n",
      "upc.edu\n",
      "upc.edu\n",
      "upc.edu\n",
      "kit.edu\n",
      "upc.edu\n",
      "upc.edu\n",
      "upc.edu\n",
      "upc.edu\n",
      "toronto.edu\n",
      "isi.edu\n",
      "isi.edu\n",
      "isi.edu\n",
      "toronto.edu\n",
      "kit.edu\n",
      "toronto.edu\n",
      "toronto.edu\n",
      "toronto.edu\n",
      "toronto.edu\n",
      "isi.edu\n",
      "birzeit.edu\n",
      "birzeit.edu\n",
      "eurac.edu\n",
      "eurac.edu\n",
      "upf.edu\n",
      "toronto.edu\n",
      "toronto.edu\n",
      "toronto.edu\n",
      "toronto.edu\n",
      "isi.edu\n",
      "isi.edu\n",
      "isi.edu\n",
      "isi.edu\n",
      "isi.edu\n",
      "toronto.edu\n",
      "toronto.edu\n",
      "kaist.edu\n",
      "toronto.edu\n",
      "toronto.edu\n",
      "monash.edu\n",
      "kit.edu\n",
      "kit.edu\n",
      "ub.edu\n",
      "upc.edu\n",
      "toronto.edu\n",
      "toronto.edu\n",
      "birzeit.edu\n",
      "birzeit.edu\n",
      "birzeit.edu\n",
      "sunysb.edu\n",
      "kit.edu\n",
      "upf.edu\n",
      "upf.edu\n",
      "upf.edu\n",
      "ohio-state.edu\n",
      "toronto.edu\n",
      "toronto.edu\n",
      "toronto.edu\n",
      "ohio-state.edu\n",
      "ohio-state.edu\n",
      "ohio-state.edu\n",
      "isi.edu\n",
      "isi.edu\n",
      "isi.edu\n",
      "isi.edu\n",
      "isi.edu\n",
      "isi.edu\n",
      "upf.edu\n",
      "ohio-state.edu\n",
      "ohio-state.edu\n",
      "upf.edu\n",
      "upf.edu\n",
      "upf.edu\n",
      "ub.edu\n",
      "ub.edu\n",
      "kit.edu\n",
      "kit.edu\n",
      "ub.edu\n",
      "upf.edu\n",
      "upf.edu\n",
      "upf.edu\n",
      "tum.edu\n",
      "upc.edu\n",
      "tmc.edu\n",
      "tmc.edu\n",
      "tmc.edu\n",
      "mayo.edu\n",
      "mayo.edu\n",
      "mayo.edu\n",
      "mayo.edu\n",
      "ohio-state.edu\n",
      "upc.edu\n",
      "upc.edu\n",
      "toronto.edu\n",
      "toronto.edu\n",
      "uoc.edu\n",
      "toronto.edu\n",
      "toronto.edu\n",
      "toronto.edu\n",
      "swarthmore.edu\n",
      "kit.edu\n",
      "kit.edu\n",
      "kit.edu\n",
      "upc.edu\n",
      "upc.edu\n",
      "upc.edu\n",
      "upc.edu\n",
      "upf.edu\n",
      "birzeit.edu\n",
      "birzeit.edu\n",
      "ub.edu\n",
      "monash.edu\n",
      "isi.edu\n",
      "isi.edu\n",
      "neu.edu\n",
      "birzeit.edu\n",
      "birzeit.edu\n",
      "tilburguniversity.edu\n",
      "aub.edu\n",
      "aub.edu\n",
      "aub.edu\n",
      "aub.edu\n",
      "aub.edu\n",
      "ub.edu\n",
      "upf.edu\n",
      "upf.edu\n",
      "isi.edu\n",
      "isi.edu\n",
      "ttic.edu\n",
      "ttic.edu\n",
      "ttic.edu\n",
      "ttic.edu\n",
      "ttic.edu\n",
      "kit.edu\n",
      "kit.edu\n",
      "kit.edu\n",
      "upc.edu\n",
      "tilburguniversity.edu\n",
      "tilburguniversity.edu\n",
      "tilburguniversity.edu\n",
      "tilburguniversity.edu\n",
      "tilburguniversity.edu\n",
      "ttic.edu\n",
      "toronto.edu\n",
      "upf.edu\n",
      "neu.edu\n",
      "isi.edu\n",
      "isi.edu\n",
      "isi.edu\n",
      "isi.edu\n",
      "isi.edu\n",
      "nus.edu\n",
      "upf.edu\n"
     ]
    }
   ],
   "source": [
    "def match_institutes(email_dict, institute_dict):\n",
    "    \"\"\"\n",
    "    :param email_dict:\n",
    "    :param instutitue_dict:\n",
    "    :return:\n",
    "    \"\"\"\n",
    "    for ID, v in email_dict.items():\n",
    "        for email in v.emails:\n",
    "            idx = email.rfind('@')\n",
    "            domain = email[idx+1:]\n",
    "            if domain.endswith('edu') and domain not in institute_dict:\n",
    "                while True:\n",
    "                    fidx = domain.find('.')\n",
    "                    ridx = domain.rfind('.')\n",
    "                    if fidx != ridx: domain = domain[fidx+1:]\n",
    "                    else: break\n",
    "            if domain.endswith('edu') and domain not in institute_dict:\n",
    "                print(domain)\n",
    "                \n",
    "match_institutes(email_dict, institute_dict)"
   ]
  },
  {
   "cell_type": "code",
   "execution_count": null,
   "metadata": {
    "collapsed": true
   },
   "outputs": [],
   "source": []
  }
 ],
 "metadata": {
  "kernelspec": {
   "display_name": "Python 3",
   "language": "python",
   "name": "python3"
  },
  "language_info": {
   "codemirror_mode": {
    "name": "ipython",
    "version": 3
   },
   "file_extension": ".py",
   "mimetype": "text/x-python",
   "name": "python",
   "nbconvert_exporter": "python",
   "pygments_lexer": "ipython3",
   "version": "3.6.6"
  }
 },
 "nbformat": 4,
 "nbformat_minor": 2
}
